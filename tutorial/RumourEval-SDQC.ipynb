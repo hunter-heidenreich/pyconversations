{
 "cells": [
  {
   "cell_type": "code",
   "execution_count": 1,
   "id": "failing-costa",
   "metadata": {},
   "outputs": [],
   "source": [
    "from pyconversations.convo import Conversation\n",
    "from pyconversations.feature_extraction import PostVectorizer\n",
    "\n",
    "from RumourEval import load_rumoureval"
   ]
  },
  {
   "cell_type": "code",
   "execution_count": 2,
   "id": "lyric-london",
   "metadata": {},
   "outputs": [],
   "source": [
    "DATA_PATH = '/Users/hsh28/data/rumoureval2019/'"
   ]
  },
  {
   "cell_type": "code",
   "execution_count": 3,
   "id": "characteristic-nation",
   "metadata": {},
   "outputs": [
    {
     "name": "stderr",
     "output_type": "stream",
     "text": [
      "reading train+dev: 100%|██████████| 5568/5568 [00:05<00:00, 1032.49it/s]\n",
      "reading test: 100%|██████████| 1066/1066 [00:00<00:00, 1412.05it/s]\n",
      "reading train: 100%|██████████| 728/728 [00:04<00:00, 169.26it/s]\n",
      "reading dev: 100%|██████████| 446/446 [00:03<00:00, 140.00it/s]\n",
      "reading test: 100%|██████████| 761/761 [00:03<00:00, 224.84it/s]\n"
     ]
    },
    {
     "data": {
      "text/plain": [
       "8534"
      ]
     },
     "execution_count": 3,
     "metadata": {},
     "output_type": "execute_result"
    }
   ],
   "source": [
    "dataset = load_rumoureval(DATA_PATH)\n",
    "\n",
    "len(dataset.posts)"
   ]
  },
  {
   "cell_type": "code",
   "execution_count": 4,
   "id": "random-blood",
   "metadata": {},
   "outputs": [],
   "source": [
    "def get_split(dataset, split):\n",
    "    return Conversation(posts={pid: dataset.posts[pid] for pid in dataset.filter(by_tags={f'split={split}'})})"
   ]
  },
  {
   "cell_type": "code",
   "execution_count": 5,
   "id": "altered-comment",
   "metadata": {},
   "outputs": [
    {
     "data": {
      "text/plain": [
       "(5217, 1485, 1827)"
      ]
     },
     "execution_count": 5,
     "metadata": {},
     "output_type": "execute_result"
    }
   ],
   "source": [
    "train_split = get_split(dataset, 'TRAIN')\n",
    "dev_split = get_split(dataset, 'DEV')\n",
    "test_split = get_split(dataset, 'TEST')\n",
    "\n",
    "len(train_split.posts), len(dev_split.posts), len(test_split.posts)"
   ]
  },
  {
   "cell_type": "code",
   "execution_count": 6,
   "id": "south-building",
   "metadata": {},
   "outputs": [],
   "source": [
    "vec = PostVectorizer(normalization='standard')"
   ]
  },
  {
   "cell_type": "code",
   "execution_count": 8,
   "id": "vulnerable-engineering",
   "metadata": {},
   "outputs": [
    {
     "name": "stderr",
     "output_type": "stream",
     "text": [
      "PostVec: Fitting by conversations: 100%|██████████| 327/327 [03:27<00:00,  1.58it/s] \n",
      "PostVec: Transforming by conversations: 100%|██████████| 327/327 [03:25<00:00,  1.59it/s] \n"
     ]
    },
    {
     "data": {
      "text/plain": [
       "(5217, 63)"
      ]
     },
     "execution_count": 8,
     "metadata": {},
     "output_type": "execute_result"
    }
   ],
   "source": [
    "# train split\n",
    "train_convos = train_split.segment()\n",
    "\n",
    "vec.fit(train_convos)\n",
    "\n",
    "train_vs = vec.transform(train_convos)\n",
    "train_vs.shape"
   ]
  },
  {
   "cell_type": "code",
   "execution_count": 9,
   "id": "sustainable-gravity",
   "metadata": {},
   "outputs": [
    {
     "name": "stderr",
     "output_type": "stream",
     "text": [
      "PostVec: Transforming by conversations: 100%|██████████| 40/40 [04:28<00:00,  6.70s/it]\n"
     ]
    },
    {
     "data": {
      "text/plain": [
       "(1485, 63)"
      ]
     },
     "execution_count": 9,
     "metadata": {},
     "output_type": "execute_result"
    }
   ],
   "source": [
    "dev_convos = dev_split.segment()\n",
    "\n",
    "dev_vs = vec.transform(dev_convos)\n",
    "dev_vs.shape"
   ]
  },
  {
   "cell_type": "code",
   "execution_count": 10,
   "id": "vital-scanning",
   "metadata": {},
   "outputs": [
    {
     "name": "stderr",
     "output_type": "stream",
     "text": [
      "PostVec: Transforming by conversations: 100%|██████████| 86/86 [05:52<00:00,  4.10s/it]  \n"
     ]
    },
    {
     "data": {
      "text/plain": [
       "(1827, 63)"
      ]
     },
     "execution_count": 10,
     "metadata": {},
     "output_type": "execute_result"
    }
   ],
   "source": [
    "test_convos = test_split.segment()\n",
    "\n",
    "test_vs = vec.transform(test_convos)\n",
    "test_vs.shape"
   ]
  },
  {
   "cell_type": "code",
   "execution_count": null,
   "id": "boolean-discipline",
   "metadata": {},
   "outputs": [],
   "source": []
  },
  {
   "cell_type": "code",
   "execution_count": null,
   "id": "normal-timing",
   "metadata": {},
   "outputs": [],
   "source": []
  }
 ],
 "metadata": {
  "kernelspec": {
   "display_name": "Python 3",
   "language": "python",
   "name": "python3"
  },
  "language_info": {
   "codemirror_mode": {
    "name": "ipython",
    "version": 3
   },
   "file_extension": ".py",
   "mimetype": "text/x-python",
   "name": "python",
   "nbconvert_exporter": "python",
   "pygments_lexer": "ipython3",
   "version": "3.7.6"
  }
 },
 "nbformat": 4,
 "nbformat_minor": 5
}
