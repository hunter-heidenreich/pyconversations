{
 "cells": [
  {
   "cell_type": "markdown",
   "id": "diverse-palestinian",
   "metadata": {},
   "source": [
    "# PyConversations: A Reddit-based Example\n",
    "\n",
    "The following is a tutorial notebook that demonstrates how to use `pyconversations` with Reddit data.\n",
    "\n",
    "The first step will be to obtain some data. In order to do so, you will need to configure a personal application via your Reddit account's [App Preferences](https://www.reddit.com/prefs/apps). You'll want to set up a personal usage script. See the _Getting Access_ portion of [this blog](https://towardsdatascience.com/how-to-use-the-reddit-api-in-python-5e05ddfd1e5c) for additional instructions/visualization."
   ]
  },
  {
   "cell_type": "code",
   "execution_count": 14,
   "id": "complete-analyst",
   "metadata": {},
   "outputs": [],
   "source": [
    "import pprint\n",
    "\n",
    "from pyconversations.convo import Conversation\n",
    "from pyconversations.message import RedditPost"
   ]
  },
  {
   "cell_type": "markdown",
   "id": "opposite-institute",
   "metadata": {},
   "source": [
    "## Data Sample\n",
    "\n",
    "Before demonstating how we can use `pyconversations` for pre-processing and analysis, we need to obtain a data sample. \n",
    "To do so, we'll be using a package called [praw](https://github.com/praw-dev/praw)."
   ]
  },
  {
   "cell_type": "code",
   "execution_count": 1,
   "id": "computational-armor",
   "metadata": {},
   "outputs": [],
   "source": [
    "import praw"
   ]
  },
  {
   "cell_type": "code",
   "execution_count": 2,
   "id": "cleared-briefs",
   "metadata": {},
   "outputs": [],
   "source": [
    "# Private information\n",
    "CLIENT_ID = ''  # this should be the 'personal use script' on your App Preferences\n",
    "SECRET_TOKEN = ''  # this should be the 'secret' on your App Preferences\n",
    "USER_AGENT = ''  # a custom name for your application for the User-Agent parameter in the request headers; gives a brief app description to Reddit"
   ]
  },
  {
   "cell_type": "code",
   "execution_count": 4,
   "id": "unlimited-tennis",
   "metadata": {},
   "outputs": [
    {
     "data": {
      "text/plain": [
       "(<praw.reddit.Reddit at 0x1048c5a10>, True)"
      ]
     },
     "execution_count": 4,
     "metadata": {},
     "output_type": "execute_result"
    }
   ],
   "source": [
    "# configure a read-only praw.Reddit instance\n",
    "reddit = praw.Reddit(\n",
    "    client_id=CLIENT_ID,\n",
    "    client_secret=SECRET_TOKEN,\n",
    "    user_agent=USER_AGENT,\n",
    ")\n",
    "\n",
    "reddit, reddit.read_only"
   ]
  },
  {
   "cell_type": "code",
   "execution_count": 10,
   "id": "linear-mention",
   "metadata": {},
   "outputs": [
    {
     "name": "stdout",
     "output_type": "stream",
     "text": [
      "{'_fetched': True,\n",
      " '_path': 'r/Drexel/',\n",
      " '_reddit': <praw.reddit.Reddit object at 0x1048c5a10>,\n",
      " 'accounts_active': 73,\n",
      " 'accounts_active_is_fuzzed': False,\n",
      " 'active_user_count': 73,\n",
      " 'advertiser_category': 'College / University',\n",
      " 'all_original_content': False,\n",
      " 'allow_chat_post_creation': False,\n",
      " 'allow_discovery': True,\n",
      " 'allow_galleries': True,\n",
      " 'allow_images': True,\n",
      " 'allow_polls': True,\n",
      " 'allow_predictions': False,\n",
      " 'allow_predictions_tournament': False,\n",
      " 'allow_videogifs': True,\n",
      " 'allow_videos': True,\n",
      " 'banner_background_color': '#ffffff',\n",
      " 'banner_background_image': 'https://styles.redditmedia.com/t5_2qh6g/styles/bannerBackgroundImage_250phz39qiw31.jpg?width=4000&s=0738f848906e0a9602210260124eb92e697c33e0',\n",
      " 'banner_img': '',\n",
      " 'banner_size': None,\n",
      " 'can_assign_link_flair': False,\n",
      " 'can_assign_user_flair': True,\n",
      " 'collapse_deleted_comments': False,\n",
      " 'comment_score_hide_mins': 0,\n",
      " 'community_icon': 'https://styles.redditmedia.com/t5_2qh6g/styles/communityIcon_ng3537akpiw31.png?width=256&s=84656ab7e31b475024cab614d246251cdd2fbaf9',\n",
      " 'community_reviewed': True,\n",
      " 'created': 1201305336.0,\n",
      " 'created_utc': 1201276536.0,\n",
      " 'description': '### Welcome\\n'\n",
      "                'Drexel University, Home of the Dragons! A community to '\n",
      "                'discuss academics, career, and campus life located at the '\n",
      "                'Avenue of Technology.\\n'\n",
      "                '\\n'\n",
      "                '#### Discord Server\\n'\n",
      "                '[Want to speak with other Drexel students? Click here to be '\n",
      "                'added to the Drexel Discord '\n",
      "                'server!](https://discord.gg/drexel)\\n'\n",
      "                '\\n'\n",
      "                '#### Drexel Minecraft Server\\n'\n",
      "                'Want to check the Drexel campus virtually in Minecraft? Visit '\n",
      "                'the server at mc.drexeldiscord.com!\\n'\n",
      "                '\\n'\n",
      "                '### Recommended Links\\n'\n",
      "                '#### Official\\n'\n",
      "                '- [Drexel Website](http://www.drexel.edu)\\n'\n",
      "                '- [Drexel Facebook](https://www.facebook.com/drexeluniv/)\\n'\n",
      "                '- [Drexel Twitter](https://twitter.com/drexeluniv)\\n'\n",
      "                '- [Drexel Instagram](https://www.instagram.com/drexeluniv/)\\n'\n",
      "                '- [Term Master Schedule](https://www.drexel.edu/webtms)\\n'\n",
      "                '- [Academic '\n",
      "                'Calendar](http://www.drexel.edu/provost/calendars/)\\n'\n",
      "                '- [Campus '\n",
      "                'Map](http://www.drexel.edu/admissions/visit/directions/map-university-city/)\\n'\n",
      "                '\\n'\n",
      "                '#### Clubs\\n'\n",
      "                '- '\n",
      "                '[DragonLink](https://drexel.campuslabs.com/engage/organizations)\\n'\n",
      "                '- [Campus Activities Board (CAB)](http://www.drexelcab.com/)\\n'\n",
      "                '- [Drexel Undergraduate Student Government Association '\n",
      "                '(USGA)](https://www.drexelusga.com/)\\n'\n",
      "                '- [The DAC Pack!](https://www.facebook.com/dacpack)\\n'\n",
      "                '- [The Triangle](http://thetriangle.org/)\\n'\n",
      "                '- [Drexel Gaming Association '\n",
      "                '(DGA)](https://www.facebook.com/DrexelUnivGaming/)\\n'\n",
      "                \"- [DGA's Discord](https://discord.gg/wMfKTT9mvB)\\n\"\n",
      "                '\\n'\n",
      "                '#### Other\\n'\n",
      "                '- [Koofers](https://www.koofers.com/drexel-university/)\\n'\n",
      "                '- '\n",
      "                '[RateMyProfessors](https://www.ratemyprofessors.com/campusRatings.jsp?sid=1521)\\n'\n",
      "                '- [/r/Philadelphia](/r/philadelphia)\\n'\n",
      "                '\\n'\n",
      "                '### Rules\\n'\n",
      "                '- No harassment, discrimination, or abuse of any kind.\\n'\n",
      "                '- No spam.\\n'\n",
      "                '- No advertising; only items related to Drexel clubs, '\n",
      "                'activities, or similar areas are acceptable.\\n'\n",
      "                '- No NSFW content\\n'\n",
      "                '- No sharing of illegal content; Broad discussion about '\n",
      "                'piracy is allowed. However, sharing pirated content and '\n",
      "                \"circumventing DRM is not allowed. Please see Drexel's \"\n",
      "                '[official '\n",
      "                'policy](https://drexel.edu/it/security/policies-regulations/copyright/).\\n'\n",
      "                '- No sharing of private information\\n'\n",
      "                '- No trolling or heavy politics\\n'\n",
      "                '- Please keep in mind of Academic Dishonesty; Cheating, '\n",
      "                'sharing of answers, and plagiarism is NOT allowed. This '\n",
      "                'includes images of classwork, prior exams, and snippets of '\n",
      "                'code.',\n",
      " 'description_html': '<!-- SC_OFF --><div class=\"md\"><h3>Welcome</h3>\\n'\n",
      "                     '\\n'\n",
      "                     '<p>Drexel University, Home of the Dragons! A community '\n",
      "                     'to discuss academics, career, and campus life located at '\n",
      "                     'the Avenue of Technology.</p>\\n'\n",
      "                     '\\n'\n",
      "                     '<h4>Discord Server</h4>\\n'\n",
      "                     '\\n'\n",
      "                     '<p><a href=\"https://discord.gg/drexel\">Want to speak '\n",
      "                     'with other Drexel students? Click here to be added to '\n",
      "                     'the Drexel Discord server!</a></p>\\n'\n",
      "                     '\\n'\n",
      "                     '<h4>Drexel Minecraft Server</h4>\\n'\n",
      "                     '\\n'\n",
      "                     '<p>Want to check the Drexel campus virtually in '\n",
      "                     'Minecraft? Visit the server at '\n",
      "                     'mc.drexeldiscord.com!</p>\\n'\n",
      "                     '\\n'\n",
      "                     '<h3>Recommended Links</h3>\\n'\n",
      "                     '\\n'\n",
      "                     '<h4>Official</h4>\\n'\n",
      "                     '\\n'\n",
      "                     '<ul>\\n'\n",
      "                     '<li><a href=\"http://www.drexel.edu\">Drexel '\n",
      "                     'Website</a></li>\\n'\n",
      "                     '<li><a '\n",
      "                     'href=\"https://www.facebook.com/drexeluniv/\">Drexel '\n",
      "                     'Facebook</a></li>\\n'\n",
      "                     '<li><a href=\"https://twitter.com/drexeluniv\">Drexel '\n",
      "                     'Twitter</a></li>\\n'\n",
      "                     '<li><a '\n",
      "                     'href=\"https://www.instagram.com/drexeluniv/\">Drexel '\n",
      "                     'Instagram</a></li>\\n'\n",
      "                     '<li><a href=\"https://www.drexel.edu/webtms\">Term Master '\n",
      "                     'Schedule</a></li>\\n'\n",
      "                     '<li><a '\n",
      "                     'href=\"http://www.drexel.edu/provost/calendars/\">Academic '\n",
      "                     'Calendar</a></li>\\n'\n",
      "                     '<li><a '\n",
      "                     'href=\"http://www.drexel.edu/admissions/visit/directions/map-university-city/\">Campus '\n",
      "                     'Map</a></li>\\n'\n",
      "                     '</ul>\\n'\n",
      "                     '\\n'\n",
      "                     '<h4>Clubs</h4>\\n'\n",
      "                     '\\n'\n",
      "                     '<ul>\\n'\n",
      "                     '<li><a '\n",
      "                     'href=\"https://drexel.campuslabs.com/engage/organizations\">DragonLink</a></li>\\n'\n",
      "                     '<li><a href=\"http://www.drexelcab.com/\">Campus '\n",
      "                     'Activities Board (CAB)</a></li>\\n'\n",
      "                     '<li><a href=\"https://www.drexelusga.com/\">Drexel '\n",
      "                     'Undergraduate Student Government Association '\n",
      "                     '(USGA)</a></li>\\n'\n",
      "                     '<li><a href=\"https://www.facebook.com/dacpack\">The DAC '\n",
      "                     'Pack!</a></li>\\n'\n",
      "                     '<li><a href=\"http://thetriangle.org/\">The '\n",
      "                     'Triangle</a></li>\\n'\n",
      "                     '<li><a '\n",
      "                     'href=\"https://www.facebook.com/DrexelUnivGaming/\">Drexel '\n",
      "                     'Gaming Association (DGA)</a></li>\\n'\n",
      "                     '<li><a href=\"https://discord.gg/wMfKTT9mvB\">DGA&#39;s '\n",
      "                     'Discord</a></li>\\n'\n",
      "                     '</ul>\\n'\n",
      "                     '\\n'\n",
      "                     '<h4>Other</h4>\\n'\n",
      "                     '\\n'\n",
      "                     '<ul>\\n'\n",
      "                     '<li><a '\n",
      "                     'href=\"https://www.koofers.com/drexel-university/\">Koofers</a></li>\\n'\n",
      "                     '<li><a '\n",
      "                     'href=\"https://www.ratemyprofessors.com/campusRatings.jsp?sid=1521\">RateMyProfessors</a></li>\\n'\n",
      "                     '<li><a href=\"/r/philadelphia\">/r/Philadelphia</a></li>\\n'\n",
      "                     '</ul>\\n'\n",
      "                     '\\n'\n",
      "                     '<h3>Rules</h3>\\n'\n",
      "                     '\\n'\n",
      "                     '<ul>\\n'\n",
      "                     '<li>No harassment, discrimination, or abuse of any '\n",
      "                     'kind.</li>\\n'\n",
      "                     '<li>No spam.</li>\\n'\n",
      "                     '<li>No advertising; only items related to Drexel clubs, '\n",
      "                     'activities, or similar areas are acceptable.</li>\\n'\n",
      "                     '<li>No NSFW content</li>\\n'\n",
      "                     '<li>No sharing of illegal content; Broad discussion '\n",
      "                     'about piracy is allowed. However, sharing pirated '\n",
      "                     'content and circumventing DRM is not allowed. Please see '\n",
      "                     'Drexel&#39;s <a '\n",
      "                     'href=\"https://drexel.edu/it/security/policies-regulations/copyright/\">official '\n",
      "                     'policy</a>.</li>\\n'\n",
      "                     '<li>No sharing of private information</li>\\n'\n",
      "                     '<li>No trolling or heavy politics</li>\\n'\n",
      "                     '<li>Please keep in mind of Academic Dishonesty; '\n",
      "                     'Cheating, sharing of answers, and plagiarism is NOT '\n",
      "                     'allowed. This includes images of classwork, prior exams, '\n",
      "                     'and snippets of code.</li>\\n'\n",
      "                     '</ul>\\n'\n",
      "                     '</div><!-- SC_ON -->',\n",
      " 'disable_contributor_requests': False,\n",
      " 'display_name': 'Drexel',\n",
      " 'display_name_prefixed': 'r/Drexel',\n",
      " 'emojis_custom_size': None,\n",
      " 'emojis_enabled': False,\n",
      " 'free_form_reports': True,\n",
      " 'has_menu_widget': False,\n",
      " 'header_img': 'https://b.thumbs.redditmedia.com/UH2XypvZdtFhwygHxPdXLI35YCrkDtkLpBj3Xdzo9Yg.png',\n",
      " 'header_size': [120, 40],\n",
      " 'header_title': '',\n",
      " 'hide_ads': False,\n",
      " 'icon_img': '',\n",
      " 'icon_size': None,\n",
      " 'id': '2qh6g',\n",
      " 'is_chat_post_feature_enabled': True,\n",
      " 'is_crosspostable_subreddit': False,\n",
      " 'is_enrolled_in_new_modmail': None,\n",
      " 'key_color': '#a5a4a4',\n",
      " 'lang': 'en',\n",
      " 'link_flair_enabled': True,\n",
      " 'link_flair_position': 'right',\n",
      " 'mobile_banner_image': 'https://styles.redditmedia.com/t5_2qh6g/styles/mobileBannerImage_mb3w6m85qiw31.jpg',\n",
      " 'name': 't5_2qh6g',\n",
      " 'notification_level': None,\n",
      " 'original_content_tag_enabled': False,\n",
      " 'over18': False,\n",
      " 'prediction_leaderboard_entry_type': 'IN_FEED',\n",
      " 'primary_color': '#07294d',\n",
      " 'public_description': 'Drexel University, home of the Drexel Dragons! A '\n",
      "                       'community to discuss academics, career, and campus '\n",
      "                       'life located at the Avenue of Technology.',\n",
      " 'public_description_html': '<!-- SC_OFF --><div class=\"md\"><p>Drexel '\n",
      "                            'University, home of the Drexel Dragons! A '\n",
      "                            'community to discuss academics, career, and '\n",
      "                            'campus life located at the Avenue of '\n",
      "                            'Technology.</p>\\n'\n",
      "                            '</div><!-- SC_ON -->',\n",
      " 'public_traffic': False,\n",
      " 'quarantine': False,\n",
      " 'restrict_commenting': False,\n",
      " 'restrict_posting': True,\n",
      " 'show_media': False,\n",
      " 'show_media_preview': True,\n",
      " 'spoilers_enabled': True,\n",
      " 'submission_type': 'any',\n",
      " 'submit_link_label': '',\n",
      " 'submit_text': \"**If there's a megathread stuck to the top of the subreddit \"\n",
      "                'which is relevant to your post, please post there! There '\n",
      "                'might already be a discussion going on, or your question may '\n",
      "                'have already been answered!**',\n",
      " 'submit_text_html': '<!-- SC_OFF --><div class=\"md\"><p><strong>If there&#39;s '\n",
      "                     'a megathread stuck to the top of the subreddit which is '\n",
      "                     'relevant to your post, please post there! There might '\n",
      "                     'already be a discussion going on, or your question may '\n",
      "                     'have already been answered!</strong></p>\\n'\n",
      "                     '</div><!-- SC_ON -->',\n",
      " 'submit_text_label': '',\n",
      " 'subreddit_type': 'public',\n",
      " 'subscribers': 9606,\n",
      " 'suggested_comment_sort': None,\n",
      " 'title': 'Drexel University',\n",
      " 'url': '/r/Drexel/',\n",
      " 'user_can_flair_in_sr': None,\n",
      " 'user_flair_background_color': None,\n",
      " 'user_flair_css_class': None,\n",
      " 'user_flair_enabled_in_sr': True,\n",
      " 'user_flair_position': 'right',\n",
      " 'user_flair_richtext': [],\n",
      " 'user_flair_template_id': None,\n",
      " 'user_flair_text': None,\n",
      " 'user_flair_text_color': None,\n",
      " 'user_flair_type': 'text',\n",
      " 'user_has_favorited': None,\n",
      " 'user_is_banned': None,\n",
      " 'user_is_contributor': None,\n",
      " 'user_is_moderator': None,\n",
      " 'user_is_muted': None,\n",
      " 'user_is_subscriber': None,\n",
      " 'user_sr_flair_enabled': None,\n",
      " 'user_sr_theme_enabled': True,\n",
      " 'videostream_links_count': 0,\n",
      " 'whitelist_status': 'all_ads',\n",
      " 'wiki_enabled': False,\n",
      " 'wls': 6}\n"
     ]
    }
   ],
   "source": [
    "# obtain a sub-reddit of interest\n",
    "sub_name = 'Drexel'\n",
    "subreddit = reddit.subreddit(sub_name)\n",
    "subreddit.title  # PRAW is lazy so won't request till we ask for an attribute\n",
    "pprint.pprint(vars(subreddit))"
   ]
  },
  {
   "cell_type": "code",
   "execution_count": 11,
   "id": "downtown-corps",
   "metadata": {},
   "outputs": [
    {
     "name": "stdout",
     "output_type": "stream",
     "text": [
      "{'_comments_by_id': {},\n",
      " '_fetched': False,\n",
      " '_reddit': <praw.reddit.Reddit object at 0x1048c5a10>,\n",
      " 'all_awardings': [{'award_sub_type': 'GLOBAL',\n",
      "                    'award_type': 'global',\n",
      "                    'awardings_required_to_grant_benefits': None,\n",
      "                    'coin_price': 80,\n",
      "                    'coin_reward': 0,\n",
      "                    'count': 1,\n",
      "                    'days_of_drip_extension': 0,\n",
      "                    'days_of_premium': 0,\n",
      "                    'description': 'Everything is better with a good hug',\n",
      "                    'end_date': None,\n",
      "                    'giver_coin_reward': 0,\n",
      "                    'icon_format': 'PNG',\n",
      "                    'icon_height': 2048,\n",
      "                    'icon_url': 'https://i.redd.it/award_images/t5_q0gj4/ks45ij6w05f61_oldHugz.png',\n",
      "                    'icon_width': 2048,\n",
      "                    'id': 'award_8352bdff-3e03-4189-8a08-82501dd8f835',\n",
      "                    'is_enabled': True,\n",
      "                    'is_new': False,\n",
      "                    'name': 'Hugz',\n",
      "                    'penny_donate': 0,\n",
      "                    'penny_price': 0,\n",
      "                    'resized_icons': [{'height': 16,\n",
      "                                       'url': 'https://preview.redd.it/award_images/t5_q0gj4/ks45ij6w05f61_oldHugz.png?width=16&height=16&auto=webp&s=73a23bf7f08b633508dedf457f2704c522b94a04',\n",
      "                                       'width': 16},\n",
      "                                      {'height': 32,\n",
      "                                       'url': 'https://preview.redd.it/award_images/t5_q0gj4/ks45ij6w05f61_oldHugz.png?width=32&height=32&auto=webp&s=50f2f16e71d2929e3d7275060af3ad6b851dbfb1',\n",
      "                                       'width': 32},\n",
      "                                      {'height': 48,\n",
      "                                       'url': 'https://preview.redd.it/award_images/t5_q0gj4/ks45ij6w05f61_oldHugz.png?width=48&height=48&auto=webp&s=ca487311563425e195699a4d7e4c57a98cbfde8b',\n",
      "                                       'width': 48},\n",
      "                                      {'height': 64,\n",
      "                                       'url': 'https://preview.redd.it/award_images/t5_q0gj4/ks45ij6w05f61_oldHugz.png?width=64&height=64&auto=webp&s=7b4eedcffb1c09a826e7837532c52979760f1d2b',\n",
      "                                       'width': 64},\n",
      "                                      {'height': 128,\n",
      "                                       'url': 'https://preview.redd.it/award_images/t5_q0gj4/ks45ij6w05f61_oldHugz.png?width=128&height=128&auto=webp&s=e4d5ab237eb71a9f02bb3bf9ad5ee43741918d6c',\n",
      "                                       'width': 128}],\n",
      "                    'resized_static_icons': [{'height': 16,\n",
      "                                              'url': 'https://preview.redd.it/award_images/t5_q0gj4/fpm0r5ryq1361_PolarHugs.png?width=16&height=16&auto=webp&s=69997ace3ef4ffc099b81d774c2c8f1530602875',\n",
      "                                              'width': 16},\n",
      "                                             {'height': 32,\n",
      "                                              'url': 'https://preview.redd.it/award_images/t5_q0gj4/fpm0r5ryq1361_PolarHugs.png?width=32&height=32&auto=webp&s=e9519d1999ef9dce5c8a9f59369cb92f52d95319',\n",
      "                                              'width': 32},\n",
      "                                             {'height': 48,\n",
      "                                              'url': 'https://preview.redd.it/award_images/t5_q0gj4/fpm0r5ryq1361_PolarHugs.png?width=48&height=48&auto=webp&s=f076c6434fb2d2f9075991810fd845c40fa73fc6',\n",
      "                                              'width': 48},\n",
      "                                             {'height': 64,\n",
      "                                              'url': 'https://preview.redd.it/award_images/t5_q0gj4/fpm0r5ryq1361_PolarHugs.png?width=64&height=64&auto=webp&s=85527145e0c4b754306a30df29e584fd16187636',\n",
      "                                              'width': 64},\n",
      "                                             {'height': 128,\n",
      "                                              'url': 'https://preview.redd.it/award_images/t5_q0gj4/fpm0r5ryq1361_PolarHugs.png?width=128&height=128&auto=webp&s=b8843cdf82c3b741d7af057c14076dcd2621e811',\n",
      "                                              'width': 128}],\n",
      "                    'start_date': None,\n",
      "                    'static_icon_height': 2048,\n",
      "                    'static_icon_url': 'https://i.redd.it/award_images/t5_q0gj4/fpm0r5ryq1361_PolarHugs.png',\n",
      "                    'static_icon_width': 2048,\n",
      "                    'subreddit_coin_reward': 0,\n",
      "                    'subreddit_id': None,\n",
      "                    'tiers_by_required_awardings': None}],\n",
      " 'allow_live_comments': True,\n",
      " 'approved_at_utc': None,\n",
      " 'approved_by': None,\n",
      " 'archived': False,\n",
      " 'author': Redditor(name='AstroGnat'),\n",
      " 'author_flair_background_color': None,\n",
      " 'author_flair_css_class': 'textflair',\n",
      " 'author_flair_richtext': [],\n",
      " 'author_flair_template_id': '59c1edbc-5345-11e1-9edb-12313b08a511',\n",
      " 'author_flair_text': 'Alumni | Digital Media',\n",
      " 'author_flair_text_color': 'dark',\n",
      " 'author_flair_type': 'text',\n",
      " 'author_fullname': 't2_3gjpr',\n",
      " 'author_patreon_flair': False,\n",
      " 'author_premium': False,\n",
      " 'awarders': [],\n",
      " 'banned_at_utc': None,\n",
      " 'banned_by': None,\n",
      " 'can_gild': False,\n",
      " 'can_mod_post': False,\n",
      " 'category': None,\n",
      " 'clicked': False,\n",
      " 'comment_limit': 2048,\n",
      " 'comment_sort': 'confidence',\n",
      " 'content_categories': None,\n",
      " 'contest_mode': False,\n",
      " 'created': 1610766836.0,\n",
      " 'created_utc': 1610738036.0,\n",
      " 'discussion_type': None,\n",
      " 'distinguished': 'moderator',\n",
      " 'domain': 'self.Drexel',\n",
      " 'downs': 0,\n",
      " 'edited': False,\n",
      " 'gilded': 0,\n",
      " 'gildings': {},\n",
      " 'hidden': False,\n",
      " 'hide_score': False,\n",
      " 'id': 'ky1j02',\n",
      " 'is_created_from_ads_ui': False,\n",
      " 'is_crosspostable': False,\n",
      " 'is_meta': False,\n",
      " 'is_original_content': False,\n",
      " 'is_reddit_media_domain': False,\n",
      " 'is_robot_indexable': True,\n",
      " 'is_self': True,\n",
      " 'is_video': False,\n",
      " 'likes': None,\n",
      " 'link_flair_background_color': '',\n",
      " 'link_flair_css_class': None,\n",
      " 'link_flair_richtext': [],\n",
      " 'link_flair_text': None,\n",
      " 'link_flair_text_color': 'dark',\n",
      " 'link_flair_type': 'text',\n",
      " 'locked': False,\n",
      " 'media': None,\n",
      " 'media_embed': {},\n",
      " 'media_only': False,\n",
      " 'mod_note': None,\n",
      " 'mod_reason_by': None,\n",
      " 'mod_reason_title': None,\n",
      " 'mod_reports': [],\n",
      " 'name': 't3_ky1j02',\n",
      " 'no_follow': False,\n",
      " 'num_comments': 50,\n",
      " 'num_crossposts': 0,\n",
      " 'num_reports': None,\n",
      " 'over_18': False,\n",
      " 'parent_whitelist_status': 'all_ads',\n",
      " 'permalink': '/r/Drexel/comments/ky1j02/sublet_thread_spring_summer/',\n",
      " 'pinned': False,\n",
      " 'pwls': 6,\n",
      " 'quarantine': False,\n",
      " 'removal_reason': None,\n",
      " 'removed_by': None,\n",
      " 'removed_by_category': None,\n",
      " 'report_reasons': None,\n",
      " 'saved': False,\n",
      " 'score': 21,\n",
      " 'secure_media': None,\n",
      " 'secure_media_embed': {},\n",
      " 'selftext': \"Here's the thread for Spring Summer sublets. Please keep all \"\n",
      "             \"posts related to sublets in this thread, as I'll remove any \"\n",
      "             \"posts that aren't here.\",\n",
      " 'selftext_html': '<!-- SC_OFF --><div class=\"md\"><p>Here&#39;s the thread for '\n",
      "                  'Spring Summer sublets. Please keep all posts related to '\n",
      "                  'sublets in this thread, as I&#39;ll remove any posts that '\n",
      "                  'aren&#39;t here.</p>\\n'\n",
      "                  '</div><!-- SC_ON -->',\n",
      " 'send_replies': False,\n",
      " 'spoiler': False,\n",
      " 'stickied': True,\n",
      " 'subreddit': Subreddit(display_name='Drexel'),\n",
      " 'subreddit_id': 't5_2qh6g',\n",
      " 'subreddit_name_prefixed': 'r/Drexel',\n",
      " 'subreddit_subscribers': 9606,\n",
      " 'subreddit_type': 'public',\n",
      " 'suggested_sort': None,\n",
      " 'thumbnail': '',\n",
      " 'title': 'Sublet Thread - Spring Summer',\n",
      " 'top_awarded_type': None,\n",
      " 'total_awards_received': 1,\n",
      " 'treatment_tags': [],\n",
      " 'ups': 21,\n",
      " 'upvote_ratio': 0.9,\n",
      " 'url': 'https://www.reddit.com/r/Drexel/comments/ky1j02/sublet_thread_spring_summer/',\n",
      " 'user_reports': [],\n",
      " 'view_count': None,\n",
      " 'visited': False,\n",
      " 'whitelist_status': 'all_ads',\n",
      " 'wls': 6}\n"
     ]
    }
   ],
   "source": [
    "# get the top submission via 'hot'\n",
    "top_submission = list(subreddit.hot(limit=1))[0]\n",
    "top_submission.title\n",
    "\n",
    "pprint.pprint(vars(top_submission))"
   ]
  },
  {
   "cell_type": "code",
   "execution_count": 12,
   "id": "global-acoustic",
   "metadata": {},
   "outputs": [
    {
     "name": "stdout",
     "output_type": "stream",
     "text": [
      "53\n",
      "{'_fetched': True,\n",
      " '_reddit': <praw.reddit.Reddit object at 0x1048c5a10>,\n",
      " '_replies': <praw.models.comment_forest.CommentForest object at 0x10493e910>,\n",
      " '_submission': Submission(id='ky1j02'),\n",
      " 'all_awardings': [],\n",
      " 'approved_at_utc': None,\n",
      " 'approved_by': None,\n",
      " 'archived': False,\n",
      " 'associated_award': None,\n",
      " 'author': None,\n",
      " 'author_flair_background_color': '',\n",
      " 'author_flair_css_class': None,\n",
      " 'author_flair_template_id': None,\n",
      " 'author_flair_text': None,\n",
      " 'author_flair_text_color': 'dark',\n",
      " 'awarders': [],\n",
      " 'banned_at_utc': None,\n",
      " 'banned_by': None,\n",
      " 'body': '[deleted]',\n",
      " 'body_html': '<div class=\"md\"><p>[deleted]</p>\\n</div>',\n",
      " 'can_gild': True,\n",
      " 'can_mod_post': False,\n",
      " 'collapsed': False,\n",
      " 'collapsed_because_crowd_control': None,\n",
      " 'collapsed_reason': None,\n",
      " 'comment_type': None,\n",
      " 'controversiality': 0,\n",
      " 'created': 1612919594.0,\n",
      " 'created_utc': 1612890794.0,\n",
      " 'depth': 0,\n",
      " 'distinguished': None,\n",
      " 'downs': 0,\n",
      " 'edited': False,\n",
      " 'gilded': 0,\n",
      " 'gildings': {},\n",
      " 'id': 'gmpta7v',\n",
      " 'is_submitter': False,\n",
      " 'likes': None,\n",
      " 'link_id': 't3_ky1j02',\n",
      " 'locked': False,\n",
      " 'mod_note': None,\n",
      " 'mod_reason_by': None,\n",
      " 'mod_reason_title': None,\n",
      " 'mod_reports': [],\n",
      " 'name': 't1_gmpta7v',\n",
      " 'no_follow': True,\n",
      " 'num_reports': None,\n",
      " 'parent_id': 't3_ky1j02',\n",
      " 'permalink': '/r/Drexel/comments/ky1j02/sublet_thread_spring_summer/gmpta7v/',\n",
      " 'removal_reason': None,\n",
      " 'report_reasons': None,\n",
      " 'saved': False,\n",
      " 'score': 3,\n",
      " 'score_hidden': False,\n",
      " 'send_replies': True,\n",
      " 'stickied': False,\n",
      " 'subreddit': Subreddit(display_name='Drexel'),\n",
      " 'subreddit_id': 't5_2qh6g',\n",
      " 'subreddit_name_prefixed': 'r/Drexel',\n",
      " 'subreddit_type': 'public',\n",
      " 'top_awarded_type': None,\n",
      " 'total_awards_received': 0,\n",
      " 'treatment_tags': [],\n",
      " 'ups': 3,\n",
      " 'user_reports': []}\n"
     ]
    }
   ],
   "source": [
    "# get all the comments on this submission\n",
    "all_comments = top_submission.comments.list()\n",
    "\n",
    "print(len(all_comments))\n",
    "\n",
    "all_comments[0].score\n",
    "pprint.pprint(vars(all_comments[0]))"
   ]
  },
  {
   "cell_type": "markdown",
   "id": "protective-label",
   "metadata": {},
   "source": [
    "## Integration with `pyconversations`\n",
    "\n",
    "All that's left to do is plug our data directly into `pyconversations`!"
   ]
  },
  {
   "cell_type": "code",
   "execution_count": 22,
   "id": "desirable-trigger",
   "metadata": {},
   "outputs": [],
   "source": [
    "# construct a conversation container\n",
    "conv = Conversation()"
   ]
  },
  {
   "cell_type": "code",
   "execution_count": 23,
   "id": "compact-politics",
   "metadata": {},
   "outputs": [
    {
     "data": {
      "text/plain": [
       "UniMessage(Reddit::AstroGnat::2021-01-15 22:13:56::Sublet Thread - Spring Summer: Here's the thread f::tags=)"
      ]
     },
     "execution_count": 23,
     "metadata": {},
     "output_type": "execute_result"
    }
   ],
   "source": [
    "# parse our root submission\n",
    "cons_params = {\n",
    "    'platform': 'Reddit',  # what platform this data is from\n",
    "    'lang_detect': True,  # whethher to enable the language detection module on the txt\n",
    "    'uid': top_submission.id,  # the unique identifier of the post\n",
    "    'author': top_submission.author.name if top_submission.author is not None else None,  # name of user\n",
    "    'created_at': RedditPost.parse_datestr(top_submission.created),  # creation timestamp\n",
    "    'text': (top_submission.title + ': ' + top_submission.selftext).strip()  # text of post\n",
    "}\n",
    "top_post = RedditPost(**cons_params)\n",
    "top_post"
   ]
  },
  {
   "cell_type": "code",
   "execution_count": 24,
   "id": "maritime-signal",
   "metadata": {},
   "outputs": [],
   "source": [
    "# add our post to the conversation\n",
    "conv.add_post(top_post)"
   ]
  },
  {
   "cell_type": "code",
   "execution_count": 25,
   "id": "religious-enterprise",
   "metadata": {},
   "outputs": [
    {
     "data": {
      "text/plain": [
       "{'ky1j02': UniMessage(Reddit::AstroGnat::2021-01-15 22:13:56::Sublet Thread - Spring Summer: Here's the thread f::tags=)}"
      ]
     },
     "execution_count": 25,
     "metadata": {},
     "output_type": "execute_result"
    }
   ],
   "source": [
    "# which we can easily access via the .posts property, to verify inclusion\n",
    "conv.posts"
   ]
  },
  {
   "cell_type": "code",
   "execution_count": 27,
   "id": "particular-share",
   "metadata": {},
   "outputs": [
    {
     "data": {
      "text/plain": [
       "54"
      ]
     },
     "execution_count": 27,
     "metadata": {},
     "output_type": "execute_result"
    }
   ],
   "source": [
    "# iterate through comments and add them to the conversation\n",
    "for com in all_comments:\n",
    "    conv.add_post(RedditPost(**{\n",
    "        'platform': 'Reddit',  # what platform this data is from\n",
    "        'lang_detect': True,  # whethher to enable the language detection module on the txt\n",
    "        'uid': com.id,  # the unique identifier of the post\n",
    "        'author': com.author.name if com.author is not None else None,  # name of user\n",
    "        'created_at': RedditPost.parse_datestr(com.created),  # creation timestamp\n",
    "        'text': com.body.strip(),  # text of post\n",
    "        'reply_to': {com.parent_id.replace('t1_', '').replace('t3_', '')}  # set of IDs replied to\n",
    "    }))\n",
    "\n",
    "conv.messages"
   ]
  },
  {
   "cell_type": "markdown",
   "id": "boolean-framework",
   "metadata": {},
   "source": [
    "### Sub-Conversation Segmentation"
   ]
  },
  {
   "cell_type": "code",
   "execution_count": 28,
   "id": "imposed-westminster",
   "metadata": {},
   "outputs": [
    {
     "data": {
      "text/plain": [
       "1"
      ]
     },
     "execution_count": 28,
     "metadata": {},
     "output_type": "execute_result"
    }
   ],
   "source": [
    "# seperate disjoint conversations (there is likely just the one with a full query from the site...)\n",
    "segs = conv.segment()\n",
    "\n",
    "len(segs)"
   ]
  },
  {
   "cell_type": "markdown",
   "id": "binding-evans",
   "metadata": {},
   "source": [
    "### (Detected) Language Distribution"
   ]
  },
  {
   "cell_type": "code",
   "execution_count": 29,
   "id": "swedish-plant",
   "metadata": {},
   "outputs": [
    {
     "data": {
      "text/plain": [
       "Counter({'en': 51, 'und': 3})"
      ]
     },
     "execution_count": 29,
     "metadata": {},
     "output_type": "execute_result"
    }
   ],
   "source": [
    "from collections import Counter\n",
    "\n",
    "lang_dist = Counter([post.lang for post in conv.posts.values()])\n",
    "lang_dist"
   ]
  },
  {
   "cell_type": "markdown",
   "id": "lightweight-spring",
   "metadata": {},
   "source": [
    "### Conversation-Level Redaction\n",
    "\n",
    "Using `Conversation.redact()` produces a thread that is cleaned of user-specific information. \n",
    "This is conversationally-scoped, so all usernames are first enumerated (either from author names or from in-text reference for Reddit and Twitter) and then user mentions (and author names) are replaced by `USER{\\d}` where `{\\d}` is the integer assigned to that username during the enumeration stage.\n",
    "\n",
    "Here's a demonstration:"
   ]
  },
  {
   "cell_type": "code",
   "execution_count": 30,
   "id": "roman-station",
   "metadata": {},
   "outputs": [
    {
     "data": {
      "text/plain": [
       "(45,\n",
       " {'ADecentURL',\n",
       "  'Active-Recipe-1681',\n",
       "  'AstroGnat',\n",
       "  'Coolkidinvestor',\n",
       "  'Dysepher',\n",
       "  'Environmental-Ant154',\n",
       "  'Icy-Enthusiasm6983',\n",
       "  'Jodinajo',\n",
       "  'Mars_Tsar',\n",
       "  'MrDrTurtl3475',\n",
       "  'MustacheCash_Stash',\n",
       "  'No-Mathematician4625',\n",
       "  None,\n",
       "  'RafsVeryOwn',\n",
       "  'Revolutionary-Cry314',\n",
       "  'Sad-Lampshade',\n",
       "  'Spartacous1991',\n",
       "  'SupermarketHour944',\n",
       "  'Theregoesbird',\n",
       "  'Tricky-Bet7267',\n",
       "  'ZydecoVivo',\n",
       "  'aant1100',\n",
       "  'ambererich',\n",
       "  'androserea',\n",
       "  'anurag19031998',\n",
       "  'ariella2020',\n",
       "  'bored-af-nerd',\n",
       "  'caaaaaaaaaaaaaaaarl',\n",
       "  'cantrelate123456',\n",
       "  'cherryblossoms321',\n",
       "  'dsbuddy',\n",
       "  'emoney1920',\n",
       "  'fluffybeluga10',\n",
       "  'gorillagripgirl',\n",
       "  'halfbakedrealness',\n",
       "  'jserrr',\n",
       "  'jule11a',\n",
       "  'machinaOverlord',\n",
       "  'mcat-2105',\n",
       "  'nathaling',\n",
       "  'rugrus_andrew',\n",
       "  'ruhanikenguru',\n",
       "  'somnus12345',\n",
       "  'ssjmac',\n",
       "  'vyha1821'})"
      ]
     },
     "execution_count": 30,
     "metadata": {},
     "output_type": "execute_result"
    }
   ],
   "source": [
    "# pre-redaction \n",
    "names = {post.author for post in conv.posts.values()}\n",
    "len(names), names"
   ]
  },
  {
   "cell_type": "code",
   "execution_count": 31,
   "id": "colonial-philip",
   "metadata": {},
   "outputs": [],
   "source": [
    "# redaction step\n",
    "conv.redact()"
   ]
  },
  {
   "cell_type": "code",
   "execution_count": 32,
   "id": "productive-tuning",
   "metadata": {},
   "outputs": [
    {
     "data": {
      "text/plain": [
       "(45,\n",
       " {None,\n",
       "  'USER0',\n",
       "  'USER1',\n",
       "  'USER10',\n",
       "  'USER11',\n",
       "  'USER12',\n",
       "  'USER13',\n",
       "  'USER14',\n",
       "  'USER15',\n",
       "  'USER16',\n",
       "  'USER17',\n",
       "  'USER18',\n",
       "  'USER19',\n",
       "  'USER2',\n",
       "  'USER20',\n",
       "  'USER21',\n",
       "  'USER22',\n",
       "  'USER23',\n",
       "  'USER24',\n",
       "  'USER25',\n",
       "  'USER26',\n",
       "  'USER27',\n",
       "  'USER28',\n",
       "  'USER29',\n",
       "  'USER3',\n",
       "  'USER30',\n",
       "  'USER31',\n",
       "  'USER32',\n",
       "  'USER33',\n",
       "  'USER34',\n",
       "  'USER35',\n",
       "  'USER36',\n",
       "  'USER37',\n",
       "  'USER38',\n",
       "  'USER39',\n",
       "  'USER4',\n",
       "  'USER40',\n",
       "  'USER41',\n",
       "  'USER42',\n",
       "  'USER43',\n",
       "  'USER5',\n",
       "  'USER6',\n",
       "  'USER7',\n",
       "  'USER8',\n",
       "  'USER9'})"
      ]
     },
     "execution_count": 32,
     "metadata": {},
     "output_type": "execute_result"
    }
   ],
   "source": [
    "# post-redaction\n",
    "names = {post.author for post in conv.posts.values()}\n",
    "len(names), names"
   ]
  },
  {
   "cell_type": "markdown",
   "id": "beginning-penguin",
   "metadata": {},
   "source": [
    "### Saving and Loading from the universal format"
   ]
  },
  {
   "cell_type": "code",
   "execution_count": 34,
   "id": "forbidden-commercial",
   "metadata": {},
   "outputs": [],
   "source": [
    "import json"
   ]
  },
  {
   "cell_type": "code",
   "execution_count": 35,
   "id": "selected-bunny",
   "metadata": {},
   "outputs": [],
   "source": [
    "# saving a conversation to disk\n",
    "# alternatively: save as a JSONLine file, where each line is a conversation!\n",
    "json.dump(conv.to_json(), open('reddit_conv.json', 'w+'))"
   ]
  },
  {
   "cell_type": "code",
   "execution_count": 37,
   "id": "satellite-midwest",
   "metadata": {},
   "outputs": [
    {
     "data": {
      "text/plain": [
       "54"
      ]
     },
     "execution_count": 37,
     "metadata": {},
     "output_type": "execute_result"
    }
   ],
   "source": [
    "# reloading directly from the JSON\n",
    "conv_reloaded = Conversation.from_json(json.load(open('reddit_conv.json')), RedditPost)\n",
    "conv_reloaded.messages"
   ]
  },
  {
   "cell_type": "markdown",
   "id": "seasonal-discharge",
   "metadata": {},
   "source": [
    "### Properties for Analysis"
   ]
  },
  {
   "cell_type": "code",
   "execution_count": 38,
   "id": "scientific-grain",
   "metadata": {},
   "outputs": [
    {
     "data": {
      "text/plain": [
       "54"
      ]
     },
     "execution_count": 38,
     "metadata": {},
     "output_type": "execute_result"
    }
   ],
   "source": [
    "conv.messages  # number of messages in the conversation"
   ]
  },
  {
   "cell_type": "code",
   "execution_count": 39,
   "id": "revised-bathroom",
   "metadata": {},
   "outputs": [
    {
     "data": {
      "text/plain": [
       "53"
      ]
     },
     "execution_count": 39,
     "metadata": {},
     "output_type": "execute_result"
    }
   ],
   "source": [
    "conv.connections  # number of reply connections"
   ]
  },
  {
   "cell_type": "code",
   "execution_count": 40,
   "id": "light-transfer",
   "metadata": {},
   "outputs": [
    {
     "data": {
      "text/plain": [
       "45"
      ]
     },
     "execution_count": 40,
     "metadata": {},
     "output_type": "execute_result"
    }
   ],
   "source": [
    "conv.users  # number of unique users"
   ]
  },
  {
   "cell_type": "code",
   "execution_count": 41,
   "id": "periodic-broad",
   "metadata": {},
   "outputs": [
    {
     "data": {
      "text/plain": [
       "15718"
      ]
     },
     "execution_count": 41,
     "metadata": {},
     "output_type": "execute_result"
    }
   ],
   "source": [
    "conv.chars  # character size of the entire conversation"
   ]
  },
  {
   "cell_type": "code",
   "execution_count": 44,
   "id": "eligible-vaccine",
   "metadata": {},
   "outputs": [
    {
     "data": {
      "text/plain": [
       "6194"
      ]
     },
     "execution_count": 44,
     "metadata": {},
     "output_type": "execute_result"
    }
   ],
   "source": [
    "conv.tokens  # length of conversation, in tokens"
   ]
  },
  {
   "cell_type": "code",
   "execution_count": 45,
   "id": "loving-democracy",
   "metadata": {},
   "outputs": [
    {
     "data": {
      "text/plain": [
       "853"
      ]
     },
     "execution_count": 45,
     "metadata": {},
     "output_type": "execute_result"
    }
   ],
   "source": [
    "conv.token_types  # number of unique tokens used in convo"
   ]
  },
  {
   "cell_type": "code",
   "execution_count": 46,
   "id": "latest-boards",
   "metadata": {},
   "outputs": [
    {
     "data": {
      "text/plain": [
       "{'ky1j02'}"
      ]
     },
     "execution_count": 46,
     "metadata": {},
     "output_type": "execute_result"
    }
   ],
   "source": [
    "conv.sources  # IDs of source messages (messages without a reply action, messages that originate dialog)"
   ]
  },
  {
   "cell_type": "code",
   "execution_count": 47,
   "id": "racial-illustration",
   "metadata": {},
   "outputs": [
    {
     "data": {
      "text/plain": [
       "0.037037037037037035"
      ]
     },
     "execution_count": 47,
     "metadata": {},
     "output_type": "execute_result"
    }
   ],
   "source": [
    "conv.density  # density of the conversation, when represented as a graph"
   ]
  },
  {
   "cell_type": "code",
   "execution_count": 50,
   "id": "several-myanmar",
   "metadata": {},
   "outputs": [
    {
     "data": {
      "text/plain": [
       "[0,\n",
       " 42,\n",
       " 8,\n",
       " 3,\n",
       " 0,\n",
       " 0,\n",
       " 0,\n",
       " 0,\n",
       " 0,\n",
       " 0,\n",
       " 0,\n",
       " 0,\n",
       " 0,\n",
       " 0,\n",
       " 0,\n",
       " 0,\n",
       " 0,\n",
       " 0,\n",
       " 0,\n",
       " 0,\n",
       " 0,\n",
       " 0,\n",
       " 0,\n",
       " 0,\n",
       " 0,\n",
       " 0,\n",
       " 0,\n",
       " 0,\n",
       " 0,\n",
       " 0,\n",
       " 0,\n",
       " 0,\n",
       " 0,\n",
       " 0,\n",
       " 0,\n",
       " 0,\n",
       " 0,\n",
       " 0,\n",
       " 0,\n",
       " 1]"
      ]
     },
     "execution_count": 50,
     "metadata": {},
     "output_type": "execute_result"
    }
   ],
   "source": [
    "conv.degree_hist  # Returns the degree (# of replies received) histogram of this conversation"
   ]
  },
  {
   "cell_type": "code",
   "execution_count": 51,
   "id": "concrete-pepper",
   "metadata": {},
   "outputs": [
    {
     "data": {
      "text/plain": [
       "3"
      ]
     },
     "execution_count": 51,
     "metadata": {},
     "output_type": "execute_result"
    }
   ],
   "source": [
    "conv.tree_depth  # height of the conversational tree"
   ]
  },
  {
   "cell_type": "code",
   "execution_count": 52,
   "id": "failing-connection",
   "metadata": {},
   "outputs": [
    {
     "data": {
      "text/plain": [
       "39"
      ]
     },
     "execution_count": 52,
     "metadata": {},
     "output_type": "execute_result"
    }
   ],
   "source": [
    "conv.tree_width  # width of a depth level is the # of posts at that depth level (distance from source), tree width is the max width of any depth level"
   ]
  },
  {
   "cell_type": "code",
   "execution_count": 53,
   "id": "incorrect-tribe",
   "metadata": {},
   "outputs": [
    {
     "data": {
      "text/plain": [
       "(datetime.datetime(2021, 1, 15, 22, 13, 56),\n",
       " datetime.datetime(2021, 6, 26, 2, 24, 27),\n",
       " 13925431.0)"
      ]
     },
     "execution_count": 53,
     "metadata": {},
     "output_type": "execute_result"
    }
   ],
   "source": [
    "conv.start_time, conv.end_time, conv.duration  # time-related properties of the conversation"
   ]
  },
  {
   "cell_type": "code",
   "execution_count": 56,
   "id": "wooden-eight",
   "metadata": {},
   "outputs": [
    {
     "data": {
      "text/plain": [
       "[1610766836.0,\n",
       " 1610776960.0,\n",
       " 1611091403.0,\n",
       " 1611821533.0,\n",
       " 1612576845.0,\n",
       " 1612609103.0,\n",
       " 1612700963.0,\n",
       " 1612919594.0,\n",
       " 1612920076.0,\n",
       " 1613366588.0,\n",
       " 1613710652.0,\n",
       " 1613733214.0,\n",
       " 1613822136.0,\n",
       " 1613990538.0,\n",
       " 1614127850.0,\n",
       " 1614133364.0,\n",
       " 1614291198.0,\n",
       " 1614329240.0,\n",
       " 1614766876.0,\n",
       " 1614831504.0,\n",
       " 1614990207.0,\n",
       " 1614990487.0,\n",
       " 1614990614.0,\n",
       " 1615008458.0,\n",
       " 1615014199.0,\n",
       " 1615014340.0,\n",
       " 1615074270.0,\n",
       " 1615328796.0,\n",
       " 1615413147.0,\n",
       " 1615544908.0,\n",
       " 1615610208.0,\n",
       " 1615687393.0,\n",
       " 1616625364.0,\n",
       " 1616642294.0,\n",
       " 1616979001.0,\n",
       " 1616987414.0,\n",
       " 1617059352.0,\n",
       " 1617450778.0,\n",
       " 1617753443.0,\n",
       " 1618916480.0,\n",
       " 1619494051.0,\n",
       " 1619687623.0,\n",
       " 1620259295.0,\n",
       " 1621052070.0,\n",
       " 1621172220.0,\n",
       " 1621764025.0,\n",
       " 1622192369.0,\n",
       " 1622942841.0,\n",
       " 1622952037.0,\n",
       " 1623118670.0,\n",
       " 1623657263.0,\n",
       " 1624192319.0,\n",
       " 1624338889.0,\n",
       " 1624688667.0]"
      ]
     },
     "execution_count": 56,
     "metadata": {},
     "output_type": "execute_result"
    }
   ],
   "source": [
    "conv.time_series  # times of posting, in order"
   ]
  },
  {
   "cell_type": "code",
   "execution_count": 57,
   "id": "absolute-support",
   "metadata": {},
   "outputs": [
    {
     "data": {
      "text/plain": [
       "[\"Sublet Thread - Spring Summer: Here's the thread for Spring Summer sublets. Please keep all posts related to sublets in this thread, as I'll remove any posts that aren't here.\",\n",
       " 'My roommate and I are looking to sublet our apartment for the rest of our lease (ends in August 2021 with option for you to renew). 2 bed. 1 bath. Located at 36th & Hamilton. Total rent is $1850 per month plus utilities. Very large ~1200 sqft apartment on the ground floor with a cute backyard. Pet friendly. \\n\\nDM me for questions or more info.',\n",
       " '[deleted]',\n",
       " 'Hiya everyone! I am currently looking to relet my apartment spot at University Crossings. It is a 2 bedroom with 2 people per room, 2 bathrooms and is furnished. The specific room plan is called 2 bed-2 bath C Double standard twin. Currently, there are 3 other guys in the apartment. The lease would be from March end to Sep 2021. The lease can also be ended for reasons pertaining to co-op (is co-op friendly). The apartment is super close to many of the academic buildings on campus, restaurants, Amtrak, Megabus etc. Please DM me if you are interested!\\n\\n\\nRent is 899 a month.',\n",
       " '2 beds sublet available in this beautiful, 3 bed 1.5 townhome in Manayunk/Roxborough! Available ideally for a March 1st move in, but that date is negotiable!\\n\\nMy partner and I need to move quickly due to some unforeseen work circumstances, and we are looking to sublet our two rooms in our townhome! Available rooms are the Master, at $700/month and the 2nd bedroom/Office Space at $600/month. Big backyard, dogs and cats allowed, fun spacious kitchen with stovetop island, and huge front and living room space!\\n\\nWe truly love this home, and we hope you will too! DM me for more information',\n",
       " 'On Lancaster Ave 3643,   \\nSubletting 1 private bedroom with bed and desk, 1 private bathroom, 1 balcony upstairs and shared kitchen, living room, indoor washing/washer with 2 other tenants downstairs. \\n\\nStarting around flexible date March 20th- March30th until late September for a period of 6 months, I wish for the option to relet during late September. \\n\\nThe place is a 3 min walk to Drexel, surrounded by restaurants, boba tea shop and other fantastic amenities. Roommates are all very friendly and communicative. Utilities are gas, electric and wifi all shared.\\n\\nPlease contact me for more information, thanks!',\n",
       " 'Hey, I have a room available for sublease on 34th St.! It’s a 3 bedroom/2 bathroom apartment. There are currently two Drexel students living there. The living area is furnished, but the bedroom is not. There is a full kitchen and in unit laundry. The rent will be $600 for the one room. Please send me a message if you’re interested! I’d be happy to share pictures and videos of the space.',\n",
       " '[deleted]',\n",
       " 'Sounds interesting',\n",
       " 'Roommate and I looking to sublet our apartment at The Carriage House/Courts for the spring and summer. Two bed one bath full kitchen and a shared balcony. Rent is around $1800 a month',\n",
       " 'Looking to sublet an apartment for the Spring and Summer terms:\\n\\n$750/month\\n\\n3329-R Powelton Avenue, Philadelphia PA, 19104 (34th and Powelton Ave)\\n\\n2 stories with high ceilings\\n\\nSublet room on 2nd floor, desk and bed included\\n\\n3 male Drexel CS roommates\\n\\nFenced backyard with seating\\n\\nDog friendly\\n\\n1800 sqft\\n\\nDishwasher, Disposal, Dryer, Washer, Oven, Refrigerator, Microwave available\\n\\nUtilities include gas, electric, and internet (Ethernet available) \\\\~$50\\n\\nListing Links: [https://www.trulia.com/p/pa/philadelphia/3329-powelton-ave-rear1-philadelphia-pa-19104--2355021667](https://www.trulia.com/p/pa/philadelphia/3329-powelton-ave-rear1-philadelphia-pa-19104--2355021667) [https://www.facebook.com/groups/1126607547359578/permalink/4360551663965134/?sale\\\\_post\\\\_id=4360551663965134](https://www.facebook.com/groups/1126607547359578/permalink/4360551663965134/?sale_post_id=4360551663965134) (Drexel Sublet Facebook Group)\\n\\nAvailable for move in March 20th\\n\\nDM for more details and pictures, I have plenty [https://imgur.com/a/Vy2J8FU](https://imgur.com/a/Vy2J8FU)\\n\\nDiscord is rugroo#5275',\n",
       " 'I can’t move from my parent’s house into my lease at Chestnut Square (300 Chestnut St). It’s 1 BR in a townhouse with 2.5 bathrooms. $1199 a month which includes internet+utilities, washer/dryer, and fully furnished rooms & kitchen. Chestnut also has an open gym/facilities. Windows have nice view of South Philly’s Schuylkill area. \\n\\nHoping to fill this starting March 20. DM me for more information',\n",
       " 'Looking to sublet my room right next to the tennis courts on campus. It’s located right next to the Jewish life center. You can’t beat the location it’s literally right on campus. It’s a small apartment and it’s decent. Has a big living room and your room would be the bigger of the two. \\n\\nThe rent is $700 a month which is really cheap in the area. Please DM if interested.',\n",
       " '>34th and Haverford\\n\\nHi! I am interested in this sublet!',\n",
       " 'Hi everyone! I’m looking for someone to sublet my apartment in University Crossings for the Spring/Summer terms. It’s a Private 2 Bed 1 Bath A with No Assigned Roommates! If you’re interested please email me at my drexel email sns333@drexel.edu',\n",
       " '1 bedroom available in 4 bedroom townhouse (all guys), 550/month, near 32nd and spring garden. 120 sqft room with closet, washer/dryer/dishwasher, as well as bench/squat rack/deadlift pad\\n\\nAvailable for spring/summer only - roommate is moving out for coop and then moving back',\n",
       " \"Hello,\\n\\nSubletting a 1 bed 1 private bath in a 2 bed 2 bath apartment close to campus (34th & Spring Garden).  Only a couple blocks away from Sabrina's/Freshman dorms.  Coin op laundry & small gym in basement.  The house was recently renovated.  WiFi and utilities all included.  You will get your own bathroom.\\n\\nRent is $650/mo, female roommate so females only, DM Me for more info and pictures\",\n",
       " 'Hello everyone! I am currently looking to relet my apartment at University Crossings. It is a 2 bed - 2 Bath unit that is furnished (2 Bed - 2 Bath C Double Standard Twin). Female roommates so females only please! The lease would be from the end of March to September 2021 and it does allow you to amend your lease if you have to go on co-op! Please DM me if you are interested!',\n",
       " \"Room available for lease on 40th and Baring\\n\\n$550/month not including utilities\\n\\nThere are 4 bedrooms and 2 bathrooms\\n\\nThe bedroom is furnished with a desk, chair, bed frame, and mattress with a large built-in closet\\n\\nYou'd be living with three (20-21yr old) girls and a beagle.\\n\\nWasher and dryer in-unit\\n\\nMove-in date asap\",\n",
       " 'Looking to Relet Summit Apartment for the upcoming spring term.\\n\\nIts the 2 Bed - 2 Bath Shared Bedroom Suite D standard. Close walking distance to a lot of classes and buildings on campus, right above the Starbuck, Chipotle, Urban Eatery, and many more places.\\n\\nThe monthly cost is $879.00.\\n\\nDiscord me if interested: USER18#1001',\n",
       " \"Hi. I'm interested in renting the space. Could you share some pics. I'm looking to move by the 9th of March\",\n",
       " 'You can email me kimanigraham7@gmail.com',\n",
       " \"Hi. I'm interested in renting. I'm hoping to move by next Tuesday. Could you please send pictures of the space. You can email me at kimanigraham7@gmail.com\",\n",
       " 'What is the address of the apartment?',\n",
       " \"Hi. I'm interested in renting this space. I'm looking to move by March 9th. Could you send me pics of the space. Email address is kimanigraham7@gmail.com\",\n",
       " \"Hi. I'm renting the room that's for $600. I'm hoping to move by March 9th. Could you send me pics of the space? Email address is kimanigraham7@gmail.com\",\n",
       " \"I could email you the video tour that a previous tenant recorded, or pics. Would you prefer one or the other? Also if march 9th is your deadline, I can't do that, I'm here until the 16th.\",\n",
       " 'I am looking to sublet a room in my apartment for either the Spring/Summer Terms or just the Summer Term. The apartment is located right across from Drexel’s Dornsife Center. The apartment is a 6-bedroom, 5 bathrooms, with basement/storage area, and backyard. There is a washer and dryer in the basement of the unit. The room in question to sublease has a private bathroom/shower and has a view of the backyard.  If you have any questions, feel free to message me.',\n",
       " \"Hey, I am trying to sublet my chestnut square apartment. It's 2 bed - 2 bath. Full sized kitchen and living room/entertainment center. 903 sqft. The rent is $934/month. \\nMessage me for details!\",\n",
       " \"I am looking for a female student to take over my lease at Chestnut Square in University City. Walking distance to both UPenn and Drexel. It is a private furnished room with a shared bathroom in a 4 person townhome. It has a full kitchen and living area and downstairs there are 2.5 bathrooms and 4 rooms. The room available is on the same side as another female who will not be moving in this quarter, so it's basically a private bathroom. Washer and dryer included. Gym and mail room are up the street. Lease would go from April to September with the possibility to renew and the rent is $1280 a month! LMK if you're interested!\",\n",
       " 'Hello! I live in a 6B/2B house on Winter Street located right across from Myers Hall. I am looking to sublet my room, which is the largest among all of the bedrooms, and my roommates are all polite and respectful. There is a beautiful backyard to relax.\\n\\nRent is $745 a month and the house is right on campus. Please DM me for more information.',\n",
       " \"My roommates and I live in Ucross. THREE of us are planning to move out by May 1. We are looking for someone to sublet asap. It's $934 per person (2bdrm 2bath) full-size beds and you have a great view of Philly. Utilities included!!Message me if you’re interested or for any other information my email is [USER23seph12@gmail.com](mailto:USER23seph12@gmail.com). I'll send videos and pictures of the unit\",\n",
       " '1BED 1BATH APT @ 38 & Lancaster. $1250/month + water, electricity...\\nI’m moving out so I need someone to fill in my remaining lease as early as April. My building is pretty modern and clean. Police station next to building. Parking. Pet allowed. Backyard. pm for more details',\n",
       " 'Hi! I am looking for a place to stay for a month in June, dates are flexible. Looking for a furnished place and around $800 a month (also flexible)\\n\\nThanks!',\n",
       " 'I’m interested in your sublet.',\n",
       " 'Looking for a room. ASAP til about September. Under $600 preferred. And I hope to be able to bring my 5 year old dog with me. She is crate trained and happy to chill in there when I am not home.',\n",
       " \"I'm also interested in this sublet! I can move in ASAP.\",\n",
       " 'Hi! I am interested. Could you pm me please? I tried sending you a chat but it did not work for some reason. I will be interning in the city this summer so I would be subleasing for the summer term. Thanks!',\n",
       " \"Hey, guys. I am an international student (18 y.o., M) who will arrive in the US in mid-June for the Summer quarter. I plan to rent 2 bedroom apartment and I want to find a roommate or two. My budget is around 600-900USD. Additionally, it'd be great to learn more about optimal housing options available. DM pls\",\n",
       " 'Hey everyone! I am looking to sublet my space in my University Crossings apartment for the summer term. It’s a 2 shared bedrooms - 1 shared bath apartment with two people (and a ferret) living there already. A really spacious apartment with utilities included! Rent is $894/month. I can send pictures/videos if wanted. Females only please. I am willing to pay the $350 sublet fee when needed and will also be paying for the rent through June (so the rent will be covered for the month if you move in when spring term ends in the middle of the month). Message me if you’re interested!!',\n",
       " \"I'm looking to sublet or relet my apartment in ucrossing as soon as possible, it's $869 a month, 2 bed 1 bath A\",\n",
       " \"I signed a lease, and have to re-let it for the fall term of 2021. How do I go about finding people to sublet to? Im hoping here can help, it's in summit suite A 2 bed 2 bath. Please let me know what you did to sublet, I am a freshman and am confused. :) thanks\",\n",
       " \"Hi! My friend and I are looking to sublet our spots at University Crossings. It is a bedroom in a 2-bedroom apartment, and you will be staying with another roommate. It's $900, but we're willing to give you a discount! The apartment is opposite to Lebow building so it's very convenient, and you will save tons of transportation costs.\",\n",
       " 'Hello everyone! Im looking for a female to relet my apartment in Summit (3400 Lancaster Ave) starting July 1st. The floorplan is a 2 Bed 2 Bath, private room and bathroom. Just one other female roommate. The lease would be from July to September. Rent is $1469 per month.',\n",
       " 'I’m interested in this. However, is there any way it could start in june?',\n",
       " \"Hi,\\n\\nI'm looking for a housemate starting this September. The place is at 3836 Spring Garden St. It's a 3 BR, each with private bathrooms. The rent is $530 per month including water utility. Washer/dryer is in the building and we have a private parking spot. The building also has a open gym. Please DM me if you are interested.\",\n",
       " 'Hi everyone! I am trying to sublet my chestnut square 2 bed 2 bath suite for the 2021 summer term. It is originally $914/month, but I am willing to lower it. Please Dm me or email me at lra36@drexel.edu.',\n",
       " '[deleted]',\n",
       " 'I know this is spring-summer but looking for a room for the next year. My lease ends august 31st and I would like to have a place to live. 21 Year old Male.',\n",
       " 'Looking for someone to take over my lease at chestnut square starting mid june or july, it is a townhouse, with only one roommate! If interested message me for details! (The other roommate is a female)',\n",
       " 'Looking for a subletter to take over my room in a 4 person apartment from July 1st (or now) to August 31st (dm if you need flexibility in the dates). The apartment is located on 34th st and Race st (super close to the Drexel campus) and has a private entrance down a secluded driveway for increased privacy.\\r  \\nThe apartment comes with a bunch of nice amenities:\\r  \\n• A kitchen with stainless steel appliances and granite countertops\\r  \\n• 2 bathrooms with full bath\\r  \\n• A washer/dryer in the unit that is not coin operated\\r  \\n• Central AC/heat that is controlled by us\\r  \\n• A furnished living room with shared TV/couch.\\r  \\nThere is a small outdoor area in front of the apartment that is separate from the street, good for any summer activities, as well as plenty of street parking. Drexel’s lot D is located right behind the apartment in case dedicated parking is required.\\r  \\nThe room is located on the second floor of the apartment and has a window that faces down the driveway. A few details on the room:\\r  \\n• 12’3” x 11’4” in size\\r  \\n• A large closet with plenty of space\\r  \\n• Wired up for gigabit LAN (we currently have Verizon), with AP extension\\r  \\nThe other roommates are all male, 2 are in CS and 1 is an EE. Overall roommates mostly keep to themselves.\\r  \\nThe current cost of the room per month is $825 per month, with an extra \\\\~$30 going towards utilities and $20 for internet.\\r  \\nIf interested, DM for more details.',\n",
       " \"Hi everyone,\\n\\nI am an incoming Neuroscience PhD student and plan to fly from India on 13 July. I am looking for a sublet apartment to move in by 14 July. I have plans to sign a full lease only in September, once I find a suitable apartment for myself later. 2-3 Bedroom apartments will do so long the budget per head isn't over $800. \\n\\nLocation : Preferably walking distance from Drexel Campus in East Falls neighborhood/ Around Main Campus. \\nPlease let me know if there are any leads. Thank you\",\n",
       " 'Studio sublet available @ $995 a month for the months of July and August! Its close to campus (about 15 minute walk from main) and is right across Dornsife which is a Drexel Building. Please pm if interested! Thank you!',\n",
       " 'I just graduated this month and I’m looking for someone who’s got an extra room that I can split rent with. Budget is around $750 / month, we can discuss it further thru DMs']"
      ]
     },
     "execution_count": 57,
     "metadata": {},
     "output_type": "execute_result"
    }
   ],
   "source": [
    "conv.text_stream  # text of posts, in temporal order"
   ]
  },
  {
   "cell_type": "code",
   "execution_count": null,
   "id": "capital-proportion",
   "metadata": {},
   "outputs": [],
   "source": []
  }
 ],
 "metadata": {
  "kernelspec": {
   "display_name": "Python 3",
   "language": "python",
   "name": "python3"
  },
  "language_info": {
   "codemirror_mode": {
    "name": "ipython",
    "version": 3
   },
   "file_extension": ".py",
   "mimetype": "text/x-python",
   "name": "python",
   "nbconvert_exporter": "python",
   "pygments_lexer": "ipython3",
   "version": "3.7.6"
  }
 },
 "nbformat": 4,
 "nbformat_minor": 5
}
