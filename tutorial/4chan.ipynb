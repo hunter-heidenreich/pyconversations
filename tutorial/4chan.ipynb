{
 "cells": [
  {
   "cell_type": "markdown",
   "id": "aquatic-hazard",
   "metadata": {},
   "source": [
    "# PyConversations: A 4chan-based Example\n",
    "\n",
    "The following is a tutorial notebook that demonstrates how to use `pyconversations` with 4chan data.\n",
    "\n",
    "Interfacing with 4chan data _does not_ require any secret keys or tokens or anyting of that nature. Instead, we'll directly use a package called `BASC-py4chan` which provides [an object-oriented interface](https://basc-py4chan.readthedocs.io/en/latest/index.html) for interacting with the 4chan API. \n",
    "\n",
    "To begin, let's obtain some data using the package and then proceed by integrating the data with PyConversations!"
   ]
  },
  {
   "cell_type": "code",
   "execution_count": 1,
   "id": "qualified-mills",
   "metadata": {},
   "outputs": [],
   "source": [
    "import pprint\n",
    "\n",
    "from pyconversations.convo import Conversation\n",
    "from pyconversations.message import ChanPost"
   ]
  },
  {
   "cell_type": "markdown",
   "id": "located-bacteria",
   "metadata": {},
   "source": [
    "## Data Sample"
   ]
  },
  {
   "cell_type": "code",
   "execution_count": 2,
   "id": "impressed-cherry",
   "metadata": {},
   "outputs": [],
   "source": [
    "import basc_py4chan"
   ]
  },
  {
   "cell_type": "code",
   "execution_count": 3,
   "id": "certified-daughter",
   "metadata": {},
   "outputs": [
    {
     "data": {
      "text/plain": [
       "<Board /news/>"
      ]
     },
     "execution_count": 3,
     "metadata": {},
     "output_type": "execute_result"
    }
   ],
   "source": [
    "# get the board we want\n",
    "board_name = 'news'\n",
    "board = basc_py4chan.Board(board_name)\n",
    "board"
   ]
  },
  {
   "cell_type": "code",
   "execution_count": 5,
   "id": "hired-delay",
   "metadata": {},
   "outputs": [
    {
     "data": {
      "text/plain": [
       "(882179, <Thread /news/882179, 16 replies>)"
      ]
     },
     "execution_count": 5,
     "metadata": {},
     "output_type": "execute_result"
    }
   ],
   "source": [
    "# select a thread on the board\n",
    "\n",
    "ix = 13\n",
    "all_thread_ids = board.get_all_thread_ids()\n",
    "thread_id = all_thread_ids[ix] if ix < len(all_thread_ids) else all_thread_ids[-1]\n",
    "thread = board.get_thread(thread_id)\n",
    "\n",
    "thread_id, thread"
   ]
  },
  {
   "cell_type": "code",
   "execution_count": 6,
   "id": "alpha-right",
   "metadata": {},
   "outputs": [
    {
     "name": "stdout",
     "output_type": "stream",
     "text": [
      "<Thread /news/882179, 16 replies>\n",
      "Sticky? False\n",
      "Closed? False\n",
      "Replies: 16\n"
     ]
    }
   ],
   "source": [
    "# print thread information\n",
    "print(thread)\n",
    "print('Sticky?', thread.sticky)\n",
    "print('Closed?', thread.closed)\n",
    "print('Replies:', len(thread.replies))"
   ]
  },
  {
   "cell_type": "code",
   "execution_count": 7,
   "id": "golden-listing",
   "metadata": {},
   "outputs": [
    {
     "name": "stdout",
     "output_type": "stream",
     "text": [
      "Topic Repr <Post /news/882179#882179, has_file: True>\n",
      "Postnumber 882179\n",
      "Timestamp 1625345123\n",
      "Datetime datetime.datetime(2021, 7, 3, 16, 45, 23)\n",
      "Subject India virus strain spread, what excuse this time?\n",
      "Comment First excuse was we weren&#039;t warned in advance enough, then we &quot;closed borders&quot; but we still got European virus strain spreading all over, now we&#039;ve known over a YEAR about COVID but somehow these new strains from different countries is still spreading all over the world.<br>https://www.cnn.com/2021/07/03/health/us-coronavirus-saturday/index.html\n"
     ]
    }
   ],
   "source": [
    "# print topic post information\n",
    "topic = thread.topic\n",
    "print('Topic Repr', topic)\n",
    "print('Postnumber', topic.post_number)\n",
    "print('Timestamp', topic.timestamp)\n",
    "print('Datetime', repr(topic.datetime))\n",
    "print('Subject', topic.subject)\n",
    "print('Comment', topic.comment)"
   ]
  },
  {
   "cell_type": "code",
   "execution_count": 8,
   "id": "oriental-bosnia",
   "metadata": {},
   "outputs": [
    {
     "data": {
      "text/plain": [
       "[<Post /news/882179#882179, has_file: True>,\n",
       " <Post /news/882179#882191, has_file: False>,\n",
       " <Post /news/882179#882194, has_file: False>,\n",
       " <Post /news/882179#882198, has_file: False>,\n",
       " <Post /news/882179#882869, has_file: False>,\n",
       " <Post /news/882179#882872, has_file: False>,\n",
       " <Post /news/882179#882911, has_file: False>,\n",
       " <Post /news/882179#882915, has_file: False>,\n",
       " <Post /news/882179#882919, has_file: False>,\n",
       " <Post /news/882179#882920, has_file: False>,\n",
       " <Post /news/882179#882935, has_file: False>,\n",
       " <Post /news/882179#882951, has_file: False>,\n",
       " <Post /news/882179#882955, has_file: False>,\n",
       " <Post /news/882179#882957, has_file: False>,\n",
       " <Post /news/882179#882958, has_file: False>,\n",
       " <Post /news/882179#882964, has_file: False>,\n",
       " <Post /news/882179#883010, has_file: False>]"
      ]
     },
     "execution_count": 8,
     "metadata": {},
     "output_type": "execute_result"
    }
   ],
   "source": [
    "thread.all_posts"
   ]
  },
  {
   "cell_type": "markdown",
   "id": "advance-technology",
   "metadata": {},
   "source": [
    "## Integration with `pyconversations`\n",
    "\n",
    "All that's left to do is plug our data directly into `pyconversations`!"
   ]
  },
  {
   "cell_type": "code",
   "execution_count": 9,
   "id": "brave-mounting",
   "metadata": {},
   "outputs": [],
   "source": [
    "# create conversation\n",
    "conv = Conversation()"
   ]
  },
  {
   "cell_type": "code",
   "execution_count": 28,
   "id": "authentic-newspaper",
   "metadata": {},
   "outputs": [],
   "source": [
    "for post in thread.all_posts:\n",
    "    \n",
    "    # gather up raw text\n",
    "    raw_text = ((post.subject + ':\\n' if post.subject else '') + post.text_comment).strip()\n",
    "    \n",
    "    # cleanse text and retrieve references to other posts\n",
    "    text, rfs = ChanPost.clean_text(raw_text)\n",
    "    if not rfs and topic.post_number != post.post_id:\n",
    "        rfs = [topic.post_number]\n",
    "    rfs = list(map(int, rfs))\n",
    "    \n",
    "    # create data for the post constructor\n",
    "    cons = {\n",
    "        'uid':        post.post_id,  # unique identifier for the post (mandatory field)\n",
    "        'created_at': post.datetime,  # datetime of post creation\n",
    "        'text':       text,  # cleaned plaintext\n",
    "        'author':     post.name,  # self-assigned name of the poster (likely 'Anonymous')\n",
    "        'platform':   '4Chan',\n",
    "        'reply_to':   rfs,  # cleaned references to other posts\n",
    "        'lang_detect': True  # whether or not to attempt language detection\n",
    "    }\n",
    "    conv.add_post(ChanPost(**cons))"
   ]
  },
  {
   "cell_type": "code",
   "execution_count": 29,
   "id": "retired-atlantic",
   "metadata": {},
   "outputs": [
    {
     "data": {
      "text/plain": [
       "17"
      ]
     },
     "execution_count": 29,
     "metadata": {},
     "output_type": "execute_result"
    }
   ],
   "source": [
    "# print number of unique posts contained within the Conversation\n",
    "conv.messages"
   ]
  },
  {
   "cell_type": "code",
   "execution_count": 30,
   "id": "adjusted-filing",
   "metadata": {},
   "outputs": [
    {
     "data": {
      "text/plain": [
       "1"
      ]
     },
     "execution_count": 30,
     "metadata": {},
     "output_type": "execute_result"
    }
   ],
   "source": [
    "# Conversations can be sub-segmented (if we have a large collection and are uncertain if posts are missing or would like to splice out disjoint trees)\n",
    "# This is likely to return a single conversation (a copy of what we built) since we just queried a single thread directly using the API \n",
    "# This is more relevant when ingesting a heterogenous collection of posts\n",
    "segs = conv.segment()\n",
    "\n",
    "len(segs)"
   ]
  },
  {
   "cell_type": "markdown",
   "id": "present-degree",
   "metadata": {},
   "source": [
    "### (Detected) Language Distribution"
   ]
  },
  {
   "cell_type": "code",
   "execution_count": 31,
   "id": "explicit-anchor",
   "metadata": {},
   "outputs": [
    {
     "data": {
      "text/plain": [
       "Counter({'en': 16, 'it': 1})"
      ]
     },
     "execution_count": 31,
     "metadata": {},
     "output_type": "execute_result"
    }
   ],
   "source": [
    "from collections import Counter\n",
    "\n",
    "lang_dist = Counter([post.lang for post in conv.posts.values()])\n",
    "lang_dist"
   ]
  },
  {
   "cell_type": "markdown",
   "id": "employed-constraint",
   "metadata": {},
   "source": [
    "### Saving and Loading from the universal format"
   ]
  },
  {
   "cell_type": "code",
   "execution_count": 32,
   "id": "balanced-sport",
   "metadata": {},
   "outputs": [],
   "source": [
    "import json"
   ]
  },
  {
   "cell_type": "code",
   "execution_count": 37,
   "id": "affecting-triumph",
   "metadata": {},
   "outputs": [
    {
     "name": "stdout",
     "output_type": "stream",
     "text": [
      "[{'author': 'Anonymous',\n",
      "  'created_at': 1625345123.0,\n",
      "  'lang': 'en',\n",
      "  'platform': '4Chan',\n",
      "  'reply_to': [],\n",
      "  'tags': [],\n",
      "  'text': 'India virus strain spread, what excuse this time?:\\n'\n",
      "          \"First excuse was we weren't warned in advance enough, then we \"\n",
      "          '\"closed borders\" but we still got European virus strain spreading '\n",
      "          \"all over, now we've known over a YEAR about COVID but somehow these \"\n",
      "          'new strains from different countries is still spreading all over '\n",
      "          'the world.\\n'\n",
      "          'https://www.cnn.com/2021/07/03/health/us-coronavirus-saturday/index.html',\n",
      "  'uid': 882179},\n",
      " {'author': 'Anonymous',\n",
      "  'created_at': 1625346530.0,\n",
      "  'lang': 'en',\n",
      "  'platform': '4Chan',\n",
      "  'reply_to': [882179],\n",
      "  'tags': [],\n",
      "  'text': '>>882179\\n'\n",
      "          '>close all public travel\\n'\n",
      "          '>literally anybody with money can rent a flight to the country at '\n",
      "          \"any point since that isn't regulated\\n\"\n",
      "          '>but muh \"closed borders\"\\n'\n",
      "          'Just how retarded is the average /news/ poster for fucks sake.',\n",
      "  'uid': 882191},\n",
      " {'author': 'Anonymous',\n",
      "  'created_at': 1625347259.0,\n",
      "  'lang': 'en',\n",
      "  'platform': '4Chan',\n",
      "  'reply_to': [882179],\n",
      "  'tags': [],\n",
      "  'text': 'Build a great wall around India',\n",
      "  'uid': 882194},\n",
      " {'author': 'Anonymous',\n",
      "  'created_at': 1625348896.0,\n",
      "  'lang': 'en',\n",
      "  'platform': '4Chan',\n",
      "  'reply_to': [882191],\n",
      "  'tags': [],\n",
      "  'text': '>>882191\\nSo what excuse do we have this time?',\n",
      "  'uid': 882198},\n",
      " {'author': 'Anonymous',\n",
      "  'created_at': 1625465108.0,\n",
      "  'lang': 'en',\n",
      "  'platform': '4Chan',\n",
      "  'reply_to': [882194],\n",
      "  'tags': [],\n",
      "  'text': '>>882194\\nmaybe just call the hoax quits.',\n",
      "  'uid': 882869},\n",
      " {'author': 'Anonymous',\n",
      "  'created_at': 1625466070.0,\n",
      "  'lang': 'en',\n",
      "  'platform': '4Chan',\n",
      "  'reply_to': [882179],\n",
      "  'tags': [],\n",
      "  'text': '>>882179\\n'\n",
      "          'you want an excuse or a reason ? \\n'\n",
      "          \"there's no real excuse at all but the reason is capitalism.\",\n",
      "  'uid': 882872},\n",
      " {'author': 'Anonymous',\n",
      "  'created_at': 1625483214.0,\n",
      "  'lang': 'en',\n",
      "  'platform': '4Chan',\n",
      "  'reply_to': [882872],\n",
      "  'tags': [],\n",
      "  'text': '>>882872\\n'\n",
      "          \"you're pretty naive to think that capitalism is the end goal.\",\n",
      "  'uid': 882911},\n",
      " {'author': 'Anonymous',\n",
      "  'created_at': 1625484180.0,\n",
      "  'lang': 'it',\n",
      "  'platform': '4Chan',\n",
      "  'reply_to': [882911],\n",
      "  'tags': [],\n",
      "  'text': \">>882911\\nyou're a babbling retard\",\n",
      "  'uid': 882915},\n",
      " {'author': 'Anonymous',\n",
      "  'created_at': 1625487057.0,\n",
      "  'lang': 'en',\n",
      "  'platform': '4Chan',\n",
      "  'reply_to': [882915],\n",
      "  'tags': [],\n",
      "  'text': '>>882915\\n'\n",
      "          \"you shouldn't talk so bad about yourself.you could just confess \"\n",
      "          'that you have no idea of anything.',\n",
      "  'uid': 882919},\n",
      " {'author': 'Anonymous',\n",
      "  'created_at': 1625488825.0,\n",
      "  'lang': 'en',\n",
      "  'platform': '4Chan',\n",
      "  'reply_to': [882179],\n",
      "  'tags': [],\n",
      "  'text': 'Quick go and let them inject you with a experimental mRNA not '\n",
      "          'approved by the FDA that will stop you getting the new variant. \\n'\n",
      "          '\\n'\n",
      "          'The poor sheeple. \\n'\n",
      "          '\\n'\n",
      "          'Did you know tat once you have had the experimental mRNA they own '\n",
      "          'you?\\n'\n",
      "          '\\n'\n",
      "          '\\n'\n",
      "          'If you dont believe it have a look at.\\n'\n",
      "          'www.supremecourt.gov/opinions/12pdf/12-398_1b7d.pdf',\n",
      "  'uid': 882920},\n",
      " {'author': 'Anonymous',\n",
      "  'created_at': 1625493579.0,\n",
      "  'lang': 'en',\n",
      "  'platform': '4Chan',\n",
      "  'reply_to': [882920],\n",
      "  'tags': [],\n",
      "  'text': '>>882920\\n'\n",
      "          '>magats refuse to get vaccinated\\n'\n",
      "          'When everyone was telling you guys to \"kys\" we didn\\'t mean for you '\n",
      "          \"to take it literally, LMAO! But since you did, we're breaking out \"\n",
      "          'the champagne!\\n'\n",
      "          '\\n'\n",
      "          'https://www.usatoday.com/story/news/health/2021/07/04/more-than-99-us-covid-deaths-involve-unvaccinated-people/7856564002/',\n",
      "  'uid': 882935},\n",
      " {'author': 'Anonymous',\n",
      "  'created_at': 1625497014.0,\n",
      "  'lang': 'en',\n",
      "  'platform': '4Chan',\n",
      "  'reply_to': [882935],\n",
      "  'tags': [],\n",
      "  'text': '>>882935\\n>dies of myocarditis',\n",
      "  'uid': 882951},\n",
      " {'author': 'Anonymous',\n",
      "  'created_at': 1625497910.0,\n",
      "  'lang': 'en',\n",
      "  'platform': '4Chan',\n",
      "  'reply_to': [882951],\n",
      "  'tags': [],\n",
      "  'text': '>>882951\\n'\n",
      "          'Oh look, no one has died after the extremely rare event of vaccine '\n",
      "          'related myocarditis and only a handful were even hospitalized.\\n'\n",
      "          '\\n'\n",
      "          '>Men under 30 make up the bulk of the cases, the CDC said, and most '\n",
      "          'cases appear to be mild. Of the 295 people who have developed the '\n",
      "          'condition and have been discharged, 79% of them have fully '\n",
      "          'recovered, according to the presentation. Nine people were '\n",
      "          'hospitalized, with two in intensive care as of June 11, according '\n",
      "          'to the agency.\\n'\n",
      "          '\\n'\n",
      "          'Oh look, the risk of developing myocarditis from Covid is much more '\n",
      "          'likely than from vaccine.\\n'\n",
      "          '\\n'\n",
      "          '>Only an exceedingly small number of people will experience it '\n",
      "          'after vaccination,\" HHS said. \"Importantly, for the young people '\n",
      "          'who do, most cases are mild, and individuals recover often on their '\n",
      "          'own or with minimal treatment. In addition, we know that '\n",
      "          'myocarditis and pericarditis are much more common if you get '\n",
      "          'COVID-19, and the risks to the heart from COVID-19 infection can be '\n",
      "          'more severe.\"\\n'\n",
      "          '\\n'\n",
      "          'https://www.cnbc.com/2021/06/23/cdc-reports-more-than-1200-cases-of-rare-heart-inflammation-after-covid-vaccine-shots.html\\n'\n",
      "          '\\n'\n",
      "          \"But by all means, don't get vaccinated and when they remove your \"\n",
      "          'ventilator and bring you out of the med induced coma to tell you '\n",
      "          'you are dying you can gasp out, \"I helped Make America Great '\n",
      "          'Again,\" and you won\\'t be lying this time, lol!',\n",
      "  'uid': 882955},\n",
      " {'author': 'Anonymous',\n",
      "  'created_at': 1625498189.0,\n",
      "  'lang': 'en',\n",
      "  'platform': '4Chan',\n",
      "  'reply_to': [882935],\n",
      "  'tags': [],\n",
      "  'text': '>>882935\\n'\n",
      "          'The retard actually admits it reads and believes USAToday. \\n'\n",
      "          '\\n'\n",
      "          'LOL',\n",
      "  'uid': 882957},\n",
      " {'author': 'Anonymous',\n",
      "  'created_at': 1625498343.0,\n",
      "  'lang': 'en',\n",
      "  'platform': '4Chan',\n",
      "  'reply_to': [882955],\n",
      "  'tags': [],\n",
      "  'text': '>>882955\\n'\n",
      "          'How would you know, apart from the VAERS system which only '\n",
      "          'represents a small % you have no independent data , you are '\n",
      "          'ignorant!',\n",
      "  'uid': 882958},\n",
      " {'author': 'Anonymous',\n",
      "  'created_at': 1625499335.0,\n",
      "  'lang': 'en',\n",
      "  'platform': '4Chan',\n",
      "  'reply_to': [882869],\n",
      "  'tags': [],\n",
      "  'text': '>>882869\\nbased boris johnson',\n",
      "  'uid': 882964},\n",
      " {'author': 'Anonymous',\n",
      "  'created_at': 1625505347.0,\n",
      "  'lang': 'en',\n",
      "  'platform': '4Chan',\n",
      "  'reply_to': [882958],\n",
      "  'tags': [],\n",
      "  'text': '>>882958\\n'\n",
      "          '>The CDC has no data\\n'\n",
      "          'Oh shit, better ask Sen. Ron Johnson, Kennedy, Fucker Carlson, Alex '\n",
      "          \"Jones, and every other loony bird antivaxer - that's the 1 way \"\n",
      "          'ticket to ventilator-ville!',\n",
      "  'uid': 883010}]\n"
     ]
    }
   ],
   "source": [
    "# saving a conversation to disk\n",
    "# alternatively: save as a JSONLine file, where each line is a conversation!\n",
    "j = conv.to_json()\n",
    "pprint.pprint(j)\n",
    "json.dump(j, open('4chan_conv.json', 'w+'))"
   ]
  },
  {
   "cell_type": "code",
   "execution_count": 38,
   "id": "respected-junior",
   "metadata": {},
   "outputs": [
    {
     "data": {
      "text/plain": [
       "17"
      ]
     },
     "execution_count": 38,
     "metadata": {},
     "output_type": "execute_result"
    }
   ],
   "source": [
    "# reloading directly from the JSON\n",
    "conv_reloaded = Conversation.from_json(json.load(open('4chan_conv.json')), ChanPost)\n",
    "conv_reloaded.messages"
   ]
  },
  {
   "cell_type": "markdown",
   "id": "incorporated-ground",
   "metadata": {},
   "source": [
    "### Properties for Analysis"
   ]
  },
  {
   "cell_type": "code",
   "execution_count": 39,
   "id": "informational-portuguese",
   "metadata": {},
   "outputs": [
    {
     "data": {
      "text/plain": [
       "17"
      ]
     },
     "execution_count": 39,
     "metadata": {},
     "output_type": "execute_result"
    }
   ],
   "source": [
    "conv.messages  # number of messages in the conversation"
   ]
  },
  {
   "cell_type": "code",
   "execution_count": 40,
   "id": "described-florence",
   "metadata": {},
   "outputs": [
    {
     "data": {
      "text/plain": [
       "16"
      ]
     },
     "execution_count": 40,
     "metadata": {},
     "output_type": "execute_result"
    }
   ],
   "source": [
    "conv.connections  # number of reply connections"
   ]
  },
  {
   "cell_type": "code",
   "execution_count": 41,
   "id": "moderate-while",
   "metadata": {},
   "outputs": [
    {
     "data": {
      "text/plain": [
       "1"
      ]
     },
     "execution_count": 41,
     "metadata": {},
     "output_type": "execute_result"
    }
   ],
   "source": [
    "conv.users  # number of unique users"
   ]
  },
  {
   "cell_type": "code",
   "execution_count": 42,
   "id": "reverse-hartford",
   "metadata": {},
   "outputs": [
    {
     "data": {
      "text/plain": [
       "3454"
      ]
     },
     "execution_count": 42,
     "metadata": {},
     "output_type": "execute_result"
    }
   ],
   "source": [
    "conv.chars  # character size of the entire conversation"
   ]
  },
  {
   "cell_type": "code",
   "execution_count": 43,
   "id": "dental-washington",
   "metadata": {},
   "outputs": [
    {
     "data": {
      "text/plain": [
       "1270"
      ]
     },
     "execution_count": 43,
     "metadata": {},
     "output_type": "execute_result"
    }
   ],
   "source": [
    "conv.tokens  # length of conversation, in tokens"
   ]
  },
  {
   "cell_type": "code",
   "execution_count": 44,
   "id": "controlled-authority",
   "metadata": {},
   "outputs": [
    {
     "data": {
      "text/plain": [
       "360"
      ]
     },
     "execution_count": 44,
     "metadata": {},
     "output_type": "execute_result"
    }
   ],
   "source": [
    "conv.token_types  # number of unique tokens used in convo"
   ]
  },
  {
   "cell_type": "code",
   "execution_count": 45,
   "id": "chicken-richards",
   "metadata": {},
   "outputs": [
    {
     "data": {
      "text/plain": [
       "{882179}"
      ]
     },
     "execution_count": 45,
     "metadata": {},
     "output_type": "execute_result"
    }
   ],
   "source": [
    "conv.sources  # IDs of source messages (messages without a reply action, messages that originate dialog)"
   ]
  },
  {
   "cell_type": "code",
   "execution_count": 46,
   "id": "regulated-partnership",
   "metadata": {},
   "outputs": [
    {
     "data": {
      "text/plain": [
       "0.11764705882352941"
      ]
     },
     "execution_count": 46,
     "metadata": {},
     "output_type": "execute_result"
    }
   ],
   "source": [
    "conv.density  # density of the conversation, when represented as a graph"
   ]
  },
  {
   "cell_type": "code",
   "execution_count": 47,
   "id": "public-watson",
   "metadata": {},
   "outputs": [
    {
     "data": {
      "text/plain": [
       "[0, 5, 10, 1, 1]"
      ]
     },
     "execution_count": 47,
     "metadata": {},
     "output_type": "execute_result"
    }
   ],
   "source": [
    "conv.degree_hist  # Returns the degree (# of replies received) histogram of this conversation"
   ]
  },
  {
   "cell_type": "code",
   "execution_count": 48,
   "id": "complex-relation",
   "metadata": {},
   "outputs": [
    {
     "data": {
      "text/plain": [
       "6"
      ]
     },
     "execution_count": 48,
     "metadata": {},
     "output_type": "execute_result"
    }
   ],
   "source": [
    "conv.tree_depth  # height of the conversational tree"
   ]
  },
  {
   "cell_type": "code",
   "execution_count": 49,
   "id": "driven-hindu",
   "metadata": {},
   "outputs": [
    {
     "data": {
      "text/plain": [
       "4"
      ]
     },
     "execution_count": 49,
     "metadata": {},
     "output_type": "execute_result"
    }
   ],
   "source": [
    "conv.tree_width  # width of a depth level is the # of posts at that depth level (distance from source), tree width is the max width of any depth level"
   ]
  },
  {
   "cell_type": "code",
   "execution_count": 50,
   "id": "alpine-thanks",
   "metadata": {},
   "outputs": [
    {
     "data": {
      "text/plain": [
       "(datetime.datetime(2021, 7, 3, 16, 45, 23),\n",
       " datetime.datetime(2021, 7, 5, 13, 15, 47),\n",
       " 160224.0)"
      ]
     },
     "execution_count": 50,
     "metadata": {},
     "output_type": "execute_result"
    }
   ],
   "source": [
    "conv.start_time, conv.end_time, conv.duration  # time-related properties of the conversation"
   ]
  },
  {
   "cell_type": "code",
   "execution_count": 51,
   "id": "incorporated-heavy",
   "metadata": {},
   "outputs": [
    {
     "data": {
      "text/plain": [
       "[1625345123.0,\n",
       " 1625346530.0,\n",
       " 1625347259.0,\n",
       " 1625348896.0,\n",
       " 1625465108.0,\n",
       " 1625466070.0,\n",
       " 1625483214.0,\n",
       " 1625484180.0,\n",
       " 1625487057.0,\n",
       " 1625488825.0,\n",
       " 1625493579.0,\n",
       " 1625497014.0,\n",
       " 1625497910.0,\n",
       " 1625498189.0,\n",
       " 1625498343.0,\n",
       " 1625499335.0,\n",
       " 1625505347.0]"
      ]
     },
     "execution_count": 51,
     "metadata": {},
     "output_type": "execute_result"
    }
   ],
   "source": [
    "conv.time_series  # times of posting, in order"
   ]
  },
  {
   "cell_type": "code",
   "execution_count": 52,
   "id": "understanding-symbol",
   "metadata": {},
   "outputs": [
    {
     "data": {
      "text/plain": [
       "['India virus strain spread, what excuse this time?:\\nFirst excuse was we weren\\'t warned in advance enough, then we \"closed borders\" but we still got European virus strain spreading all over, now we\\'ve known over a YEAR about COVID but somehow these new strains from different countries is still spreading all over the world.\\nhttps://www.cnn.com/2021/07/03/health/us-coronavirus-saturday/index.html',\n",
       " '>>882179\\n>close all public travel\\n>literally anybody with money can rent a flight to the country at any point since that isn\\'t regulated\\n>but muh \"closed borders\"\\nJust how retarded is the average /news/ poster for fucks sake.',\n",
       " 'Build a great wall around India',\n",
       " '>>882191\\nSo what excuse do we have this time?',\n",
       " '>>882194\\nmaybe just call the hoax quits.',\n",
       " \">>882179\\nyou want an excuse or a reason ? \\nthere's no real excuse at all but the reason is capitalism.\",\n",
       " \">>882872\\nyou're pretty naive to think that capitalism is the end goal.\",\n",
       " \">>882911\\nyou're a babbling retard\",\n",
       " \">>882915\\nyou shouldn't talk so bad about yourself.you could just confess that you have no idea of anything.\",\n",
       " 'Quick go and let them inject you with a experimental mRNA not approved by the FDA that will stop you getting the new variant. \\n\\nThe poor sheeple. \\n\\nDid you know tat once you have had the experimental mRNA they own you?\\n\\n\\nIf you dont believe it have a look at.\\nwww.supremecourt.gov/opinions/12pdf/12-398_1b7d.pdf',\n",
       " '>>882920\\n>magats refuse to get vaccinated\\nWhen everyone was telling you guys to \"kys\" we didn\\'t mean for you to take it literally, LMAO! But since you did, we\\'re breaking out the champagne!\\n\\nhttps://www.usatoday.com/story/news/health/2021/07/04/more-than-99-us-covid-deaths-involve-unvaccinated-people/7856564002/',\n",
       " '>>882935\\n>dies of myocarditis',\n",
       " '>>882951\\nOh look, no one has died after the extremely rare event of vaccine related myocarditis and only a handful were even hospitalized.\\n\\n>Men under 30 make up the bulk of the cases, the CDC said, and most cases appear to be mild. Of the 295 people who have developed the condition and have been discharged, 79% of them have fully recovered, according to the presentation. Nine people were hospitalized, with two in intensive care as of June 11, according to the agency.\\n\\nOh look, the risk of developing myocarditis from Covid is much more likely than from vaccine.\\n\\n>Only an exceedingly small number of people will experience it after vaccination,\" HHS said. \"Importantly, for the young people who do, most cases are mild, and individuals recover often on their own or with minimal treatment. In addition, we know that myocarditis and pericarditis are much more common if you get COVID-19, and the risks to the heart from COVID-19 infection can be more severe.\"\\n\\nhttps://www.cnbc.com/2021/06/23/cdc-reports-more-than-1200-cases-of-rare-heart-inflammation-after-covid-vaccine-shots.html\\n\\nBut by all means, don\\'t get vaccinated and when they remove your ventilator and bring you out of the med induced coma to tell you you are dying you can gasp out, \"I helped Make America Great Again,\" and you won\\'t be lying this time, lol!',\n",
       " '>>882935\\nThe retard actually admits it reads and believes USAToday. \\n\\nLOL',\n",
       " '>>882955\\nHow would you know, apart from the VAERS system which only represents a small % you have no independent data , you are ignorant!',\n",
       " '>>882869\\nbased boris johnson',\n",
       " \">>882958\\n>The CDC has no data\\nOh shit, better ask Sen. Ron Johnson, Kennedy, Fucker Carlson, Alex Jones, and every other loony bird antivaxer - that's the 1 way ticket to ventilator-ville!\"]"
      ]
     },
     "execution_count": 52,
     "metadata": {},
     "output_type": "execute_result"
    }
   ],
   "source": [
    "conv.text_stream  # text of posts, in temporal order"
   ]
  },
  {
   "cell_type": "code",
   "execution_count": null,
   "id": "competitive-pound",
   "metadata": {},
   "outputs": [],
   "source": []
  }
 ],
 "metadata": {
  "kernelspec": {
   "display_name": "Python 3",
   "language": "python",
   "name": "python3"
  },
  "language_info": {
   "codemirror_mode": {
    "name": "ipython",
    "version": 3
   },
   "file_extension": ".py",
   "mimetype": "text/x-python",
   "name": "python",
   "nbconvert_exporter": "python",
   "pygments_lexer": "ipython3",
   "version": "3.7.6"
  }
 },
 "nbformat": 4,
 "nbformat_minor": 5
}
