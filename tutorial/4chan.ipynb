{
 "cells": [
  {
   "cell_type": "markdown",
   "id": "matched-session",
   "metadata": {},
   "source": [
    "# PyConversations: A 4chan-based Example\n",
    "\n",
    "The following is a tutorial notebook that demonstrates how to use `pyconversations` with 4chan data.\n",
    "\n",
    "Interfacing with 4chan data _does not_ require any secret keys or tokens or anyting of that nature. Instead, we'll directly use a package called `BASC-py4chan` which provides [an object-oriented interface](https://basc-py4chan.readthedocs.io/en/latest/index.html) for interacting with the 4chan API. \n",
    "\n",
    "To begin, let's obtain some data using the package and then proceed by integrating the data with PyConversations!"
   ]
  },
  {
   "cell_type": "code",
   "execution_count": 1,
   "id": "latter-problem",
   "metadata": {},
   "outputs": [],
   "source": [
    "from pprint import pprint\n",
    "\n",
    "from pyconversations.convo import Conversation\n",
    "from pyconversations.message import ChanPost"
   ]
  },
  {
   "cell_type": "markdown",
   "id": "increasing-spice",
   "metadata": {},
   "source": [
    "## Data Sample"
   ]
  },
  {
   "cell_type": "code",
   "execution_count": 2,
   "id": "prostate-witness",
   "metadata": {},
   "outputs": [],
   "source": [
    "import basc_py4chan"
   ]
  },
  {
   "cell_type": "code",
   "execution_count": 3,
   "id": "administrative-fundamental",
   "metadata": {},
   "outputs": [
    {
     "data": {
      "text/plain": [
       "<Board /news/>"
      ]
     },
     "execution_count": 3,
     "metadata": {},
     "output_type": "execute_result"
    }
   ],
   "source": [
    "# get the board we want\n",
    "board_name = 'news'\n",
    "\n",
    "board = basc_py4chan.Board(board_name)\n",
    "board"
   ]
  },
  {
   "cell_type": "code",
   "execution_count": 4,
   "id": "nervous-invitation",
   "metadata": {},
   "outputs": [
    {
     "data": {
      "text/plain": [
       "(893871, <Thread /news/893871, 19 replies>)"
      ]
     },
     "execution_count": 4,
     "metadata": {},
     "output_type": "execute_result"
    }
   ],
   "source": [
    "# select a thread on the board\n",
    "\n",
    "ix = 13\n",
    "all_thread_ids = board.get_all_thread_ids()\n",
    "thread_id = all_thread_ids[ix] if ix < len(all_thread_ids) else all_thread_ids[-1]\n",
    "thread = board.get_thread(thread_id)\n",
    "\n",
    "thread_id, thread"
   ]
  },
  {
   "cell_type": "code",
   "execution_count": 5,
   "id": "published-brooklyn",
   "metadata": {},
   "outputs": [
    {
     "name": "stdout",
     "output_type": "stream",
     "text": [
      "<Thread /news/893871, 19 replies>\n",
      "Sticky? False\n",
      "Closed? False\n",
      "Replies: 19\n"
     ]
    }
   ],
   "source": [
    "# print thread information\n",
    "print(thread)\n",
    "print('Sticky?', thread.sticky)\n",
    "print('Closed?', thread.closed)\n",
    "print('Replies:', len(thread.replies))"
   ]
  },
  {
   "cell_type": "code",
   "execution_count": 6,
   "id": "controlled-mitchell",
   "metadata": {},
   "outputs": [
    {
     "name": "stdout",
     "output_type": "stream",
     "text": [
      "Topic Repr <Post /news/893871#893871, has_file: True>\n",
      "Postnumber 893871\n",
      "Timestamp 1626922687\n",
      "Datetime datetime.datetime(2021, 7, 21, 22, 58, 7)\n",
      "Subject Larry Elder wins fight to enter California recall\n",
      "Comment LOS ANGELES – A California judge on Wednesday cleared the way for conservative talk radio host Larry Elder to join the field of candidates for an upcoming recall election aimed at removing Democratic Gov. Gavin Newsom from office.<br><br>Elder scored a swift court victory in Sacramento, where he challenged a decision by state election officials to block him from the September recall ballot.<br><br>In a tweet, Elder wrote, “Victory! My next one will be on Sept. 14 at the ballot box.”<br><br>He added: “This isn’t just a victory for me, but a victory for the people of California. And not just those who favor the recall and support me, but all voters, including many who will come to know me.”<br><br>Superior Court Judge Laurie M. Earl disagreed with a state decision that Elder failed to meet requirements to run in the election.<br><br>Under a new requirement, candidates for California governor must publicly release tax returns for the five most recent years to qualify for the ballot. The rule was passed in an effort by Democrats to force then-President Donald Trump to release his tax returns during the 2020 election. A court struck down the presidential requirement but left it in place for gubernatorial candidates.<br><br>But the judge determined the rule didn&#039;t apply to recall elections and, even if it did, Elder substantially complied.<br><br>&quot;I don’t find that Mr. Elder was required to file tax returns at all,&quot; the judge said.<br><br>The ruling amounted to a rebuke for Secretary of State Shirley Weber, who was appointed by Newsom in December.<br><br>The election, in the nation’s most populous state, will be a marquee contest with national implications, watched closely as a barometer of the public mood heading toward the 2022 elections, when a closely divided Congress again will be in play.<br><br><br>https://www.ksat.com/news/politics/2021/07/21/judge-radio-host-larry-elder-will-appear-on-recall-ballot/\n"
     ]
    }
   ],
   "source": [
    "# print topic post information\n",
    "topic = thread.topic\n",
    "print('Topic Repr', topic)\n",
    "print('Postnumber', topic.post_number)\n",
    "print('Timestamp', topic.timestamp)\n",
    "print('Datetime', repr(topic.datetime))\n",
    "print('Subject', topic.subject)\n",
    "print('Comment', topic.comment)"
   ]
  },
  {
   "cell_type": "code",
   "execution_count": 7,
   "id": "characteristic-tutorial",
   "metadata": {},
   "outputs": [
    {
     "data": {
      "text/plain": [
       "[<Post /news/893871#893871, has_file: True>,\n",
       " <Post /news/893871#893872, has_file: False>,\n",
       " <Post /news/893871#893874, has_file: False>,\n",
       " <Post /news/893871#894034, has_file: False>,\n",
       " <Post /news/893871#894037, has_file: False>,\n",
       " <Post /news/893871#894038, has_file: False>,\n",
       " <Post /news/893871#894055, has_file: False>,\n",
       " <Post /news/893871#894062, has_file: False>,\n",
       " <Post /news/893871#894063, has_file: False>,\n",
       " <Post /news/893871#894064, has_file: False>,\n",
       " <Post /news/893871#894067, has_file: False>,\n",
       " <Post /news/893871#894073, has_file: False>,\n",
       " <Post /news/893871#894136, has_file: False>,\n",
       " <Post /news/893871#894172, has_file: False>,\n",
       " <Post /news/893871#894177, has_file: False>,\n",
       " <Post /news/893871#894194, has_file: False>,\n",
       " <Post /news/893871#894522, has_file: False>,\n",
       " <Post /news/893871#894801, has_file: False>,\n",
       " <Post /news/893871#894802, has_file: False>,\n",
       " <Post /news/893871#894803, has_file: False>]"
      ]
     },
     "execution_count": 7,
     "metadata": {},
     "output_type": "execute_result"
    }
   ],
   "source": [
    "thread.all_posts"
   ]
  },
  {
   "cell_type": "markdown",
   "id": "minus-thumbnail",
   "metadata": {},
   "source": [
    "## Integration with `pyconversations`\n",
    "\n",
    "All that's left to do is plug our data directly into `pyconversations`!"
   ]
  },
  {
   "cell_type": "code",
   "execution_count": 8,
   "id": "attractive-infection",
   "metadata": {},
   "outputs": [],
   "source": [
    "# create conversation\n",
    "conv = Conversation()"
   ]
  },
  {
   "cell_type": "code",
   "execution_count": 9,
   "id": "coral-greene",
   "metadata": {},
   "outputs": [],
   "source": [
    "for post in thread.all_posts:\n",
    "    \n",
    "    # gather up raw text\n",
    "    raw_text = ((post.subject + ':\\n' if post.subject else '') + post.text_comment).strip()\n",
    "    \n",
    "    # cleanse text and retrieve references to other posts\n",
    "    text, rfs = ChanPost.clean_text(raw_text)\n",
    "    if not rfs and topic.post_number != post.post_id:\n",
    "        rfs = [topic.post_number]\n",
    "    rfs = list(map(int, rfs))\n",
    "    \n",
    "    # create data for the post constructor\n",
    "    cons = {\n",
    "        'uid':        post.post_id,  # unique identifier for the post (mandatory field)\n",
    "        'created_at': post.datetime,  # datetime of post creation\n",
    "        'text':       text,  # cleaned plaintext\n",
    "        'author':     post.name,  # self-assigned name of the poster (likely 'Anonymous')\n",
    "        'reply_to':   rfs,  # cleaned references to other posts\n",
    "        'lang_detect': True  # whether or not to attempt language detection\n",
    "    }\n",
    "    conv.add_post(ChanPost(**cons))"
   ]
  },
  {
   "cell_type": "code",
   "execution_count": 10,
   "id": "russian-miller",
   "metadata": {},
   "outputs": [
    {
     "data": {
      "text/plain": [
       "20"
      ]
     },
     "execution_count": 10,
     "metadata": {},
     "output_type": "execute_result"
    }
   ],
   "source": [
    "# print number of unique posts contained within the Conversation\n",
    "len(conv.posts)"
   ]
  },
  {
   "cell_type": "code",
   "execution_count": 11,
   "id": "vanilla-amsterdam",
   "metadata": {},
   "outputs": [
    {
     "data": {
      "text/plain": [
       "1"
      ]
     },
     "execution_count": 11,
     "metadata": {},
     "output_type": "execute_result"
    }
   ],
   "source": [
    "# Conversations can be sub-segmented (if we have a large collection and are uncertain if posts are missing or would like to splice out disjoint trees)\n",
    "# This is likely to return a single conversation (a copy of what we built) since we just queried a single thread directly using the API \n",
    "# This is more relevant when ingesting a heterogenous collection of posts\n",
    "segs = conv.segment()\n",
    "\n",
    "len(segs)"
   ]
  },
  {
   "cell_type": "markdown",
   "id": "arctic-drove",
   "metadata": {},
   "source": [
    "### (Detected) Language Distribution"
   ]
  },
  {
   "cell_type": "code",
   "execution_count": 12,
   "id": "intermediate-christianity",
   "metadata": {},
   "outputs": [
    {
     "data": {
      "text/plain": [
       "Counter({'en': 18, 'und': 1, 'nl': 1})"
      ]
     },
     "execution_count": 12,
     "metadata": {},
     "output_type": "execute_result"
    }
   ],
   "source": [
    "from collections import Counter\n",
    "\n",
    "lang_dist = Counter([post.lang for post in conv.posts.values()])\n",
    "lang_dist"
   ]
  },
  {
   "cell_type": "markdown",
   "id": "subsequent-idaho",
   "metadata": {},
   "source": [
    "### Saving and Loading from the universal format"
   ]
  },
  {
   "cell_type": "code",
   "execution_count": 13,
   "id": "wired-garage",
   "metadata": {},
   "outputs": [],
   "source": [
    "import json"
   ]
  },
  {
   "cell_type": "code",
   "execution_count": 14,
   "id": "funny-patch",
   "metadata": {},
   "outputs": [],
   "source": [
    "# saving a conversation to disk\n",
    "# alternatively: save as a JSONLine file, where each line is a conversation!\n",
    "j = conv.to_json()\n",
    "# pprint.pprint(j)\n",
    "json.dump(j, open('4chan_conv.json', 'w+'))"
   ]
  },
  {
   "cell_type": "code",
   "execution_count": 15,
   "id": "simplified-charlotte",
   "metadata": {},
   "outputs": [
    {
     "data": {
      "text/plain": [
       "20"
      ]
     },
     "execution_count": 15,
     "metadata": {},
     "output_type": "execute_result"
    }
   ],
   "source": [
    "# reloading directly from the JSON\n",
    "conv_reloaded = Conversation.from_json(json.load(open('4chan_conv.json')))\n",
    "len(conv_reloaded.posts)"
   ]
  },
  {
   "cell_type": "markdown",
   "id": "under-eligibility",
   "metadata": {},
   "source": [
    "### Feature Extraction\n",
    "\n",
    "PyConversations exposes many features for extraction that are needed for social media analysis. \n",
    "Let's use the main feature extraction engine:"
   ]
  },
  {
   "cell_type": "code",
   "execution_count": 16,
   "id": "coated-humidity",
   "metadata": {},
   "outputs": [],
   "source": [
    "from pyconversations.feature_extraction import ConversationFeaturizer\n",
    "from pyconversations.feature_extraction import PostFeaturizer"
   ]
  },
  {
   "cell_type": "code",
   "execution_count": 17,
   "id": "smooth-directory",
   "metadata": {},
   "outputs": [],
   "source": [
    "conv_ft = ConversationFeaturizer(include_post=False)\n",
    "post_ft = PostFeaturizer()"
   ]
  },
  {
   "cell_type": "code",
   "execution_count": 18,
   "id": "surprised-bahrain",
   "metadata": {},
   "outputs": [
    {
     "name": "stdout",
     "output_type": "stream",
     "text": [
      "binary :  0\n",
      "numeric :  420\n",
      "categorical :  0\n",
      "{'binary': {},\n",
      " 'categorical': {},\n",
      " 'convo_id': 'CONV_893871',\n",
      " 'numeric': {'age_max': 141271.0,\n",
      "             'age_mean': 54708.65,\n",
      "             'age_median': 44449.5,\n",
      "             'age_min': 0.0,\n",
      "             'age_std': 41465.149149948804,\n",
      "             'author_posts_max': 20,\n",
      "             'author_posts_mean': 20.0,\n",
      "             'author_posts_median': 20.0,\n",
      "             'author_posts_min': 20,\n",
      "             'author_posts_std': 0.0,\n",
      "             'avg_token_entropy_after-ancestors_max': 0.7335981309118995,\n",
      "             'avg_token_entropy_after-ancestors_mean': 0.4780379200208388,\n",
      "             'avg_token_entropy_after-ancestors_median': 0.5079426958475649,\n",
      "             'avg_token_entropy_after-ancestors_min': 0.2633786505412698,\n",
      "             'avg_token_entropy_after-ancestors_std': 0.14568168489962788,\n",
      "             'avg_token_entropy_after-before_max': 0.7020164765999354,\n",
      "             'avg_token_entropy_after-before_mean': 0.46373083522365344,\n",
      "             'avg_token_entropy_after-before_median': 0.44706330757726,\n",
      "             'avg_token_entropy_after-before_min': 0.2633786505412698,\n",
      "             'avg_token_entropy_after-before_std': 0.1500183386211172,\n",
      "             'avg_token_entropy_after-children_max': 0.5789871871615087,\n",
      "             'avg_token_entropy_after-children_mean': 0.3771859015346363,\n",
      "             'avg_token_entropy_after-children_median': 0.3619136563484207,\n",
      "             'avg_token_entropy_after-children_min': 0.2633786505412698,\n",
      "             'avg_token_entropy_after-children_std': 0.10295178846367069,\n",
      "             'avg_token_entropy_after-descendants_max': 0.6452169455130224,\n",
      "             'avg_token_entropy_after-descendants_mean': 0.428648798522277,\n",
      "             'avg_token_entropy_after-descendants_median': 0.3766427732830283,\n",
      "             'avg_token_entropy_after-descendants_min': 0.2633786505412698,\n",
      "             'avg_token_entropy_after-descendants_std': 0.1147442682114054,\n",
      "             'avg_token_entropy_after-full_max': 0.6239485876924096,\n",
      "             'avg_token_entropy_after-full_mean': 0.4432707313986784,\n",
      "             'avg_token_entropy_after-full_median': 0.48080177733592755,\n",
      "             'avg_token_entropy_after-full_min': 0.2633786505412698,\n",
      "             'avg_token_entropy_after-full_std': 0.1117687277740169,\n",
      "             'avg_token_entropy_after-parents_max': 0.7344433889380327,\n",
      "             'avg_token_entropy_after-parents_mean': 0.4957016599241647,\n",
      "             'avg_token_entropy_after-parents_median': 0.5425518917170696,\n",
      "             'avg_token_entropy_after-parents_min': 0.2633786505412698,\n",
      "             'avg_token_entropy_after-parents_std': 0.15547810103616216,\n",
      "             'avg_token_entropy_after-siblings_max': 0.7802419087797824,\n",
      "             'avg_token_entropy_after-siblings_mean': 0.44928299068294464,\n",
      "             'avg_token_entropy_after-siblings_median': 0.37429724301064615,\n",
      "             'avg_token_entropy_after-siblings_min': 0.2633786505412698,\n",
      "             'avg_token_entropy_after-siblings_std': 0.15911823178719106,\n",
      "             'avg_token_entropy_ancestors-after_max': 0.7335981309118995,\n",
      "             'avg_token_entropy_ancestors-after_mean': 0.40706118091527144,\n",
      "             'avg_token_entropy_ancestors-after_median': 0.33726760072091816,\n",
      "             'avg_token_entropy_ancestors-after_min': 0.2633786505412698,\n",
      "             'avg_token_entropy_ancestors-after_std': 0.1436631320834784,\n",
      "             'avg_token_entropy_ancestors-before_max': 0.6452169455130224,\n",
      "             'avg_token_entropy_ancestors-before_mean': 0.39942038593073725,\n",
      "             'avg_token_entropy_ancestors-before_median': 0.3396841439870407,\n",
      "             'avg_token_entropy_ancestors-before_min': 0.2633786505412698,\n",
      "             'avg_token_entropy_ancestors-before_std': 0.12232159943052344,\n",
      "             'avg_token_entropy_ancestors-children_max': 0.7564968680067818,\n",
      "             'avg_token_entropy_ancestors-children_mean': 0.3872170586909317,\n",
      "             'avg_token_entropy_ancestors-children_median': 0.34097799312607946,\n",
      "             'avg_token_entropy_ancestors-children_min': 0.2762296678192361,\n",
      "             'avg_token_entropy_ancestors-children_std': 0.11821555676015405,\n",
      "             'avg_token_entropy_ancestors-descendants_max': 0.6754391468152598,\n",
      "             'avg_token_entropy_ancestors-descendants_mean': 0.4064598187722419,\n",
      "             'avg_token_entropy_ancestors-descendants_median': 0.3430234811837144,\n",
      "             'avg_token_entropy_ancestors-descendants_min': 0.2633786505412698,\n",
      "             'avg_token_entropy_ancestors-descendants_std': 0.12339301328388837,\n",
      "             'avg_token_entropy_ancestors-full_max': 0.6239485876924096,\n",
      "             'avg_token_entropy_ancestors-full_mean': 0.3947587969433676,\n",
      "             'avg_token_entropy_ancestors-full_median': 0.3462435148281504,\n",
      "             'avg_token_entropy_ancestors-full_min': 0.2633786505412698,\n",
      "             'avg_token_entropy_ancestors-full_std': 0.11267427054841114,\n",
      "             'avg_token_entropy_ancestors-parents_max': 0.7344433889380327,\n",
      "             'avg_token_entropy_ancestors-parents_mean': 0.42830140837247566,\n",
      "             'avg_token_entropy_ancestors-parents_median': 0.35909289256437543,\n",
      "             'avg_token_entropy_ancestors-parents_min': 0.2633786505412698,\n",
      "             'avg_token_entropy_ancestors-parents_std': 0.14772412284751663,\n",
      "             'avg_token_entropy_ancestors-siblings_max': 0.7802419087797824,\n",
      "             'avg_token_entropy_ancestors-siblings_mean': 0.41659610457351526,\n",
      "             'avg_token_entropy_ancestors-siblings_median': 0.3424152795725053,\n",
      "             'avg_token_entropy_ancestors-siblings_min': 0.2633786505412698,\n",
      "             'avg_token_entropy_ancestors-siblings_std': 0.14995124753832517,\n",
      "             'avg_token_entropy_before-after_max': 0.7335981309118995,\n",
      "             'avg_token_entropy_before-after_mean': 0.4327447195069046,\n",
      "             'avg_token_entropy_before-after_median': 0.3678476970845257,\n",
      "             'avg_token_entropy_before-after_min': 0.2710108168802238,\n",
      "             'avg_token_entropy_before-after_std': 0.1646912714064686,\n",
      "             'avg_token_entropy_before-ancestors_max': 0.824454645864489,\n",
      "             'avg_token_entropy_before-ancestors_mean': 0.45146337802144043,\n",
      "             'avg_token_entropy_before-ancestors_median': 0.37513012608420726,\n",
      "             'avg_token_entropy_before-ancestors_min': 0.2762296678192361,\n",
      "             'avg_token_entropy_before-ancestors_std': 0.15841611652335372,\n",
      "             'avg_token_entropy_before-children_max': 0.6354352953500404,\n",
      "             'avg_token_entropy_before-children_mean': 0.4001871204191511,\n",
      "             'avg_token_entropy_before-children_median': 0.3283340140584651,\n",
      "             'avg_token_entropy_before-children_min': 0.27236391694661866,\n",
      "             'avg_token_entropy_before-children_std': 0.14240161970345255,\n",
      "             'avg_token_entropy_before-descendants_max': 0.7802419087797824,\n",
      "             'avg_token_entropy_before-descendants_mean': 0.45561662109853646,\n",
      "             'avg_token_entropy_before-descendants_median': 0.3649177670481593,\n",
      "             'avg_token_entropy_before-descendants_min': 0.2756910492996022,\n",
      "             'avg_token_entropy_before-descendants_std': 0.1720431393697748,\n",
      "             'avg_token_entropy_before-full_max': 0.6239485876924096,\n",
      "             'avg_token_entropy_before-full_mean': 0.4407403029570963,\n",
      "             'avg_token_entropy_before-full_median': 0.5055213343796431,\n",
      "             'avg_token_entropy_before-full_min': 0.2710108168802238,\n",
      "             'avg_token_entropy_before-full_std': 0.12577037201994723,\n",
      "             'avg_token_entropy_before-parents_max': 0.7344433889380327,\n",
      "             'avg_token_entropy_before-parents_mean': 0.49742525332160614,\n",
      "             'avg_token_entropy_before-parents_median': 0.5751590540742473,\n",
      "             'avg_token_entropy_before-parents_min': 0.27236391694661866,\n",
      "             'avg_token_entropy_before-parents_std': 0.1689750301513199,\n",
      "             'avg_token_entropy_before-siblings_max': 0.7020164765999354,\n",
      "             'avg_token_entropy_before-siblings_mean': 0.4270311353163298,\n",
      "             'avg_token_entropy_before-siblings_median': 0.37513012608420726,\n",
      "             'avg_token_entropy_before-siblings_min': 0.27236391694661866,\n",
      "             'avg_token_entropy_before-siblings_std': 0.1369830416233529,\n",
      "             'avg_token_entropy_children-after_max': 0.7335981309118995,\n",
      "             'avg_token_entropy_children-after_mean': 0.5046300925897989,\n",
      "             'avg_token_entropy_children-after_median': 0.5333805295535187,\n",
      "             'avg_token_entropy_children-after_min': 0.2710108168802238,\n",
      "             'avg_token_entropy_children-after_std': 0.12499507017794362,\n",
      "             'avg_token_entropy_children-ancestors_max': 0.7335981309118995,\n",
      "             'avg_token_entropy_children-ancestors_mean': 0.4818901125666691,\n",
      "             'avg_token_entropy_children-ancestors_median': 0.5182117083114635,\n",
      "             'avg_token_entropy_children-ancestors_min': 0.27236391694661866,\n",
      "             'avg_token_entropy_children-ancestors_std': 0.1359883631015959,\n",
      "             'avg_token_entropy_children-before_max': 0.7564968680067818,\n",
      "             'avg_token_entropy_children-before_mean': 0.44271669591308804,\n",
      "             'avg_token_entropy_children-before_median': 0.5043037206285388,\n",
      "             'avg_token_entropy_children-before_min': 0.2633786505412698,\n",
      "             'avg_token_entropy_children-before_std': 0.14039714866593517,\n",
      "             'avg_token_entropy_children-descendants_max': 0.7802419087797824,\n",
      "             'avg_token_entropy_children-descendants_mean': 0.4802667297768853,\n",
      "             'avg_token_entropy_children-descendants_median': 0.5002057872368451,\n",
      "             'avg_token_entropy_children-descendants_min': 0.2633786505412698,\n",
      "             'avg_token_entropy_children-descendants_std': 0.16823067944368142,\n",
      "             'avg_token_entropy_children-full_max': 0.6239485876924096,\n",
      "             'avg_token_entropy_children-full_mean': 0.437839951903788,\n",
      "             'avg_token_entropy_children-full_median': 0.456082220292212,\n",
      "             'avg_token_entropy_children-full_min': 0.2633786505412698,\n",
      "             'avg_token_entropy_children-full_std': 0.12316231293519801,\n",
      "             'avg_token_entropy_children-parents_max': 0.7344433889380327,\n",
      "             'avg_token_entropy_children-parents_mean': 0.48977564590834294,\n",
      "             'avg_token_entropy_children-parents_median': 0.5104210381214397,\n",
      "             'avg_token_entropy_children-parents_min': 0.2633786505412698,\n",
      "             'avg_token_entropy_children-parents_std': 0.16449031316181612,\n",
      "             'avg_token_entropy_children-siblings_max': 0.7802419087797824,\n",
      "             'avg_token_entropy_children-siblings_mean': 0.5204370515385586,\n",
      "             'avg_token_entropy_children-siblings_median': 0.551677605859219,\n",
      "             'avg_token_entropy_children-siblings_min': 0.2633786505412698,\n",
      "             'avg_token_entropy_children-siblings_std': 0.15705121165117217,\n",
      "             'avg_token_entropy_descendants-after_max': 0.6571325335636191,\n",
      "             'avg_token_entropy_descendants-after_mean': 0.41888179605781206,\n",
      "             'avg_token_entropy_descendants-after_median': 0.3981165359458362,\n",
      "             'avg_token_entropy_descendants-after_min': 0.2633786505412698,\n",
      "             'avg_token_entropy_descendants-after_std': 0.11378263074691065,\n",
      "             'avg_token_entropy_descendants-ancestors_max': 0.590696035812241,\n",
      "             'avg_token_entropy_descendants-ancestors_mean': 0.40474831077263335,\n",
      "             'avg_token_entropy_descendants-ancestors_median': 0.3560240827745955,\n",
      "             'avg_token_entropy_descendants-ancestors_min': 0.2633786505412698,\n",
      "             'avg_token_entropy_descendants-ancestors_std': 0.12049112851255837,\n",
      "             'avg_token_entropy_descendants-before_max': 0.7802419087797824,\n",
      "             'avg_token_entropy_descendants-before_mean': 0.45489044680276464,\n",
      "             'avg_token_entropy_descendants-before_median': 0.39379932615485014,\n",
      "             'avg_token_entropy_descendants-before_min': 0.2633786505412698,\n",
      "             'avg_token_entropy_descendants-before_std': 0.1643902383761717,\n",
      "             'avg_token_entropy_descendants-children_max': 0.7802419087797824,\n",
      "             'avg_token_entropy_descendants-children_mean': 0.4621126751836373,\n",
      "             'avg_token_entropy_descendants-children_median': 0.4522564327078102,\n",
      "             'avg_token_entropy_descendants-children_min': 0.2633786505412698,\n",
      "             'avg_token_entropy_descendants-children_std': 0.14417383501368167,\n",
      "             'avg_token_entropy_descendants-full_max': 0.6239485876924096,\n",
      "             'avg_token_entropy_descendants-full_mean': 0.4067550173540305,\n",
      "             'avg_token_entropy_descendants-full_median': 0.3812516086736289,\n",
      "             'avg_token_entropy_descendants-full_min': 0.2633786505412698,\n",
      "             'avg_token_entropy_descendants-full_std': 0.1160112239114328,\n",
      "             'avg_token_entropy_descendants-parents_max': 0.7344433889380327,\n",
      "             'avg_token_entropy_descendants-parents_mean': 0.4461737785436333,\n",
      "             'avg_token_entropy_descendants-parents_median': 0.39296644308128903,\n",
      "             'avg_token_entropy_descendants-parents_min': 0.2633786505412698,\n",
      "             'avg_token_entropy_descendants-parents_std': 0.15374560191837933,\n",
      "             'avg_token_entropy_descendants-siblings_max': 0.7564968680067818,\n",
      "             'avg_token_entropy_descendants-siblings_mean': 0.42592864021825577,\n",
      "             'avg_token_entropy_descendants-siblings_median': 0.35493531698793107,\n",
      "             'avg_token_entropy_descendants-siblings_min': 0.2633786505412698,\n",
      "             'avg_token_entropy_descendants-siblings_std': 0.15425556857498257,\n",
      "             'avg_token_entropy_full-after_max': 0.2633786505412698,\n",
      "             'avg_token_entropy_full-after_mean': 0.26337865054126985,\n",
      "             'avg_token_entropy_full-after_median': 0.2633786505412698,\n",
      "             'avg_token_entropy_full-after_min': 0.2633786505412698,\n",
      "             'avg_token_entropy_full-after_std': 5.551115123125783e-17,\n",
      "             'avg_token_entropy_full-ancestors_max': 0.2633786505412698,\n",
      "             'avg_token_entropy_full-ancestors_mean': 0.26337865054126985,\n",
      "             'avg_token_entropy_full-ancestors_median': 0.2633786505412698,\n",
      "             'avg_token_entropy_full-ancestors_min': 0.2633786505412698,\n",
      "             'avg_token_entropy_full-ancestors_std': 5.551115123125783e-17,\n",
      "             'avg_token_entropy_full-before_max': 0.2633786505412698,\n",
      "             'avg_token_entropy_full-before_mean': 0.26337865054126985,\n",
      "             'avg_token_entropy_full-before_median': 0.2633786505412698,\n",
      "             'avg_token_entropy_full-before_min': 0.2633786505412698,\n",
      "             'avg_token_entropy_full-before_std': 5.551115123125783e-17,\n",
      "             'avg_token_entropy_full-children_max': 0.2633786505412698,\n",
      "             'avg_token_entropy_full-children_mean': 0.26337865054126985,\n",
      "             'avg_token_entropy_full-children_median': 0.2633786505412698,\n",
      "             'avg_token_entropy_full-children_min': 0.2633786505412698,\n",
      "             'avg_token_entropy_full-children_std': 5.551115123125783e-17,\n",
      "             'avg_token_entropy_full-descendants_max': 0.2633786505412698,\n",
      "             'avg_token_entropy_full-descendants_mean': 0.26337865054126985,\n",
      "             'avg_token_entropy_full-descendants_median': 0.2633786505412698,\n",
      "             'avg_token_entropy_full-descendants_min': 0.2633786505412698,\n",
      "             'avg_token_entropy_full-descendants_std': 5.551115123125783e-17,\n",
      "             'avg_token_entropy_full-parents_max': 0.2633786505412698,\n",
      "             'avg_token_entropy_full-parents_mean': 0.26337865054126985,\n",
      "             'avg_token_entropy_full-parents_median': 0.2633786505412698,\n",
      "             'avg_token_entropy_full-parents_min': 0.2633786505412698,\n",
      "             'avg_token_entropy_full-parents_std': 5.551115123125783e-17,\n",
      "             'avg_token_entropy_full-siblings_max': 0.2633786505412698,\n",
      "             'avg_token_entropy_full-siblings_mean': 0.26337865054126985,\n",
      "             'avg_token_entropy_full-siblings_median': 0.2633786505412698,\n",
      "             'avg_token_entropy_full-siblings_min': 0.2633786505412698,\n",
      "             'avg_token_entropy_full-siblings_std': 5.551115123125783e-17,\n",
      "             'avg_token_entropy_parents-after_max': 0.6523627670822244,\n",
      "             'avg_token_entropy_parents-after_mean': 0.49891820592832997,\n",
      "             'avg_token_entropy_parents-after_median': 0.5233131380110997,\n",
      "             'avg_token_entropy_parents-after_min': 0.2924164792412214,\n",
      "             'avg_token_entropy_parents-after_std': 0.11762547474743362,\n",
      "             'avg_token_entropy_parents-ancestors_max': 0.6523627670822244,\n",
      "             'avg_token_entropy_parents-ancestors_mean': 0.48191189826216557,\n",
      "             'avg_token_entropy_parents-ancestors_median': 0.5105349362159792,\n",
      "             'avg_token_entropy_parents-ancestors_min': 0.2924164792412214,\n",
      "             'avg_token_entropy_parents-ancestors_std': 0.11339176494169208,\n",
      "             'avg_token_entropy_parents-before_max': 0.7192631837039197,\n",
      "             'avg_token_entropy_parents-before_mean': 0.5028583142835032,\n",
      "             'avg_token_entropy_parents-before_median': 0.5353492538330764,\n",
      "             'avg_token_entropy_parents-before_min': 0.32904693516498795,\n",
      "             'avg_token_entropy_parents-before_std': 0.1144257017048407,\n",
      "             'avg_token_entropy_parents-children_max': 0.7192631837039197,\n",
      "             'avg_token_entropy_parents-children_mean': 0.5187923432599366,\n",
      "             'avg_token_entropy_parents-children_median': 0.5315705894994537,\n",
      "             'avg_token_entropy_parents-children_min': 0.2924164792412214,\n",
      "             'avg_token_entropy_parents-children_std': 0.13162627880160294,\n",
      "             'avg_token_entropy_parents-descendants_max': 0.6698257448502467,\n",
      "             'avg_token_entropy_parents-descendants_mean': 0.49377384027322346,\n",
      "             'avg_token_entropy_parents-descendants_median': 0.512931451303737,\n",
      "             'avg_token_entropy_parents-descendants_min': 0.32508887660195473,\n",
      "             'avg_token_entropy_parents-descendants_std': 0.11144978265564566,\n",
      "             'avg_token_entropy_parents-full_max': 0.4935661452063729,\n",
      "             'avg_token_entropy_parents-full_mean': 0.4361945978479539,\n",
      "             'avg_token_entropy_parents-full_median': 0.47482418274929244,\n",
      "             'avg_token_entropy_parents-full_min': 0.32762109295194225,\n",
      "             'avg_token_entropy_parents-full_std': 0.0681524087511165,\n",
      "             'avg_token_entropy_parents-siblings_max': 0.7192631837039197,\n",
      "             'avg_token_entropy_parents-siblings_mean': 0.5151105664970291,\n",
      "             'avg_token_entropy_parents-siblings_median': 0.5407596405349949,\n",
      "             'avg_token_entropy_parents-siblings_min': 0.32904693516498795,\n",
      "             'avg_token_entropy_parents-siblings_std': 0.11728675135523181,\n",
      "             'avg_token_entropy_post-after_max': 0.7514571195506814,\n",
      "             'avg_token_entropy_post-after_mean': 0.5611050238033688,\n",
      "             'avg_token_entropy_post-after_median': 0.5778561941799598,\n",
      "             'avg_token_entropy_post-after_min': 0.32762109295194225,\n",
      "             'avg_token_entropy_post-after_std': 0.11828988337396212,\n",
      "             'avg_token_entropy_post-ancestors_max': 0.8952090657588541,\n",
      "             'avg_token_entropy_post-ancestors_mean': 0.5691900114929078,\n",
      "             'avg_token_entropy_post-ancestors_median': 0.5806381214619591,\n",
      "             'avg_token_entropy_post-ancestors_min': 0.34010913395334474,\n",
      "             'avg_token_entropy_post-ancestors_std': 0.13296355434350765,\n",
      "             'avg_token_entropy_post-before_max': 0.8249274299772671,\n",
      "             'avg_token_entropy_post-before_mean': 0.5514609118369531,\n",
      "             'avg_token_entropy_post-before_median': 0.5722309754998361,\n",
      "             'avg_token_entropy_post-before_min': 0.34010913395334474,\n",
      "             'avg_token_entropy_post-before_std': 0.12218124916975227,\n",
      "             'avg_token_entropy_post-children_max': 0.9949393324147014,\n",
      "             'avg_token_entropy_post-children_mean': 0.6178377741337064,\n",
      "             'avg_token_entropy_post-children_median': 0.6364402261032531,\n",
      "             'avg_token_entropy_post-children_min': 0.32904693516498795,\n",
      "             'avg_token_entropy_post-children_std': 0.15810189415540032,\n",
      "             'avg_token_entropy_post-descendants_max': 0.7836821342530601,\n",
      "             'avg_token_entropy_post-descendants_mean': 0.5987353760178326,\n",
      "             'avg_token_entropy_post-descendants_median': 0.6261967471061578,\n",
      "             'avg_token_entropy_post-descendants_min': 0.32762109295194225,\n",
      "             'avg_token_entropy_post-descendants_std': 0.13236818083943058,\n",
      "             'avg_token_entropy_post-full_max': 0.7239009733858374,\n",
      "             'avg_token_entropy_post-full_mean': 0.531442191900771,\n",
      "             'avg_token_entropy_post-full_median': 0.5425524809665226,\n",
      "             'avg_token_entropy_post-full_min': 0.32762109295194225,\n",
      "             'avg_token_entropy_post-full_std': 0.10980499943999038,\n",
      "             'avg_token_entropy_post-parents_max': 0.8952090657588541,\n",
      "             'avg_token_entropy_post-parents_mean': 0.6026768367516521,\n",
      "             'avg_token_entropy_post-parents_median': 0.6151548903222942,\n",
      "             'avg_token_entropy_post-parents_min': 0.34010913395334474,\n",
      "             'avg_token_entropy_post-parents_std': 0.1517653520764519,\n",
      "             'avg_token_entropy_post-siblings_max': 0.8905179677700554,\n",
      "             'avg_token_entropy_post-siblings_mean': 0.603844399192594,\n",
      "             'avg_token_entropy_post-siblings_median': 0.627101180690173,\n",
      "             'avg_token_entropy_post-siblings_min': 0.3352446580263414,\n",
      "             'avg_token_entropy_post-siblings_std': 0.15431260570568947,\n",
      "             'avg_token_entropy_siblings-after_max': 0.7802419087797824,\n",
      "             'avg_token_entropy_siblings-after_mean': 0.4892414777587203,\n",
      "             'avg_token_entropy_siblings-after_median': 0.5305257734482061,\n",
      "             'avg_token_entropy_siblings-after_min': 0.2756910492996022,\n",
      "             'avg_token_entropy_siblings-after_std': 0.15312646320917273,\n",
      "             'avg_token_entropy_siblings-ancestors_max': 0.7802419087797824,\n",
      "             'avg_token_entropy_siblings-ancestors_mean': 0.4915719904275032,\n",
      "             'avg_token_entropy_siblings-ancestors_median': 0.5579877265294471,\n",
      "             'avg_token_entropy_siblings-ancestors_min': 0.291981586933365,\n",
      "             'avg_token_entropy_siblings-ancestors_std': 0.14495280279674105,\n",
      "             'avg_token_entropy_siblings-before_max': 0.6523627670822244,\n",
      "             'avg_token_entropy_siblings-before_mean': 0.4451396352537017,\n",
      "             'avg_token_entropy_siblings-before_median': 0.37513012608420726,\n",
      "             'avg_token_entropy_siblings-before_min': 0.27236391694661866,\n",
      "             'avg_token_entropy_siblings-before_std': 0.13169673802858206,\n",
      "             'avg_token_entropy_siblings-children_max': 0.824454645864489,\n",
      "             'avg_token_entropy_siblings-children_mean': 0.49155624370883516,\n",
      "             'avg_token_entropy_siblings-children_median': 0.379438082054276,\n",
      "             'avg_token_entropy_siblings-children_min': 0.2710108168802238,\n",
      "             'avg_token_entropy_siblings-children_std': 0.1841997597868879,\n",
      "             'avg_token_entropy_siblings-descendants_max': 0.7335981309118995,\n",
      "             'avg_token_entropy_siblings-descendants_mean': 0.5074623606826792,\n",
      "             'avg_token_entropy_siblings-descendants_median': 0.5500350766459045,\n",
      "             'avg_token_entropy_siblings-descendants_min': 0.2710108168802238,\n",
      "             'avg_token_entropy_siblings-descendants_std': 0.1511145370990429,\n",
      "             'avg_token_entropy_siblings-full_max': 0.6239485876924096,\n",
      "             'avg_token_entropy_siblings-full_mean': 0.465478791685504,\n",
      "             'avg_token_entropy_siblings-full_median': 0.5215207576870401,\n",
      "             'avg_token_entropy_siblings-full_min': 0.2710108168802238,\n",
      "             'avg_token_entropy_siblings-full_std': 0.11449241007286837,\n",
      "             'avg_token_entropy_siblings-parents_max': 0.7344433889380327,\n",
      "             'avg_token_entropy_siblings-parents_mean': 0.5326917508050737,\n",
      "             'avg_token_entropy_siblings-parents_median': 0.6069827988288772,\n",
      "             'avg_token_entropy_siblings-parents_min': 0.27236391694661866,\n",
      "             'avg_token_entropy_siblings-parents_std': 0.15668796292355744,\n",
      "             'chars': 6854,\n",
      "             'chars_max': 1923,\n",
      "             'chars_mean': 342.7,\n",
      "             'chars_median': 76.5,\n",
      "             'chars_min': 14,\n",
      "             'chars_std': 571.9929282779639,\n",
      "             'connections': 19,\n",
      "             'degree_max': 8,\n",
      "             'degree_mean': 1.9,\n",
      "             'degree_median': 2.0,\n",
      "             'degree_min': 1,\n",
      "             'degree_std': 1.5132745950421556,\n",
      "             'density': 0.1,\n",
      "             'depth_max': 8,\n",
      "             'depth_mean': 2.65,\n",
      "             'depth_median': 2.0,\n",
      "             'depth_min': 0,\n",
      "             'depth_std': 2.197157254271983,\n",
      "             'duration': 141271.0,\n",
      "             'in_degree_max': 8,\n",
      "             'in_degree_mean': 0.95,\n",
      "             'in_degree_median': 1.0,\n",
      "             'in_degree_min': 0,\n",
      "             'in_degree_std': 1.7168284713389397,\n",
      "             'internal_nodes': 10,\n",
      "             'internal_ratio': 0.5,\n",
      "             'leaf_ratio': 0.45,\n",
      "             'leaves': 9,\n",
      "             'lowercase_max': 1456,\n",
      "             'lowercase_mean': 258.0,\n",
      "             'lowercase_median': 53.5,\n",
      "             'lowercase_min': 12,\n",
      "             'lowercase_std': 439.4791235087282,\n",
      "             'mentions': 0,\n",
      "             'mentions_max': 0,\n",
      "             'mentions_mean': 0.0,\n",
      "             'mentions_median': 0.0,\n",
      "             'mentions_min': 0,\n",
      "             'mentions_std': 0.0,\n",
      "             'messages': 20,\n",
      "             'out_degree_max': 1,\n",
      "             'out_degree_mean': 0.95,\n",
      "             'out_degree_median': 1.0,\n",
      "             'out_degree_min': 0,\n",
      "             'out_degree_std': 0.21794494717703372,\n",
      "             'reply_time_max': 141271.0,\n",
      "             'reply_time_mean': 30878.2,\n",
      "             'reply_time_median': 610.0,\n",
      "             'reply_time_min': 0.0,\n",
      "             'reply_time_std': 51397.16006026014,\n",
      "             'source_ratio': 0.05,\n",
      "             'sources': 1,\n",
      "             'tokens': 2475,\n",
      "             'tokens_max': 694,\n",
      "             'tokens_mean': 123.75,\n",
      "             'tokens_median': 31.5,\n",
      "             'tokens_min': 4,\n",
      "             'tokens_std': 205.04167259364618,\n",
      "             'tree_degree': 8,\n",
      "             'tree_depth': 8,\n",
      "             'tree_width': 8,\n",
      "             'types': 919,\n",
      "             'types_max': 206,\n",
      "             'types_mean': 45.95,\n",
      "             'types_median': 17.0,\n",
      "             'types_min': 4,\n",
      "             'types_std': 61.05773906721408,\n",
      "             'uppercase_max': 63,\n",
      "             'uppercase_mean': 9.95,\n",
      "             'uppercase_median': 2.0,\n",
      "             'uppercase_min': 0,\n",
      "             'uppercase_ratio_max': 0.10344827586206896,\n",
      "             'uppercase_ratio_mean': 0.037281158005038034,\n",
      "             'uppercase_ratio_median': 0.03398617511520737,\n",
      "             'uppercase_ratio_min': 0.0,\n",
      "             'uppercase_ratio_std': 0.023340887422148744,\n",
      "             'uppercase_std': 17.659204398839716,\n",
      "             'urls': 3,\n",
      "             'urls_max': 1,\n",
      "             'urls_mean': 0.15,\n",
      "             'urls_median': 0.0,\n",
      "             'urls_min': 0,\n",
      "             'urls_std': 0.3570714214271425,\n",
      "             'user_post_ratio': 0.05,\n",
      "             'users': 1,\n",
      "             'width_max': 8,\n",
      "             'width_mean': 4.4,\n",
      "             'width_median': 3.0,\n",
      "             'width_min': 1,\n",
      "             'width_std': 3.039736830714133}}\n"
     ]
    }
   ],
   "source": [
    "features = conv_ft.transform(conv)\n",
    "\n",
    "for k, v in features.items():\n",
    "    if type(v) == dict:\n",
    "        print(k, ': ', len(v))\n",
    "\n",
    "pprint(features)"
   ]
  },
  {
   "cell_type": "code",
   "execution_count": 19,
   "id": "alike-flower",
   "metadata": {},
   "outputs": [
    {
     "name": "stdout",
     "output_type": "stream",
     "text": [
      "('Pay attention, and expect to see more COVID lockdowns as we get closer to '\n",
      " 'the September election date.\\n'\n",
      " '\\n'\n",
      " 'The Dems can’t afford to lose Gavin, so they’ll pull out all the stops to '\n",
      " 'make sure they can eek out a win.\\n'\n",
      " '\\n'\n",
      " 'And when all else fails, bring in the mail-in ballots, right?')\n"
     ]
    },
    {
     "data": {
      "text/plain": [
       "4chanPost(4chan::Anonymous::2021-07-23 14:12:38::Pay attention, and expect to see more COVID lockdo::tags=)"
      ]
     },
     "execution_count": 19,
     "metadata": {},
     "output_type": "execute_result"
    }
   ],
   "source": [
    "pid = conv.time_order()[-1]\n",
    "post = conv.posts[pid]\n",
    "\n",
    "pprint(post.text)\n",
    "\n",
    "post"
   ]
  },
  {
   "cell_type": "code",
   "execution_count": 20,
   "id": "ultimate-precipitation",
   "metadata": {},
   "outputs": [
    {
     "name": "stdout",
     "output_type": "stream",
     "text": [
      "binary :  3\n",
      "numeric :  80\n",
      "categorical :  3\n"
     ]
    },
    {
     "data": {
      "text/plain": [
       "{'id': 894803,\n",
       " 'convo_id': 'CONV_893871',\n",
       " 'binary': {'is_source': 0, 'is_leaf': 1, 'is_internal': 0},\n",
       " 'numeric': {'urls': 0,\n",
       "  'mentions': 0,\n",
       "  'chars': 274,\n",
       "  'tokens': 116,\n",
       "  'types': 51,\n",
       "  'uppercase': 11,\n",
       "  'lowercase': 200,\n",
       "  'uppercase_ratio': 0.052132701421800945,\n",
       "  'depth': 1,\n",
       "  'width': 8,\n",
       "  'degree': 1,\n",
       "  'in_degree': 0,\n",
       "  'out_degree': 1,\n",
       "  'author_posts': 20,\n",
       "  'age': 141271.0,\n",
       "  'reply_time': 141271.0,\n",
       "  'avg_token_entropy_after-ancestors': 0.7335981309118995,\n",
       "  'avg_token_entropy_after-before': 0.6558509900687737,\n",
       "  'avg_token_entropy_after-children': 0.2751748682737174,\n",
       "  'avg_token_entropy_after-descendants': 0.6452169455130224,\n",
       "  'avg_token_entropy_after-full': 0.6239485876924096,\n",
       "  'avg_token_entropy_after-parents': 0.7344433889380327,\n",
       "  'avg_token_entropy_after-siblings': 0.7564968680067818,\n",
       "  'avg_token_entropy_ancestors-after': 0.5789871871615087,\n",
       "  'avg_token_entropy_ancestors-before': 0.5431555361193576,\n",
       "  'avg_token_entropy_ancestors-children': 0.3781554204818494,\n",
       "  'avg_token_entropy_ancestors-descendants': 0.5423930345501079,\n",
       "  'avg_token_entropy_ancestors-full': 0.5271702957546714,\n",
       "  'avg_token_entropy_ancestors-parents': 0.5746827453126996,\n",
       "  'avg_token_entropy_ancestors-siblings': 0.5789871871615087,\n",
       "  'avg_token_entropy_before-after': 0.37513012608420726,\n",
       "  'avg_token_entropy_before-ancestors': 0.37513012608420726,\n",
       "  'avg_token_entropy_before-children': 0.5652251349769463,\n",
       "  'avg_token_entropy_before-descendants': 0.6523627670822244,\n",
       "  'avg_token_entropy_before-full': 0.5497192352594127,\n",
       "  'avg_token_entropy_before-parents': 0.6388065435835071,\n",
       "  'avg_token_entropy_before-siblings': 0.37513012608420726,\n",
       "  'avg_token_entropy_children-after': 0.5443666913974476,\n",
       "  'avg_token_entropy_children-ancestors': 0.5446829173916374,\n",
       "  'avg_token_entropy_children-before': 0.2763141158736212,\n",
       "  'avg_token_entropy_children-descendants': 0.27642721346588073,\n",
       "  'avg_token_entropy_children-full': 0.2730208109308123,\n",
       "  'avg_token_entropy_children-parents': 0.2757727167798893,\n",
       "  'avg_token_entropy_children-siblings': 0.7802419087797824,\n",
       "  'avg_token_entropy_descendants-after': 0.2762296678192361,\n",
       "  'avg_token_entropy_descendants-ancestors': 0.2756910492996022,\n",
       "  'avg_token_entropy_descendants-before': 0.7020164765999354,\n",
       "  'avg_token_entropy_descendants-children': 0.5883322136019299,\n",
       "  'avg_token_entropy_descendants-full': 0.5717940670876168,\n",
       "  'avg_token_entropy_descendants-parents': 0.6671297930599376,\n",
       "  'avg_token_entropy_descendants-siblings': 0.27597710285059174,\n",
       "  'avg_token_entropy_full-after': 0.2633786505412698,\n",
       "  'avg_token_entropy_full-ancestors': 0.2633786505412698,\n",
       "  'avg_token_entropy_full-before': 0.2633786505412698,\n",
       "  'avg_token_entropy_full-children': 0.2633786505412698,\n",
       "  'avg_token_entropy_full-descendants': 0.2633786505412698,\n",
       "  'avg_token_entropy_full-parents': 0.2633786505412698,\n",
       "  'avg_token_entropy_full-siblings': 0.2633786505412698,\n",
       "  'avg_token_entropy_parents-after': 0.6523627670822244,\n",
       "  'avg_token_entropy_parents-ancestors': 0.6388065435835071,\n",
       "  'avg_token_entropy_parents-before': 0.5473853696550532,\n",
       "  'avg_token_entropy_parents-children': 0.5056280079459243,\n",
       "  'avg_token_entropy_parents-descendants': 0.5473853696550532,\n",
       "  'avg_token_entropy_parents-full': 0.4935661452063729,\n",
       "  'avg_token_entropy_parents-siblings': 0.6492901762765685,\n",
       "  'avg_token_entropy_post-after': 0.5023657832871691,\n",
       "  'avg_token_entropy_post-ancestors': 0.47608253118902844,\n",
       "  'avg_token_entropy_post-before': 0.45360816940715654,\n",
       "  'avg_token_entropy_post-children': 0.5023657832871691,\n",
       "  'avg_token_entropy_post-descendants': 0.5023657832871691,\n",
       "  'avg_token_entropy_post-full': 0.45360816940715654,\n",
       "  'avg_token_entropy_post-parents': 0.47608253118902844,\n",
       "  'avg_token_entropy_post-siblings': 0.4628367935842899,\n",
       "  'avg_token_entropy_siblings-after': 0.5832632179674211,\n",
       "  'avg_token_entropy_siblings-ancestors': 0.5728544919791758,\n",
       "  'avg_token_entropy_siblings-before': 0.5243680245569294,\n",
       "  'avg_token_entropy_siblings-children': 0.7802419087797824,\n",
       "  'avg_token_entropy_siblings-descendants': 0.5262065285815494,\n",
       "  'avg_token_entropy_siblings-full': 0.5055213343796431,\n",
       "  'avg_token_entropy_siblings-parents': 0.5751590540742473},\n",
       " 'categorical': {'platform': '4chan', 'lang': 'en', 'author': 'Anonymous'}}"
      ]
     },
     "execution_count": 20,
     "metadata": {},
     "output_type": "execute_result"
    }
   ],
   "source": [
    "features = post_ft.transform(post, conv)\n",
    "\n",
    "for k, v in features.items():\n",
    "    if type(v) == dict:\n",
    "        print(k, ': ', len(v))\n",
    "\n",
    "features"
   ]
  },
  {
   "cell_type": "code",
   "execution_count": null,
   "id": "genuine-project",
   "metadata": {},
   "outputs": [],
   "source": []
  }
 ],
 "metadata": {
  "kernelspec": {
   "display_name": "Python 3",
   "language": "python",
   "name": "python3"
  },
  "language_info": {
   "codemirror_mode": {
    "name": "ipython",
    "version": 3
   },
   "file_extension": ".py",
   "mimetype": "text/x-python",
   "name": "python",
   "nbconvert_exporter": "python",
   "pygments_lexer": "ipython3",
   "version": "3.7.6"
  }
 },
 "nbformat": 4,
 "nbformat_minor": 5
}
