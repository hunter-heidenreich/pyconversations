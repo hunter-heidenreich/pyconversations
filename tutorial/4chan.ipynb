{
 "cells": [
  {
   "cell_type": "markdown",
   "id": "polyphonic-rally",
   "metadata": {},
   "source": [
    "# PyConversations: A 4chan-based Example\n",
    "\n",
    "The following is a tutorial notebook that demonstrates how to use `pyconversations` with 4chan data.\n",
    "\n",
    "Interfacing with 4chan data _does not_ require any secret keys or tokens or anyting of that nature. Instead, we'll directly use a package called `BASC-py4chan` which provides [an object-oriented interface](https://basc-py4chan.readthedocs.io/en/latest/index.html) for interacting with the 4chan API. \n",
    "\n",
    "To begin, let's obtain some data using the package and then proceed by integrating the data with PyConversations!"
   ]
  },
  {
   "cell_type": "code",
   "execution_count": 1,
   "id": "visible-intent",
   "metadata": {},
   "outputs": [],
   "source": [
    "from pprint import pprint\n",
    "\n",
    "from pyconversations.convo import Conversation\n",
    "from pyconversations.message import ChanPost"
   ]
  },
  {
   "cell_type": "markdown",
   "id": "abstract-acrobat",
   "metadata": {},
   "source": [
    "## Data Sample"
   ]
  },
  {
   "cell_type": "code",
   "execution_count": 2,
   "id": "racial-probability",
   "metadata": {},
   "outputs": [],
   "source": [
    "import basc_py4chan"
   ]
  },
  {
   "cell_type": "code",
   "execution_count": 3,
   "id": "medium-crest",
   "metadata": {},
   "outputs": [
    {
     "data": {
      "text/plain": [
       "<Board /news/>"
      ]
     },
     "execution_count": 3,
     "metadata": {},
     "output_type": "execute_result"
    }
   ],
   "source": [
    "# get the board we want\n",
    "board_name = 'news'\n",
    "\n",
    "board = basc_py4chan.Board(board_name)\n",
    "board"
   ]
  },
  {
   "cell_type": "code",
   "execution_count": 4,
   "id": "jewish-revision",
   "metadata": {},
   "outputs": [
    {
     "data": {
      "text/plain": [
       "(894563, <Thread /news/894563, 29 replies>)"
      ]
     },
     "execution_count": 4,
     "metadata": {},
     "output_type": "execute_result"
    }
   ],
   "source": [
    "# select a thread on the board\n",
    "\n",
    "ix = 13\n",
    "all_thread_ids = board.get_all_thread_ids()\n",
    "thread_id = all_thread_ids[ix] if ix < len(all_thread_ids) else all_thread_ids[-1]\n",
    "thread = board.get_thread(thread_id)\n",
    "\n",
    "thread_id, thread"
   ]
  },
  {
   "cell_type": "code",
   "execution_count": 5,
   "id": "current-pharmaceutical",
   "metadata": {},
   "outputs": [
    {
     "name": "stdout",
     "output_type": "stream",
     "text": [
      "<Thread /news/894563, 29 replies>\n",
      "Sticky? False\n",
      "Closed? False\n",
      "Replies: 29\n"
     ]
    }
   ],
   "source": [
    "# print thread information\n",
    "print(thread)\n",
    "print('Sticky?', thread.sticky)\n",
    "print('Closed?', thread.closed)\n",
    "print('Replies:', len(thread.replies))"
   ]
  },
  {
   "cell_type": "code",
   "execution_count": 6,
   "id": "speaking-liquid",
   "metadata": {},
   "outputs": [
    {
     "name": "stdout",
     "output_type": "stream",
     "text": [
      "Topic Repr <Post /news/894563#894563, has_file: True>\n",
      "Postnumber 894563\n",
      "Timestamp 1627019044\n",
      "Datetime datetime.datetime(2021, 7, 23, 1, 44, 4)\n",
      "Subject Republicans go full cancel culture against an American corporation for the glory of Isreali\n",
      "Comment https://www.thedailybeast.com/gop-lawmakers-want-to-cancel-ice-cream-after-ben-and-jerrys-fiasco<br><br>Sen. James Lankford (R-OK) is among a vexed group of lawmakers coming forward with threats to cancel ice cream after Ben &amp; Jerry’s announced this week it wouldn’t renew its current license agreement with its manufacturer in Israel which also distributes frozen treats to the West Bank.<br><br>“If Ben &amp; Jerry’s wants to have a meltdown &amp; boycott Israel, OK is ready to respond. Oklahoma has an anti-boycott of Israel law in place,” Lankford wrote on Twitter Wednesday. More than two dozen states have laws opposing boycotts of Israel.<br><br>The Oklahoma Republican urged his state to “immediately block the sale of all #Benandjerrys” to Oklahomans.<br><br>The meltdown comes after the top-selling ice cream maker said a statement that it was “inconsistent” with its values to sell its ice cream in “the Occupied Palestinian Territory.” The Vermont-based company, founded by outspoken liberal activists Ben Cohen and Jerry Greenfield, said it would find another way to stay in Israel after its existing agreement expires at the end of next year.<br><br>The resulting war on ice cream has been swift.<br><br>“Now we Israelis know which ice cream NOT to buy,” Israel’s former Prime Minister Benjamin Netanyahu wrote on Twitter.<br><br>The country’s newly sworn in President Isaac Herzog called the boycott “a new kind of terrorism” on Wednesday, according to Israeli newspaper, Haaretz. “Terrorism tries to harm the citizens of Israel and the economy of Israel. We must oppose this boycott and terrorism in any form,” he said at a commemoration ceremony for dead Israeli leaders.\n"
     ]
    }
   ],
   "source": [
    "# print topic post information\n",
    "topic = thread.topic\n",
    "print('Topic Repr', topic)\n",
    "print('Postnumber', topic.post_number)\n",
    "print('Timestamp', topic.timestamp)\n",
    "print('Datetime', repr(topic.datetime))\n",
    "print('Subject', topic.subject)\n",
    "print('Comment', topic.comment)"
   ]
  },
  {
   "cell_type": "code",
   "execution_count": 7,
   "id": "italic-sweden",
   "metadata": {},
   "outputs": [
    {
     "data": {
      "text/plain": [
       "[<Post /news/894563#894563, has_file: True>,\n",
       " <Post /news/894563#894564, has_file: False>,\n",
       " <Post /news/894563#894566, has_file: False>,\n",
       " <Post /news/894563#894570, has_file: False>,\n",
       " <Post /news/894563#894573, has_file: False>,\n",
       " <Post /news/894563#894576, has_file: False>,\n",
       " <Post /news/894563#894582, has_file: False>,\n",
       " <Post /news/894563#894583, has_file: False>,\n",
       " <Post /news/894563#894587, has_file: False>,\n",
       " <Post /news/894563#894588, has_file: False>,\n",
       " <Post /news/894563#894590, has_file: False>,\n",
       " <Post /news/894563#894592, has_file: False>,\n",
       " <Post /news/894563#894594, has_file: False>,\n",
       " <Post /news/894563#894635, has_file: False>,\n",
       " <Post /news/894563#894642, has_file: False>,\n",
       " <Post /news/894563#894643, has_file: False>,\n",
       " <Post /news/894563#894648, has_file: False>,\n",
       " <Post /news/894563#894651, has_file: False>,\n",
       " <Post /news/894563#894655, has_file: False>,\n",
       " <Post /news/894563#894657, has_file: False>,\n",
       " <Post /news/894563#894665, has_file: False>,\n",
       " <Post /news/894563#894694, has_file: False>,\n",
       " <Post /news/894563#894741, has_file: False>,\n",
       " <Post /news/894563#894756, has_file: False>,\n",
       " <Post /news/894563#894770, has_file: False>,\n",
       " <Post /news/894563#894773, has_file: False>,\n",
       " <Post /news/894563#894774, has_file: False>,\n",
       " <Post /news/894563#894776, has_file: False>,\n",
       " <Post /news/894563#894779, has_file: False>,\n",
       " <Post /news/894563#894780, has_file: False>]"
      ]
     },
     "execution_count": 7,
     "metadata": {},
     "output_type": "execute_result"
    }
   ],
   "source": [
    "thread.all_posts"
   ]
  },
  {
   "cell_type": "markdown",
   "id": "behavioral-navigator",
   "metadata": {},
   "source": [
    "## Integration with `pyconversations`\n",
    "\n",
    "All that's left to do is plug our data directly into `pyconversations`!"
   ]
  },
  {
   "cell_type": "code",
   "execution_count": 8,
   "id": "falling-providence",
   "metadata": {},
   "outputs": [],
   "source": [
    "# create conversation\n",
    "conv = Conversation()"
   ]
  },
  {
   "cell_type": "code",
   "execution_count": 9,
   "id": "attended-edmonton",
   "metadata": {},
   "outputs": [],
   "source": [
    "for post in thread.all_posts:\n",
    "    \n",
    "    # gather up raw text\n",
    "    raw_text = ((post.subject + ':\\n' if post.subject else '') + post.text_comment).strip()\n",
    "    \n",
    "    # cleanse text and retrieve references to other posts\n",
    "    text, rfs = ChanPost.clean_text(raw_text)\n",
    "    if not rfs and topic.post_number != post.post_id:\n",
    "        rfs = [topic.post_number]\n",
    "    rfs = list(map(int, rfs))\n",
    "    \n",
    "    # create data for the post constructor\n",
    "    cons = {\n",
    "        'uid':        post.post_id,  # unique identifier for the post (mandatory field)\n",
    "        'created_at': post.datetime,  # datetime of post creation\n",
    "        'text':       text,  # cleaned plaintext\n",
    "        'author':     post.name,  # self-assigned name of the poster (likely 'Anonymous')\n",
    "        'reply_to':   rfs,  # cleaned references to other posts\n",
    "        'lang_detect': True  # whether or not to attempt language detection\n",
    "    }\n",
    "    conv.add_post(ChanPost(**cons))"
   ]
  },
  {
   "cell_type": "code",
   "execution_count": 10,
   "id": "continuous-bench",
   "metadata": {},
   "outputs": [
    {
     "data": {
      "text/plain": [
       "30"
      ]
     },
     "execution_count": 10,
     "metadata": {},
     "output_type": "execute_result"
    }
   ],
   "source": [
    "# print number of unique posts contained within the Conversation\n",
    "len(conv.posts)"
   ]
  },
  {
   "cell_type": "code",
   "execution_count": 11,
   "id": "saved-worship",
   "metadata": {},
   "outputs": [
    {
     "data": {
      "text/plain": [
       "1"
      ]
     },
     "execution_count": 11,
     "metadata": {},
     "output_type": "execute_result"
    }
   ],
   "source": [
    "# Conversations can be sub-segmented (if we have a large collection and are uncertain if posts are missing or would like to splice out disjoint trees)\n",
    "# This is likely to return a single conversation (a copy of what we built) since we just queried a single thread directly using the API \n",
    "# This is more relevant when ingesting a heterogenous collection of posts\n",
    "segs = conv.segment()\n",
    "\n",
    "len(segs)"
   ]
  },
  {
   "cell_type": "markdown",
   "id": "civilian-disclaimer",
   "metadata": {},
   "source": [
    "### (Detected) Language Distribution"
   ]
  },
  {
   "cell_type": "code",
   "execution_count": 12,
   "id": "dangerous-roots",
   "metadata": {},
   "outputs": [
    {
     "data": {
      "text/plain": [
       "Counter({'en': 28, 'hr': 1, 'es': 1})"
      ]
     },
     "execution_count": 12,
     "metadata": {},
     "output_type": "execute_result"
    }
   ],
   "source": [
    "from collections import Counter\n",
    "\n",
    "lang_dist = Counter([post.lang for post in conv.posts.values()])\n",
    "lang_dist"
   ]
  },
  {
   "cell_type": "markdown",
   "id": "direct-youth",
   "metadata": {},
   "source": [
    "### Saving and Loading from the universal format"
   ]
  },
  {
   "cell_type": "code",
   "execution_count": 13,
   "id": "postal-shirt",
   "metadata": {},
   "outputs": [],
   "source": [
    "import json"
   ]
  },
  {
   "cell_type": "code",
   "execution_count": 14,
   "id": "prescribed-overall",
   "metadata": {},
   "outputs": [],
   "source": [
    "# saving a conversation to disk\n",
    "# alternatively: save as a JSONLine file, where each line is a conversation!\n",
    "j = conv.to_json()\n",
    "# pprint.pprint(j)\n",
    "json.dump(j, open('4chan_conv.json', 'w+'))"
   ]
  },
  {
   "cell_type": "code",
   "execution_count": 15,
   "id": "electoral-broadcast",
   "metadata": {},
   "outputs": [
    {
     "data": {
      "text/plain": [
       "30"
      ]
     },
     "execution_count": 15,
     "metadata": {},
     "output_type": "execute_result"
    }
   ],
   "source": [
    "# reloading directly from the JSON\n",
    "conv_reloaded = Conversation.from_json(json.load(open('4chan_conv.json')))\n",
    "len(conv_reloaded.posts)"
   ]
  },
  {
   "cell_type": "markdown",
   "id": "dimensional-nature",
   "metadata": {},
   "source": [
    "### Feature Extraction\n",
    "\n",
    "PyConversations exposes many features for extraction that are needed for social media analysis. \n",
    "Let's use the main feature extraction engine:"
   ]
  },
  {
   "cell_type": "code",
   "execution_count": 16,
   "id": "classified-limitation",
   "metadata": {},
   "outputs": [],
   "source": [
    "from pyconversations.feature_extraction import ConversationFeaturizer\n",
    "from pyconversations.feature_extraction import PostFeaturizer"
   ]
  },
  {
   "cell_type": "code",
   "execution_count": 17,
   "id": "everyday-dutch",
   "metadata": {},
   "outputs": [],
   "source": [
    "conv_ft = ConversationFeaturizer(include_post=False)\n",
    "post_ft = PostFeaturizer()"
   ]
  },
  {
   "cell_type": "code",
   "execution_count": 18,
   "id": "selective-produce",
   "metadata": {},
   "outputs": [
    {
     "name": "stdout",
     "output_type": "stream",
     "text": [
      "{'binary': {},\n",
      " 'categorical': {},\n",
      " 'convo_id': 'CONV_894563',\n",
      " 'numeric': {'chars': 9651,\n",
      "             'connections': 29,\n",
      "             'density': 0.06666666666666667,\n",
      "             'duration': 42541.0,\n",
      "             'internal_nodes': 16,\n",
      "             'internal_ratio': 0.5333333333333333,\n",
      "             'leaf_ratio': 0.43333333333333335,\n",
      "             'leaves': 13,\n",
      "             'mentions': 0,\n",
      "             'messages': 30,\n",
      "             'source_ratio': 0.03333333333333333,\n",
      "             'sources': 1,\n",
      "             'tokens': 3445,\n",
      "             'tree_degree': 10,\n",
      "             'tree_depth': 7,\n",
      "             'tree_width': 10,\n",
      "             'types': 1312,\n",
      "             'urls': 3,\n",
      "             'user_post_ratio': 0.03333333333333333,\n",
      "             'users': 1}}\n"
     ]
    }
   ],
   "source": [
    "features = conv_ft.transform(conv)\n",
    "pprint(features)"
   ]
  },
  {
   "cell_type": "code",
   "execution_count": 19,
   "id": "homeless-raise",
   "metadata": {},
   "outputs": [
    {
     "name": "stdout",
     "output_type": "stream",
     "text": [
      "('Republicans go full cancel culture against an American corporation for the '\n",
      " 'glory of Isreali:\\n'\n",
      " 'https://www.thedailybeast.com/gop-lawmakers-want-to-cancel-ice-cream-after-ben-and-jerrys-fiasco\\n'\n",
      " '\\n'\n",
      " 'Sen. James Lankford (R-OK) is among a vexed group of lawmakers coming '\n",
      " 'forward with threats to cancel ice cream after Ben & Jerry’s announced this '\n",
      " 'week it wouldn’t renew its current license agreement with its manufacturer '\n",
      " 'in Israel which also distributes frozen treats to the West Bank.\\n'\n",
      " '\\n'\n",
      " '“If Ben & Jerry’s wants to have a meltdown & boycott Israel, OK is ready to '\n",
      " 'respond. Oklahoma has an anti-boycott of Israel law in place,” Lankford '\n",
      " 'wrote on Twitter Wednesday. More than two dozen states have laws opposing '\n",
      " 'boycotts of Israel.\\n'\n",
      " '\\n'\n",
      " 'The Oklahoma Republican urged his state to “immediately block the sale of '\n",
      " 'all #Benandjerrys” to Oklahomans.\\n'\n",
      " '\\n'\n",
      " 'The meltdown comes after the top-selling ice cream maker said a statement '\n",
      " 'that it was “inconsistent” with its values to sell its ice cream in “the '\n",
      " 'Occupied Palestinian Territory.” The Vermont-based company, founded by '\n",
      " 'outspoken liberal activists Ben Cohen and Jerry Greenfield, said it would '\n",
      " 'find another way to stay in Israel after its existing agreement expires at '\n",
      " 'the end of next year.\\n'\n",
      " '\\n'\n",
      " 'The resulting war on ice cream has been swift.\\n'\n",
      " '\\n'\n",
      " '“Now we Israelis know which ice cream NOT to buy,” Israel’s former Prime '\n",
      " 'Minister Benjamin Netanyahu wrote on Twitter.\\n'\n",
      " '\\n'\n",
      " 'The country’s newly sworn in President Isaac Herzog called the boycott “a '\n",
      " 'new kind of terrorism” on Wednesday, according to Israeli newspaper, '\n",
      " 'Haaretz. “Terrorism tries to harm the citizens of Israel and the economy of '\n",
      " 'Israel. We must oppose this boycott and terrorism in any form,” he said at a '\n",
      " 'commemoration ceremony for dead Israeli leaders.')\n"
     ]
    },
    {
     "data": {
      "text/plain": [
       "4chanPost(4chan::Anonymous::2021-07-23 01:44:04::Republicans go full cancel culture against an Amer::tags=)"
      ]
     },
     "execution_count": 19,
     "metadata": {},
     "output_type": "execute_result"
    }
   ],
   "source": [
    "pid = conv.time_order()[0]\n",
    "post = conv.posts[pid]\n",
    "\n",
    "pprint(post.text)\n",
    "\n",
    "post"
   ]
  },
  {
   "cell_type": "code",
   "execution_count": 20,
   "id": "basic-session",
   "metadata": {},
   "outputs": [
    {
     "name": "stdout",
     "output_type": "stream",
     "text": [
      "binary :  3\n",
      "numeric :  80\n",
      "categorical :  3\n"
     ]
    },
    {
     "data": {
      "text/plain": [
       "{'id': 894563,\n",
       " 'convo_id': 'CONV_894563',\n",
       " 'binary': {'is_source': 1, 'is_leaf': 0, 'is_internal': 0},\n",
       " 'numeric': {'urls': 1,\n",
       "  'mentions': 0,\n",
       "  'chars': 1732,\n",
       "  'tokens': 599,\n",
       "  'types': 188,\n",
       "  'uppercase': 67,\n",
       "  'lowercase': 1324,\n",
       "  'uppercase_ratio': 0.04816678648454349,\n",
       "  'depth': 0,\n",
       "  'width': 1,\n",
       "  'degree': 10,\n",
       "  'in_degree': 10,\n",
       "  'out_degree': 0,\n",
       "  'author_posts': 30,\n",
       "  'age': 0.0,\n",
       "  'reply_time': 0,\n",
       "  'avg_token_entropy_after-ancestors': 0.24444395748108105,\n",
       "  'avg_token_entropy_after-before': 0.24444395748108105,\n",
       "  'avg_token_entropy_after-children': 0.24444395748108105,\n",
       "  'avg_token_entropy_after-descendants': 0.24444395748108105,\n",
       "  'avg_token_entropy_after-full': 0.24444395748108105,\n",
       "  'avg_token_entropy_after-parents': 0.24444395748108105,\n",
       "  'avg_token_entropy_after-siblings': 0.24444395748108105,\n",
       "  'avg_token_entropy_ancestors-after': 0.24444395748108105,\n",
       "  'avg_token_entropy_ancestors-before': 0.24444395748108105,\n",
       "  'avg_token_entropy_ancestors-children': 0.24444395748108105,\n",
       "  'avg_token_entropy_ancestors-descendants': 0.24444395748108105,\n",
       "  'avg_token_entropy_ancestors-full': 0.24444395748108105,\n",
       "  'avg_token_entropy_ancestors-parents': 0.24444395748108105,\n",
       "  'avg_token_entropy_ancestors-siblings': 0.24444395748108105,\n",
       "  'avg_token_entropy_before-after': 0.34511276378582656,\n",
       "  'avg_token_entropy_before-ancestors': 0.34511276378582656,\n",
       "  'avg_token_entropy_before-children': 0.34511276378582656,\n",
       "  'avg_token_entropy_before-descendants': 0.34511276378582656,\n",
       "  'avg_token_entropy_before-full': 0.34511276378582656,\n",
       "  'avg_token_entropy_before-parents': 0.34511276378582656,\n",
       "  'avg_token_entropy_before-siblings': 0.34511276378582656,\n",
       "  'avg_token_entropy_children-after': 0.2727086431581452,\n",
       "  'avg_token_entropy_children-ancestors': 0.2727086431581452,\n",
       "  'avg_token_entropy_children-before': 0.2727086431581452,\n",
       "  'avg_token_entropy_children-descendants': 0.2727086431581452,\n",
       "  'avg_token_entropy_children-full': 0.2727086431581452,\n",
       "  'avg_token_entropy_children-parents': 0.2727086431581452,\n",
       "  'avg_token_entropy_children-siblings': 0.2727086431581452,\n",
       "  'avg_token_entropy_descendants-after': 0.24444395748108105,\n",
       "  'avg_token_entropy_descendants-ancestors': 0.24444395748108105,\n",
       "  'avg_token_entropy_descendants-before': 0.24444395748108105,\n",
       "  'avg_token_entropy_descendants-children': 0.24444395748108105,\n",
       "  'avg_token_entropy_descendants-full': 0.24444395748108105,\n",
       "  'avg_token_entropy_descendants-parents': 0.24444395748108105,\n",
       "  'avg_token_entropy_descendants-siblings': 0.24444395748108105,\n",
       "  'avg_token_entropy_full-after': 0.24444395748108105,\n",
       "  'avg_token_entropy_full-ancestors': 0.24444395748108105,\n",
       "  'avg_token_entropy_full-before': 0.24444395748108105,\n",
       "  'avg_token_entropy_full-children': 0.24444395748108105,\n",
       "  'avg_token_entropy_full-descendants': 0.24444395748108105,\n",
       "  'avg_token_entropy_full-parents': 0.24444395748108105,\n",
       "  'avg_token_entropy_full-siblings': 0.24444395748108105,\n",
       "  'avg_token_entropy_parents-after': 0.34511276378582656,\n",
       "  'avg_token_entropy_parents-ancestors': 0.34511276378582656,\n",
       "  'avg_token_entropy_parents-before': 0.34511276378582656,\n",
       "  'avg_token_entropy_parents-children': 0.34511276378582656,\n",
       "  'avg_token_entropy_parents-descendants': 0.34511276378582656,\n",
       "  'avg_token_entropy_parents-full': 0.34511276378582656,\n",
       "  'avg_token_entropy_parents-siblings': 0.34511276378582656,\n",
       "  'avg_token_entropy_post-after': 0.34511276378582656,\n",
       "  'avg_token_entropy_post-ancestors': 0.34511276378582656,\n",
       "  'avg_token_entropy_post-before': 0.3628482276846515,\n",
       "  'avg_token_entropy_post-children': 0.34699209844828005,\n",
       "  'avg_token_entropy_post-descendants': 0.34511276378582656,\n",
       "  'avg_token_entropy_post-full': 0.34511276378582656,\n",
       "  'avg_token_entropy_post-parents': 0.3628482276846515,\n",
       "  'avg_token_entropy_post-siblings': 0.3628482276846515,\n",
       "  'avg_token_entropy_siblings-after': 0.34511276378582656,\n",
       "  'avg_token_entropy_siblings-ancestors': 0.34511276378582656,\n",
       "  'avg_token_entropy_siblings-before': 0.34511276378582656,\n",
       "  'avg_token_entropy_siblings-children': 0.34511276378582656,\n",
       "  'avg_token_entropy_siblings-descendants': 0.34511276378582656,\n",
       "  'avg_token_entropy_siblings-full': 0.34511276378582656,\n",
       "  'avg_token_entropy_siblings-parents': 0.34511276378582656},\n",
       " 'categorical': {'platform': '4chan', 'lang': 'en', 'author': 'Anonymous'}}"
      ]
     },
     "execution_count": 20,
     "metadata": {},
     "output_type": "execute_result"
    }
   ],
   "source": [
    "features = post_ft.transform(post, conv)\n",
    "\n",
    "for k, v in features.items():\n",
    "    if type(v) == dict:\n",
    "        print(k, ': ', len(v))\n",
    "\n",
    "features"
   ]
  },
  {
   "cell_type": "code",
   "execution_count": 21,
   "id": "committed-voice",
   "metadata": {},
   "outputs": [],
   "source": [
    "conv_ft = ConversationFeaturizer()"
   ]
  },
  {
   "cell_type": "code",
   "execution_count": null,
   "id": "welcome-chuck",
   "metadata": {},
   "outputs": [],
   "source": [
    "features = conv_ft.transform(conv)\n",
    "pprint(features)"
   ]
  }
 ],
 "metadata": {
  "kernelspec": {
   "display_name": "Python 3",
   "language": "python",
   "name": "python3"
  },
  "language_info": {
   "codemirror_mode": {
    "name": "ipython",
    "version": 3
   },
   "file_extension": ".py",
   "mimetype": "text/x-python",
   "name": "python",
   "nbconvert_exporter": "python",
   "pygments_lexer": "ipython3",
   "version": "3.7.6"
  }
 },
 "nbformat": 4,
 "nbformat_minor": 5
}
