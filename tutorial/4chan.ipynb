{
 "cells": [
  {
   "cell_type": "markdown",
   "id": "statutory-nurse",
   "metadata": {},
   "source": [
    "# PyConversations: A 4chan-based Example\n",
    "\n",
    "The following is a tutorial notebook that demonstrates how to use `pyconversations` with 4chan data.\n",
    "\n",
    "Interfacing with 4chan data _does not_ require any secret keys or tokens or anyting of that nature. Instead, we'll directly use a package called `BASC-py4chan` which provides [an object-oriented interface](https://basc-py4chan.readthedocs.io/en/latest/index.html) for interacting with the 4chan API. \n",
    "\n",
    "To begin, let's obtain some data using the package and then proceed by integrating the data with PyConversations!"
   ]
  },
  {
   "cell_type": "code",
   "execution_count": 1,
   "id": "blocked-overall",
   "metadata": {},
   "outputs": [],
   "source": [
    "from pprint import pprint\n",
    "\n",
    "from pyconversations.convo import Conversation\n",
    "from pyconversations.message import ChanPost"
   ]
  },
  {
   "cell_type": "markdown",
   "id": "passing-johns",
   "metadata": {},
   "source": [
    "## Data Sample"
   ]
  },
  {
   "cell_type": "code",
   "execution_count": 2,
   "id": "white-twelve",
   "metadata": {},
   "outputs": [],
   "source": [
    "import basc_py4chan"
   ]
  },
  {
   "cell_type": "code",
   "execution_count": 3,
   "id": "automated-cincinnati",
   "metadata": {},
   "outputs": [
    {
     "data": {
      "text/plain": [
       "<Board /news/>"
      ]
     },
     "execution_count": 3,
     "metadata": {},
     "output_type": "execute_result"
    }
   ],
   "source": [
    "# get the board we want\n",
    "board_name = 'news'\n",
    "\n",
    "board = basc_py4chan.Board(board_name)\n",
    "board"
   ]
  },
  {
   "cell_type": "code",
   "execution_count": 4,
   "id": "handy-haiti",
   "metadata": {},
   "outputs": [
    {
     "data": {
      "text/plain": [
       "(893871, <Thread /news/893871, 19 replies>)"
      ]
     },
     "execution_count": 4,
     "metadata": {},
     "output_type": "execute_result"
    }
   ],
   "source": [
    "# select a thread on the board\n",
    "\n",
    "ix = 13\n",
    "all_thread_ids = board.get_all_thread_ids()\n",
    "thread_id = all_thread_ids[ix] if ix < len(all_thread_ids) else all_thread_ids[-1]\n",
    "thread = board.get_thread(thread_id)\n",
    "\n",
    "thread_id, thread"
   ]
  },
  {
   "cell_type": "code",
   "execution_count": 5,
   "id": "sitting-blame",
   "metadata": {},
   "outputs": [
    {
     "name": "stdout",
     "output_type": "stream",
     "text": [
      "<Thread /news/893871, 19 replies>\n",
      "Sticky? False\n",
      "Closed? False\n",
      "Replies: 19\n"
     ]
    }
   ],
   "source": [
    "# print thread information\n",
    "print(thread)\n",
    "print('Sticky?', thread.sticky)\n",
    "print('Closed?', thread.closed)\n",
    "print('Replies:', len(thread.replies))"
   ]
  },
  {
   "cell_type": "code",
   "execution_count": 6,
   "id": "lined-patio",
   "metadata": {},
   "outputs": [
    {
     "name": "stdout",
     "output_type": "stream",
     "text": [
      "Topic Repr <Post /news/893871#893871, has_file: True>\n",
      "Postnumber 893871\n",
      "Timestamp 1626922687\n",
      "Datetime datetime.datetime(2021, 7, 21, 22, 58, 7)\n",
      "Subject Larry Elder wins fight to enter California recall\n",
      "Comment LOS ANGELES – A California judge on Wednesday cleared the way for conservative talk radio host Larry Elder to join the field of candidates for an upcoming recall election aimed at removing Democratic Gov. Gavin Newsom from office.<br><br>Elder scored a swift court victory in Sacramento, where he challenged a decision by state election officials to block him from the September recall ballot.<br><br>In a tweet, Elder wrote, “Victory! My next one will be on Sept. 14 at the ballot box.”<br><br>He added: “This isn’t just a victory for me, but a victory for the people of California. And not just those who favor the recall and support me, but all voters, including many who will come to know me.”<br><br>Superior Court Judge Laurie M. Earl disagreed with a state decision that Elder failed to meet requirements to run in the election.<br><br>Under a new requirement, candidates for California governor must publicly release tax returns for the five most recent years to qualify for the ballot. The rule was passed in an effort by Democrats to force then-President Donald Trump to release his tax returns during the 2020 election. A court struck down the presidential requirement but left it in place for gubernatorial candidates.<br><br>But the judge determined the rule didn&#039;t apply to recall elections and, even if it did, Elder substantially complied.<br><br>&quot;I don’t find that Mr. Elder was required to file tax returns at all,&quot; the judge said.<br><br>The ruling amounted to a rebuke for Secretary of State Shirley Weber, who was appointed by Newsom in December.<br><br>The election, in the nation’s most populous state, will be a marquee contest with national implications, watched closely as a barometer of the public mood heading toward the 2022 elections, when a closely divided Congress again will be in play.<br><br><br>https://www.ksat.com/news/politics/2021/07/21/judge-radio-host-larry-elder-will-appear-on-recall-ballot/\n"
     ]
    }
   ],
   "source": [
    "# print topic post information\n",
    "topic = thread.topic\n",
    "print('Topic Repr', topic)\n",
    "print('Postnumber', topic.post_number)\n",
    "print('Timestamp', topic.timestamp)\n",
    "print('Datetime', repr(topic.datetime))\n",
    "print('Subject', topic.subject)\n",
    "print('Comment', topic.comment)"
   ]
  },
  {
   "cell_type": "code",
   "execution_count": 7,
   "id": "seeing-merit",
   "metadata": {},
   "outputs": [
    {
     "data": {
      "text/plain": [
       "[<Post /news/893871#893871, has_file: True>,\n",
       " <Post /news/893871#893872, has_file: False>,\n",
       " <Post /news/893871#893874, has_file: False>,\n",
       " <Post /news/893871#894034, has_file: False>,\n",
       " <Post /news/893871#894037, has_file: False>,\n",
       " <Post /news/893871#894038, has_file: False>,\n",
       " <Post /news/893871#894055, has_file: False>,\n",
       " <Post /news/893871#894062, has_file: False>,\n",
       " <Post /news/893871#894063, has_file: False>,\n",
       " <Post /news/893871#894064, has_file: False>,\n",
       " <Post /news/893871#894067, has_file: False>,\n",
       " <Post /news/893871#894073, has_file: False>,\n",
       " <Post /news/893871#894136, has_file: False>,\n",
       " <Post /news/893871#894172, has_file: False>,\n",
       " <Post /news/893871#894177, has_file: False>,\n",
       " <Post /news/893871#894194, has_file: False>,\n",
       " <Post /news/893871#894522, has_file: False>,\n",
       " <Post /news/893871#894801, has_file: False>,\n",
       " <Post /news/893871#894802, has_file: False>,\n",
       " <Post /news/893871#894803, has_file: False>]"
      ]
     },
     "execution_count": 7,
     "metadata": {},
     "output_type": "execute_result"
    }
   ],
   "source": [
    "thread.all_posts"
   ]
  },
  {
   "cell_type": "markdown",
   "id": "frequent-glasgow",
   "metadata": {},
   "source": [
    "## Integration with `pyconversations`\n",
    "\n",
    "All that's left to do is plug our data directly into `pyconversations`!"
   ]
  },
  {
   "cell_type": "code",
   "execution_count": 8,
   "id": "middle-royal",
   "metadata": {},
   "outputs": [],
   "source": [
    "# create conversation\n",
    "conv = Conversation()"
   ]
  },
  {
   "cell_type": "code",
   "execution_count": 9,
   "id": "widespread-drilling",
   "metadata": {},
   "outputs": [],
   "source": [
    "for post in thread.all_posts:\n",
    "    \n",
    "    # gather up raw text\n",
    "    raw_text = ((post.subject + ':\\n' if post.subject else '') + post.text_comment).strip()\n",
    "    \n",
    "    # cleanse text and retrieve references to other posts\n",
    "    text, rfs = ChanPost.clean_text(raw_text)\n",
    "    if not rfs and topic.post_number != post.post_id:\n",
    "        rfs = [topic.post_number]\n",
    "    rfs = list(map(int, rfs))\n",
    "    \n",
    "    # create data for the post constructor\n",
    "    cons = {\n",
    "        'uid':        post.post_id,  # unique identifier for the post (mandatory field)\n",
    "        'created_at': post.datetime,  # datetime of post creation\n",
    "        'text':       text,  # cleaned plaintext\n",
    "        'author':     post.name,  # self-assigned name of the poster (likely 'Anonymous')\n",
    "        'reply_to':   rfs,  # cleaned references to other posts\n",
    "        'lang_detect': True  # whether or not to attempt language detection\n",
    "    }\n",
    "    conv.add_post(ChanPost(**cons))"
   ]
  },
  {
   "cell_type": "code",
   "execution_count": 10,
   "id": "confirmed-passion",
   "metadata": {},
   "outputs": [
    {
     "data": {
      "text/plain": [
       "20"
      ]
     },
     "execution_count": 10,
     "metadata": {},
     "output_type": "execute_result"
    }
   ],
   "source": [
    "# print number of unique posts contained within the Conversation\n",
    "len(conv.posts)"
   ]
  },
  {
   "cell_type": "code",
   "execution_count": 11,
   "id": "floppy-drinking",
   "metadata": {},
   "outputs": [
    {
     "data": {
      "text/plain": [
       "1"
      ]
     },
     "execution_count": 11,
     "metadata": {},
     "output_type": "execute_result"
    }
   ],
   "source": [
    "# Conversations can be sub-segmented (if we have a large collection and are uncertain if posts are missing or would like to splice out disjoint trees)\n",
    "# This is likely to return a single conversation (a copy of what we built) since we just queried a single thread directly using the API \n",
    "# This is more relevant when ingesting a heterogenous collection of posts\n",
    "segs = conv.segment()\n",
    "\n",
    "len(segs)"
   ]
  },
  {
   "cell_type": "markdown",
   "id": "headed-occurrence",
   "metadata": {},
   "source": [
    "### (Detected) Language Distribution"
   ]
  },
  {
   "cell_type": "code",
   "execution_count": 12,
   "id": "rocky-extent",
   "metadata": {},
   "outputs": [
    {
     "data": {
      "text/plain": [
       "Counter({'en': 18, 'und': 1, 'nl': 1})"
      ]
     },
     "execution_count": 12,
     "metadata": {},
     "output_type": "execute_result"
    }
   ],
   "source": [
    "from collections import Counter\n",
    "\n",
    "lang_dist = Counter([post.lang for post in conv.posts.values()])\n",
    "lang_dist"
   ]
  },
  {
   "cell_type": "markdown",
   "id": "passing-representation",
   "metadata": {},
   "source": [
    "### Saving and Loading from the universal format"
   ]
  },
  {
   "cell_type": "code",
   "execution_count": 13,
   "id": "juvenile-metro",
   "metadata": {},
   "outputs": [],
   "source": [
    "import json"
   ]
  },
  {
   "cell_type": "code",
   "execution_count": 14,
   "id": "damaged-indianapolis",
   "metadata": {},
   "outputs": [],
   "source": [
    "# saving a conversation to disk\n",
    "# alternatively: save as a JSONLine file, where each line is a conversation!\n",
    "j = conv.to_json()\n",
    "# pprint.pprint(j)\n",
    "json.dump(j, open('4chan_conv.json', 'w+'))"
   ]
  },
  {
   "cell_type": "code",
   "execution_count": 15,
   "id": "protective-closer",
   "metadata": {},
   "outputs": [
    {
     "data": {
      "text/plain": [
       "20"
      ]
     },
     "execution_count": 15,
     "metadata": {},
     "output_type": "execute_result"
    }
   ],
   "source": [
    "# reloading directly from the JSON\n",
    "conv_reloaded = Conversation.from_json(json.load(open('4chan_conv.json')))\n",
    "len(conv_reloaded.posts)"
   ]
  },
  {
   "cell_type": "markdown",
   "id": "accompanied-briefing",
   "metadata": {},
   "source": [
    "### Feature Extraction\n",
    "\n",
    "PyConversations exposes many features for extraction that are needed for social media analysis. \n",
    "Let's use the main feature extraction engine:"
   ]
  },
  {
   "cell_type": "code",
   "execution_count": 16,
   "id": "worse-superintendent",
   "metadata": {},
   "outputs": [],
   "source": [
    "from pyconversations.feature_extraction import ConversationFeaturizer\n",
    "from pyconversations.feature_extraction import PostFeaturizer"
   ]
  },
  {
   "cell_type": "code",
   "execution_count": 17,
   "id": "compact-designer",
   "metadata": {},
   "outputs": [],
   "source": [
    "conv_ft = ConversationFeaturizer(include_post=False)\n",
    "post_ft = PostFeaturizer()"
   ]
  },
  {
   "cell_type": "code",
   "execution_count": 18,
   "id": "speaking-progressive",
   "metadata": {},
   "outputs": [
    {
     "name": "stdout",
     "output_type": "stream",
     "text": [
      "binary :  0\n",
      "numeric :  420\n",
      "categorical :  0\n",
      "{'binary': {},\n",
      " 'categorical': {},\n",
      " 'convo_id': 'CONV_893871',\n",
      " 'numeric': {'age_max': 141271.0,\n",
      "             'age_mean': 54708.65,\n",
      "             'age_median': 44449.5,\n",
      "             'age_min': 0.0,\n",
      "             'age_std': 41465.149149948804,\n",
      "             'author_posts_max': 20,\n",
      "             'author_posts_mean': 20.0,\n",
      "             'author_posts_median': 20.0,\n",
      "             'author_posts_min': 20,\n",
      "             'author_posts_std': 0.0,\n",
      "             'avg_token_entropy_after-ancestors_max': 0.7335981309118995,\n",
      "             'avg_token_entropy_after-ancestors_mean': 0.4436810561915885,\n",
      "             'avg_token_entropy_after-ancestors_median': 0.3664204072307681,\n",
      "             'avg_token_entropy_after-ancestors_min': 0.2633786505412698,\n",
      "             'avg_token_entropy_after-ancestors_std': 0.15476113993369517,\n",
      "             'avg_token_entropy_after-before_max': 0.7020164765999354,\n",
      "             'avg_token_entropy_after-before_mean': 0.4617702593405227,\n",
      "             'avg_token_entropy_after-before_median': 0.4868204333340057,\n",
      "             'avg_token_entropy_after-before_min': 0.2633786505412698,\n",
      "             'avg_token_entropy_after-before_std': 0.14548012357154683,\n",
      "             'avg_token_entropy_after-children_max': 0.5789871871615087,\n",
      "             'avg_token_entropy_after-children_mean': 0.38489360013732477,\n",
      "             'avg_token_entropy_after-children_median': 0.36836320227454117,\n",
      "             'avg_token_entropy_after-children_min': 0.2633786505412698,\n",
      "             'avg_token_entropy_after-children_std': 0.10002780586705386,\n",
      "             'avg_token_entropy_after-descendants_max': 0.6292268020236712,\n",
      "             'avg_token_entropy_after-descendants_mean': 0.38634323717275176,\n",
      "             'avg_token_entropy_after-descendants_median': 0.3634653900552387,\n",
      "             'avg_token_entropy_after-descendants_min': 0.2633786505412698,\n",
      "             'avg_token_entropy_after-descendants_std': 0.1027630909867721,\n",
      "             'avg_token_entropy_after-full_max': 0.5717940670876168,\n",
      "             'avg_token_entropy_after-full_mean': 0.41520744838594936,\n",
      "             'avg_token_entropy_after-full_median': 0.3998868546157268,\n",
      "             'avg_token_entropy_after-full_min': 0.2633786505412698,\n",
      "             'avg_token_entropy_after-full_std': 0.11356879334942661,\n",
      "             'avg_token_entropy_after-parents_max': 0.6774301620334586,\n",
      "             'avg_token_entropy_after-parents_mean': 0.44131855211988996,\n",
      "             'avg_token_entropy_after-parents_median': 0.37278901152845434,\n",
      "             'avg_token_entropy_after-parents_min': 0.2633786505412698,\n",
      "             'avg_token_entropy_after-parents_std': 0.14501920593857842,\n",
      "             'avg_token_entropy_after-siblings_max': 0.7802419087797824,\n",
      "             'avg_token_entropy_after-siblings_mean': 0.4410494955778678,\n",
      "             'avg_token_entropy_after-siblings_median': 0.37346435993708504,\n",
      "             'avg_token_entropy_after-siblings_min': 0.2633786505412698,\n",
      "             'avg_token_entropy_after-siblings_std': 0.16472707482182236,\n",
      "             'avg_token_entropy_ancestors-after_max': 0.7335981309118995,\n",
      "             'avg_token_entropy_ancestors-after_mean': 0.3935720683757151,\n",
      "             'avg_token_entropy_ancestors-after_median': 0.33215835870658994,\n",
      "             'avg_token_entropy_ancestors-after_min': 0.2633786505412698,\n",
      "             'avg_token_entropy_ancestors-after_std': 0.14362704122650521,\n",
      "             'avg_token_entropy_ancestors-before_max': 0.5852480851050496,\n",
      "             'avg_token_entropy_ancestors-before_mean': 0.36882137053109626,\n",
      "             'avg_token_entropy_ancestors-before_median': 0.3385041744784476,\n",
      "             'avg_token_entropy_ancestors-before_min': 0.2633786505412698,\n",
      "             'avg_token_entropy_ancestors-before_std': 0.09974232777802416,\n",
      "             'avg_token_entropy_ancestors-children_max': 0.7564968680067818,\n",
      "             'avg_token_entropy_ancestors-children_mean': 0.40190003384234013,\n",
      "             'avg_token_entropy_ancestors-children_median': 0.34097799312607946,\n",
      "             'avg_token_entropy_ancestors-children_min': 0.2633786505412698,\n",
      "             'avg_token_entropy_ancestors-children_std': 0.13387102811364254,\n",
      "             'avg_token_entropy_ancestors-descendants_max': 0.5883322136019299,\n",
      "             'avg_token_entropy_ancestors-descendants_mean': 0.3867158149113955,\n",
      "             'avg_token_entropy_ancestors-descendants_median': 0.3418088161771018,\n",
      "             'avg_token_entropy_ancestors-descendants_min': 0.2633786505412698,\n",
      "             'avg_token_entropy_ancestors-descendants_std': 0.10050760952752144,\n",
      "             'avg_token_entropy_ancestors-full_max': 0.5717940670876168,\n",
      "             'avg_token_entropy_ancestors-full_mean': 0.3801855242479735,\n",
      "             'avg_token_entropy_ancestors-full_median': 0.32762109295194225,\n",
      "             'avg_token_entropy_ancestors-full_min': 0.2633786505412698,\n",
      "             'avg_token_entropy_ancestors-full_std': 0.10352176350128425,\n",
      "             'avg_token_entropy_ancestors-parents_max': 0.6754391468152598,\n",
      "             'avg_token_entropy_ancestors-parents_mean': 0.3892837666092226,\n",
      "             'avg_token_entropy_ancestors-parents_median': 0.3429993433817994,\n",
      "             'avg_token_entropy_ancestors-parents_min': 0.2633786505412698,\n",
      "             'avg_token_entropy_ancestors-parents_std': 0.12188766223297476,\n",
      "             'avg_token_entropy_ancestors-siblings_max': 0.7802419087797824,\n",
      "             'avg_token_entropy_ancestors-siblings_mean': 0.42674217900944766,\n",
      "             'avg_token_entropy_ancestors-siblings_median': 0.37346435993708504,\n",
      "             'avg_token_entropy_ancestors-siblings_min': 0.2633786505412698,\n",
      "             'avg_token_entropy_ancestors-siblings_std': 0.14493896840593534,\n",
      "             'avg_token_entropy_before-after_max': 0.7836821342530601,\n",
      "             'avg_token_entropy_before-after_mean': 0.46517573043913607,\n",
      "             'avg_token_entropy_before-after_median': 0.3678476970845257,\n",
      "             'avg_token_entropy_before-after_min': 0.2730208109308123,\n",
      "             'avg_token_entropy_before-after_std': 0.1761188158025854,\n",
      "             'avg_token_entropy_before-ancestors_max': 0.6671297930599376,\n",
      "             'avg_token_entropy_before-ancestors_mean': 0.4379427152202856,\n",
      "             'avg_token_entropy_before-ancestors_median': 0.37513012608420726,\n",
      "             'avg_token_entropy_before-ancestors_min': 0.27642721346588073,\n",
      "             'avg_token_entropy_before-ancestors_std': 0.12745467449016154,\n",
      "             'avg_token_entropy_before-children_max': 0.5832632179674211,\n",
      "             'avg_token_entropy_before-children_mean': 0.3837273724000477,\n",
      "             'avg_token_entropy_before-children_median': 0.3327813968704596,\n",
      "             'avg_token_entropy_before-children_min': 0.27597710285059174,\n",
      "             'avg_token_entropy_before-children_std': 0.11602185677212305,\n",
      "             'avg_token_entropy_before-descendants_max': 0.7802419087797824,\n",
      "             'avg_token_entropy_before-descendants_mean': 0.44379474840259103,\n",
      "             'avg_token_entropy_before-descendants_median': 0.34532962680287493,\n",
      "             'avg_token_entropy_before-descendants_min': 0.2756910492996022,\n",
      "             'avg_token_entropy_before-descendants_std': 0.17677740311735446,\n",
      "             'avg_token_entropy_before-full_max': 0.5717940670876168,\n",
      "             'avg_token_entropy_before-full_mean': 0.4283053182938053,\n",
      "             'avg_token_entropy_before-full_median': 0.4217691000249294,\n",
      "             'avg_token_entropy_before-full_min': 0.2730208109308123,\n",
      "             'avg_token_entropy_before-full_std': 0.11290961554444336,\n",
      "             'avg_token_entropy_before-parents_max': 0.6774301620334586,\n",
      "             'avg_token_entropy_before-parents_mean': 0.48664253469708035,\n",
      "             'avg_token_entropy_before-parents_median': 0.5334108568487016,\n",
      "             'avg_token_entropy_before-parents_min': 0.27642721346588073,\n",
      "             'avg_token_entropy_before-parents_std': 0.15023244483146442,\n",
      "             'avg_token_entropy_before-siblings_max': 0.7020164765999354,\n",
      "             'avg_token_entropy_before-siblings_mean': 0.42728213144343635,\n",
      "             'avg_token_entropy_before-siblings_median': 0.3649177670481593,\n",
      "             'avg_token_entropy_before-siblings_min': 0.27642721346588073,\n",
      "             'avg_token_entropy_before-siblings_std': 0.12736324393446882,\n",
      "             'avg_token_entropy_children-after_max': 0.7335981309118995,\n",
      "             'avg_token_entropy_children-after_mean': 0.452750902265939,\n",
      "             'avg_token_entropy_children-after_median': 0.5023888046971786,\n",
      "             'avg_token_entropy_children-after_min': 0.2710108168802238,\n",
      "             'avg_token_entropy_children-after_std': 0.14004529504713698,\n",
      "             'avg_token_entropy_children-ancestors_max': 0.7335981309118995,\n",
      "             'avg_token_entropy_children-ancestors_mean': 0.4551515155128567,\n",
      "             'avg_token_entropy_children-ancestors_median': 0.4887873874283474,\n",
      "             'avg_token_entropy_children-ancestors_min': 0.2710108168802238,\n",
      "             'avg_token_entropy_children-ancestors_std': 0.14306569264536503,\n",
      "             'avg_token_entropy_children-before_max': 0.7564968680067818,\n",
      "             'avg_token_entropy_children-before_mean': 0.42493656376914046,\n",
      "             'avg_token_entropy_children-before_median': 0.37336364777263914,\n",
      "             'avg_token_entropy_children-before_min': 0.27236391694661866,\n",
      "             'avg_token_entropy_children-before_std': 0.14521306989935076,\n",
      "             'avg_token_entropy_children-descendants_max': 0.7802419087797824,\n",
      "             'avg_token_entropy_children-descendants_mean': 0.49816660338670016,\n",
      "             'avg_token_entropy_children-descendants_median': 0.5446713018346625,\n",
      "             'avg_token_entropy_children-descendants_min': 0.2710108168802238,\n",
      "             'avg_token_entropy_children-descendants_std': 0.16390045972954598,\n",
      "             'avg_token_entropy_children-full_max': 0.5717940670876168,\n",
      "             'avg_token_entropy_children-full_mean': 0.41404043954724373,\n",
      "             'avg_token_entropy_children-full_median': 0.4472610146742455,\n",
      "             'avg_token_entropy_children-full_min': 0.2710108168802238,\n",
      "             'avg_token_entropy_children-full_std': 0.11785622801956416,\n",
      "             'avg_token_entropy_children-parents_max': 0.6774301620334586,\n",
      "             'avg_token_entropy_children-parents_mean': 0.47146344173241833,\n",
      "             'avg_token_entropy_children-parents_median': 0.537943657349985,\n",
      "             'avg_token_entropy_children-parents_min': 0.27236391694661866,\n",
      "             'avg_token_entropy_children-parents_std': 0.15288324239816367,\n",
      "             'avg_token_entropy_children-siblings_max': 0.7802419087797824,\n",
      "             'avg_token_entropy_children-siblings_mean': 0.49509471563975704,\n",
      "             'avg_token_entropy_children-siblings_median': 0.5358766971059914,\n",
      "             'avg_token_entropy_children-siblings_min': 0.27236391694661866,\n",
      "             'avg_token_entropy_children-siblings_std': 0.17006560453893194,\n",
      "             'avg_token_entropy_descendants-after_max': 0.6671297930599376,\n",
      "             'avg_token_entropy_descendants-after_mean': 0.4547382995969328,\n",
      "             'avg_token_entropy_descendants-after_median': 0.453445694380235,\n",
      "             'avg_token_entropy_descendants-after_min': 0.2633786505412698,\n",
      "             'avg_token_entropy_descendants-after_std': 0.10925831039376875,\n",
      "             'avg_token_entropy_descendants-ancestors_max': 0.590696035812241,\n",
      "             'avg_token_entropy_descendants-ancestors_mean': 0.4173434955628007,\n",
      "             'avg_token_entropy_descendants-ancestors_median': 0.4082627194043391,\n",
      "             'avg_token_entropy_descendants-ancestors_min': 0.2633786505412698,\n",
      "             'avg_token_entropy_descendants-ancestors_std': 0.10523445425486144,\n",
      "             'avg_token_entropy_descendants-before_max': 0.7802419087797824,\n",
      "             'avg_token_entropy_descendants-before_mean': 0.4877629927125011,\n",
      "             'avg_token_entropy_descendants-before_median': 0.450336887076816,\n",
      "             'avg_token_entropy_descendants-before_min': 0.2633786505412698,\n",
      "             'avg_token_entropy_descendants-before_std': 0.1433816748664342,\n",
      "             'avg_token_entropy_descendants-children_max': 0.7802419087797824,\n",
      "             'avg_token_entropy_descendants-children_mean': 0.4746783880660141,\n",
      "             'avg_token_entropy_descendants-children_median': 0.46481007392017265,\n",
      "             'avg_token_entropy_descendants-children_min': 0.2633786505412698,\n",
      "             'avg_token_entropy_descendants-children_std': 0.13384613964997388,\n",
      "             'avg_token_entropy_descendants-full_max': 0.5717940670876168,\n",
      "             'avg_token_entropy_descendants-full_mean': 0.4176898230074054,\n",
      "             'avg_token_entropy_descendants-full_median': 0.4190892072375336,\n",
      "             'avg_token_entropy_descendants-full_min': 0.2633786505412698,\n",
      "             'avg_token_entropy_descendants-full_std': 0.09321294250489247,\n",
      "             'avg_token_entropy_descendants-parents_max': 0.6774301620334586,\n",
      "             'avg_token_entropy_descendants-parents_mean': 0.46478047289145125,\n",
      "             'avg_token_entropy_descendants-parents_median': 0.4510689593379926,\n",
      "             'avg_token_entropy_descendants-parents_min': 0.2633786505412698,\n",
      "             'avg_token_entropy_descendants-parents_std': 0.13059760986894983,\n",
      "             'avg_token_entropy_descendants-siblings_max': 0.7564968680067818,\n",
      "             'avg_token_entropy_descendants-siblings_mean': 0.4438350224701705,\n",
      "             'avg_token_entropy_descendants-siblings_median': 0.41678573601647906,\n",
      "             'avg_token_entropy_descendants-siblings_min': 0.2633786505412698,\n",
      "             'avg_token_entropy_descendants-siblings_std': 0.14130988645035905,\n",
      "             'avg_token_entropy_full-after_max': 0.2633786505412698,\n",
      "             'avg_token_entropy_full-after_mean': 0.26337865054126985,\n",
      "             'avg_token_entropy_full-after_median': 0.2633786505412698,\n",
      "             'avg_token_entropy_full-after_min': 0.2633786505412698,\n",
      "             'avg_token_entropy_full-after_std': 5.551115123125783e-17,\n",
      "             'avg_token_entropy_full-ancestors_max': 0.2633786505412698,\n",
      "             'avg_token_entropy_full-ancestors_mean': 0.26337865054126985,\n",
      "             'avg_token_entropy_full-ancestors_median': 0.2633786505412698,\n",
      "             'avg_token_entropy_full-ancestors_min': 0.2633786505412698,\n",
      "             'avg_token_entropy_full-ancestors_std': 5.551115123125783e-17,\n",
      "             'avg_token_entropy_full-before_max': 0.2633786505412698,\n",
      "             'avg_token_entropy_full-before_mean': 0.26337865054126985,\n",
      "             'avg_token_entropy_full-before_median': 0.2633786505412698,\n",
      "             'avg_token_entropy_full-before_min': 0.2633786505412698,\n",
      "             'avg_token_entropy_full-before_std': 5.551115123125783e-17,\n",
      "             'avg_token_entropy_full-children_max': 0.2633786505412698,\n",
      "             'avg_token_entropy_full-children_mean': 0.26337865054126985,\n",
      "             'avg_token_entropy_full-children_median': 0.2633786505412698,\n",
      "             'avg_token_entropy_full-children_min': 0.2633786505412698,\n",
      "             'avg_token_entropy_full-children_std': 5.551115123125783e-17,\n",
      "             'avg_token_entropy_full-descendants_max': 0.2633786505412698,\n",
      "             'avg_token_entropy_full-descendants_mean': 0.26337865054126985,\n",
      "             'avg_token_entropy_full-descendants_median': 0.2633786505412698,\n",
      "             'avg_token_entropy_full-descendants_min': 0.2633786505412698,\n",
      "             'avg_token_entropy_full-descendants_std': 5.551115123125783e-17,\n",
      "             'avg_token_entropy_full-parents_max': 0.2633786505412698,\n",
      "             'avg_token_entropy_full-parents_mean': 0.26337865054126985,\n",
      "             'avg_token_entropy_full-parents_median': 0.2633786505412698,\n",
      "             'avg_token_entropy_full-parents_min': 0.2633786505412698,\n",
      "             'avg_token_entropy_full-parents_std': 5.551115123125783e-17,\n",
      "             'avg_token_entropy_full-siblings_max': 0.2633786505412698,\n",
      "             'avg_token_entropy_full-siblings_mean': 0.26337865054126985,\n",
      "             'avg_token_entropy_full-siblings_median': 0.2633786505412698,\n",
      "             'avg_token_entropy_full-siblings_min': 0.2633786505412698,\n",
      "             'avg_token_entropy_full-siblings_std': 5.551115123125783e-17,\n",
      "             'avg_token_entropy_parents-after_max': 0.6492901762765685,\n",
      "             'avg_token_entropy_parents-after_mean': 0.4856839180756247,\n",
      "             'avg_token_entropy_parents-after_median': 0.4734923571450219,\n",
      "             'avg_token_entropy_parents-after_min': 0.32762109295194225,\n",
      "             'avg_token_entropy_parents-after_std': 0.10944458532819563,\n",
      "             'avg_token_entropy_parents-ancestors_max': 0.6388065435835071,\n",
      "             'avg_token_entropy_parents-ancestors_mean': 0.46995395390597555,\n",
      "             'avg_token_entropy_parents-ancestors_median': 0.4734923571450219,\n",
      "             'avg_token_entropy_parents-ancestors_min': 0.32762109295194225,\n",
      "             'avg_token_entropy_parents-ancestors_std': 0.09876419724770819,\n",
      "             'avg_token_entropy_parents-before_max': 0.6492901762765685,\n",
      "             'avg_token_entropy_parents-before_mean': 0.4687303336052445,\n",
      "             'avg_token_entropy_parents-before_median': 0.4953017755516525,\n",
      "             'avg_token_entropy_parents-before_min': 0.27914140672779486,\n",
      "             'avg_token_entropy_parents-before_std': 0.10122615602013214,\n",
      "             'avg_token_entropy_parents-children_max': 0.7192631837039197,\n",
      "             'avg_token_entropy_parents-children_mean': 0.48360070878968936,\n",
      "             'avg_token_entropy_parents-children_median': 0.493208707335035,\n",
      "             'avg_token_entropy_parents-children_min': 0.27914140672779486,\n",
      "             'avg_token_entropy_parents-children_std': 0.1303205545949506,\n",
      "             'avg_token_entropy_parents-descendants_max': 0.6698257448502467,\n",
      "             'avg_token_entropy_parents-descendants_mean': 0.4968268770057353,\n",
      "             'avg_token_entropy_parents-descendants_median': 0.493208707335035,\n",
      "             'avg_token_entropy_parents-descendants_min': 0.32508887660195473,\n",
      "             'avg_token_entropy_parents-descendants_std': 0.10488732414030165,\n",
      "             'avg_token_entropy_parents-full_max': 0.456082220292212,\n",
      "             'avg_token_entropy_parents-full_mean': 0.41072523790519105,\n",
      "             'avg_token_entropy_parents-full_median': 0.456082220292212,\n",
      "             'avg_token_entropy_parents-full_min': 0.2752509298751146,\n",
      "             'avg_token_entropy_parents-full_std': 0.06186422224669439,\n",
      "             'avg_token_entropy_parents-siblings_max': 0.6492901762765685,\n",
      "             'avg_token_entropy_parents-siblings_mean': 0.47582454433106347,\n",
      "             'avg_token_entropy_parents-siblings_median': 0.5168670880662697,\n",
      "             'avg_token_entropy_parents-siblings_min': 0.27914140672779486,\n",
      "             'avg_token_entropy_parents-siblings_std': 0.10972732367397117,\n",
      "             'avg_token_entropy_post-after_max': 0.7514571195506814,\n",
      "             'avg_token_entropy_post-after_mean': 0.5611050238033688,\n",
      "             'avg_token_entropy_post-after_median': 0.5778561941799598,\n",
      "             'avg_token_entropy_post-after_min': 0.32762109295194225,\n",
      "             'avg_token_entropy_post-after_std': 0.11828988337396212,\n",
      "             'avg_token_entropy_post-ancestors_max': 0.8952090657588541,\n",
      "             'avg_token_entropy_post-ancestors_mean': 0.5691900114929078,\n",
      "             'avg_token_entropy_post-ancestors_median': 0.5806381214619591,\n",
      "             'avg_token_entropy_post-ancestors_min': 0.34010913395334474,\n",
      "             'avg_token_entropy_post-ancestors_std': 0.13296355434350765,\n",
      "             'avg_token_entropy_post-before_max': 0.8249274299772671,\n",
      "             'avg_token_entropy_post-before_mean': 0.5514609118369531,\n",
      "             'avg_token_entropy_post-before_median': 0.5722309754998361,\n",
      "             'avg_token_entropy_post-before_min': 0.34010913395334474,\n",
      "             'avg_token_entropy_post-before_std': 0.12218124916975227,\n",
      "             'avg_token_entropy_post-children_max': 0.9949393324147014,\n",
      "             'avg_token_entropy_post-children_mean': 0.6178377741337064,\n",
      "             'avg_token_entropy_post-children_median': 0.6364402261032531,\n",
      "             'avg_token_entropy_post-children_min': 0.32904693516498795,\n",
      "             'avg_token_entropy_post-children_std': 0.15810189415540032,\n",
      "             'avg_token_entropy_post-descendants_max': 0.7836821342530601,\n",
      "             'avg_token_entropy_post-descendants_mean': 0.5987353760178326,\n",
      "             'avg_token_entropy_post-descendants_median': 0.6261967471061578,\n",
      "             'avg_token_entropy_post-descendants_min': 0.32762109295194225,\n",
      "             'avg_token_entropy_post-descendants_std': 0.13236818083943058,\n",
      "             'avg_token_entropy_post-full_max': 0.7239009733858374,\n",
      "             'avg_token_entropy_post-full_mean': 0.531442191900771,\n",
      "             'avg_token_entropy_post-full_median': 0.5425524809665226,\n",
      "             'avg_token_entropy_post-full_min': 0.32762109295194225,\n",
      "             'avg_token_entropy_post-full_std': 0.10980499943999038,\n",
      "             'avg_token_entropy_post-parents_max': 0.8952090657588541,\n",
      "             'avg_token_entropy_post-parents_mean': 0.6026768367516521,\n",
      "             'avg_token_entropy_post-parents_median': 0.6151548903222942,\n",
      "             'avg_token_entropy_post-parents_min': 0.34010913395334474,\n",
      "             'avg_token_entropy_post-parents_std': 0.1517653520764519,\n",
      "             'avg_token_entropy_post-siblings_max': 0.8905179677700554,\n",
      "             'avg_token_entropy_post-siblings_mean': 0.603844399192594,\n",
      "             'avg_token_entropy_post-siblings_median': 0.627101180690173,\n",
      "             'avg_token_entropy_post-siblings_min': 0.3352446580263414,\n",
      "             'avg_token_entropy_post-siblings_std': 0.15431260570568947,\n",
      "             'avg_token_entropy_siblings-after_max': 0.7802419087797824,\n",
      "             'avg_token_entropy_siblings-after_mean': 0.45113729574387074,\n",
      "             'avg_token_entropy_siblings-after_median': 0.37513012608420726,\n",
      "             'avg_token_entropy_siblings-after_min': 0.2633786505412698,\n",
      "             'avg_token_entropy_siblings-after_std': 0.14016421641698484,\n",
      "             'avg_token_entropy_siblings-ancestors_max': 0.7802419087797824,\n",
      "             'avg_token_entropy_siblings-ancestors_mean': 0.48654257898942205,\n",
      "             'avg_token_entropy_siblings-ancestors_median': 0.5300623909388358,\n",
      "             'avg_token_entropy_siblings-ancestors_min': 0.2633786505412698,\n",
      "             'avg_token_entropy_siblings-ancestors_std': 0.1446513541661909,\n",
      "             'avg_token_entropy_siblings-before_max': 0.6671297930599376,\n",
      "             'avg_token_entropy_siblings-before_mean': 0.45902516596677173,\n",
      "             'avg_token_entropy_siblings-before_median': 0.44974907532056835,\n",
      "             'avg_token_entropy_siblings-before_min': 0.2633786505412698,\n",
      "             'avg_token_entropy_siblings-before_std': 0.12356688252098715,\n",
      "             'avg_token_entropy_siblings-children_max': 0.7802419087797824,\n",
      "             'avg_token_entropy_siblings-children_mean': 0.5153340081527003,\n",
      "             'avg_token_entropy_siblings-children_median': 0.5614139880809976,\n",
      "             'avg_token_entropy_siblings-children_min': 0.3052055803954725,\n",
      "             'avg_token_entropy_siblings-children_std': 0.17208386482763782,\n",
      "             'avg_token_entropy_siblings-descendants_max': 0.7836821342530601,\n",
      "             'avg_token_entropy_siblings-descendants_mean': 0.511396613723391,\n",
      "             'avg_token_entropy_siblings-descendants_median': 0.5318615373311404,\n",
      "             'avg_token_entropy_siblings-descendants_min': 0.2633786505412698,\n",
      "             'avg_token_entropy_siblings-descendants_std': 0.15434501733844108,\n",
      "             'avg_token_entropy_siblings-full_max': 0.5717940670876168,\n",
      "             'avg_token_entropy_siblings-full_mean': 0.4498316849016793,\n",
      "             'avg_token_entropy_siblings-full_median': 0.5055213343796431,\n",
      "             'avg_token_entropy_siblings-full_min': 0.2633786505412698,\n",
      "             'avg_token_entropy_siblings-full_std': 0.10796265657580677,\n",
      "             'avg_token_entropy_siblings-parents_max': 0.6774301620334586,\n",
      "             'avg_token_entropy_siblings-parents_mean': 0.5045665499247531,\n",
      "             'avg_token_entropy_siblings-parents_median': 0.573225794870752,\n",
      "             'avg_token_entropy_siblings-parents_min': 0.2633786505412698,\n",
      "             'avg_token_entropy_siblings-parents_std': 0.14341760455860272,\n",
      "             'chars': 6854,\n",
      "             'chars_max': 1923,\n",
      "             'chars_mean': 342.7,\n",
      "             'chars_median': 76.5,\n",
      "             'chars_min': 14,\n",
      "             'chars_std': 571.9929282779639,\n",
      "             'connections': 19,\n",
      "             'degree_max': 8,\n",
      "             'degree_mean': 1.9,\n",
      "             'degree_median': 2.0,\n",
      "             'degree_min': 1,\n",
      "             'degree_std': 1.5132745950421556,\n",
      "             'density': 0.1,\n",
      "             'depth_max': 8,\n",
      "             'depth_mean': 2.65,\n",
      "             'depth_median': 2.0,\n",
      "             'depth_min': 0,\n",
      "             'depth_std': 2.197157254271983,\n",
      "             'duration': 141271.0,\n",
      "             'in_degree_max': 8,\n",
      "             'in_degree_mean': 0.95,\n",
      "             'in_degree_median': 1.0,\n",
      "             'in_degree_min': 0,\n",
      "             'in_degree_std': 1.7168284713389397,\n",
      "             'internal_nodes': 10,\n",
      "             'internal_ratio': 0.5,\n",
      "             'leaf_ratio': 0.45,\n",
      "             'leaves': 9,\n",
      "             'lowercase_max': 1456,\n",
      "             'lowercase_mean': 258.0,\n",
      "             'lowercase_median': 53.5,\n",
      "             'lowercase_min': 12,\n",
      "             'lowercase_std': 439.4791235087282,\n",
      "             'mentions': 11,\n",
      "             'mentions_max': 1,\n",
      "             'mentions_mean': 0.55,\n",
      "             'mentions_median': 1.0,\n",
      "             'mentions_min': 0,\n",
      "             'mentions_std': 0.49749371855331,\n",
      "             'messages': 20,\n",
      "             'out_degree_max': 1,\n",
      "             'out_degree_mean': 0.95,\n",
      "             'out_degree_median': 1.0,\n",
      "             'out_degree_min': 0,\n",
      "             'out_degree_std': 0.21794494717703372,\n",
      "             'reply_time_max': 141271.0,\n",
      "             'reply_time_mean': 30878.2,\n",
      "             'reply_time_median': 610.0,\n",
      "             'reply_time_min': 0.0,\n",
      "             'reply_time_std': 51397.16006026014,\n",
      "             'source_ratio': 0.05,\n",
      "             'sources': 1,\n",
      "             'tokens': 2475,\n",
      "             'tokens_max': 694,\n",
      "             'tokens_mean': 123.75,\n",
      "             'tokens_median': 31.5,\n",
      "             'tokens_min': 4,\n",
      "             'tokens_std': 205.04167259364618,\n",
      "             'tree_degree': 8,\n",
      "             'tree_depth': 8,\n",
      "             'tree_width': 8,\n",
      "             'types': 919,\n",
      "             'types_max': 206,\n",
      "             'types_mean': 45.95,\n",
      "             'types_median': 17.0,\n",
      "             'types_min': 4,\n",
      "             'types_std': 61.05773906721408,\n",
      "             'uppercase_max': 63,\n",
      "             'uppercase_mean': 9.95,\n",
      "             'uppercase_median': 2.0,\n",
      "             'uppercase_min': 0,\n",
      "             'uppercase_ratio_max': 0.10344827586206896,\n",
      "             'uppercase_ratio_mean': 0.037281158005038034,\n",
      "             'uppercase_ratio_median': 0.03398617511520737,\n",
      "             'uppercase_ratio_min': 0.0,\n",
      "             'uppercase_ratio_std': 0.023340887422148744,\n",
      "             'uppercase_std': 17.659204398839716,\n",
      "             'urls': 3,\n",
      "             'urls_max': 1,\n",
      "             'urls_mean': 0.15,\n",
      "             'urls_median': 0.0,\n",
      "             'urls_min': 0,\n",
      "             'urls_std': 0.3570714214271425,\n",
      "             'user_post_ratio': 0.05,\n",
      "             'users': 1,\n",
      "             'width_max': 8,\n",
      "             'width_mean': 4.4,\n",
      "             'width_median': 3.0,\n",
      "             'width_min': 1,\n",
      "             'width_std': 3.039736830714133}}\n"
     ]
    }
   ],
   "source": [
    "features = conv_ft.transform(conv)\n",
    "\n",
    "for k, v in features.items():\n",
    "    if type(v) == dict:\n",
    "        print(k, ': ', len(v))\n",
    "\n",
    "pprint(features)"
   ]
  },
  {
   "cell_type": "code",
   "execution_count": 25,
   "id": "invisible-albuquerque",
   "metadata": {},
   "outputs": [
    {
     "name": "stdout",
     "output_type": "stream",
     "text": [
      "'>>894034\\nThe man that will upset the California cartel'\n"
     ]
    },
    {
     "data": {
      "text/plain": [
       "4chanPost(4chan::Anonymous::2021-07-22 08:54:34::>>894034\n",
       "The man that will upset the California ca::tags=)"
      ]
     },
     "execution_count": 25,
     "metadata": {},
     "output_type": "execute_result"
    }
   ],
   "source": [
    "pid = conv.time_order()[4]\n",
    "post = conv.posts[pid]\n",
    "\n",
    "pprint(post.text)\n",
    "\n",
    "post"
   ]
  },
  {
   "cell_type": "code",
   "execution_count": 26,
   "id": "conceptual-participant",
   "metadata": {},
   "outputs": [
    {
     "name": "stdout",
     "output_type": "stream",
     "text": [
      "binary :  4\n",
      "numeric :  80\n",
      "categorical :  3\n"
     ]
    },
    {
     "data": {
      "text/plain": [
       "{'id': 894037,\n",
       " 'convo_id': 'CONV_893871',\n",
       " 'binary': {'is_source': 0,\n",
       "  'is_leaf': 0,\n",
       "  'is_internal': 1,\n",
       "  'is_source_author': 1},\n",
       " 'numeric': {'urls': 0,\n",
       "  'mentions': 1,\n",
       "  'chars': 54,\n",
       "  'tokens': 19,\n",
       "  'types': 12,\n",
       "  'uppercase': 2,\n",
       "  'lowercase': 36,\n",
       "  'uppercase_ratio': 0.05263157894736842,\n",
       "  'depth': 2,\n",
       "  'width': 3,\n",
       "  'degree': 2,\n",
       "  'in_degree': 1,\n",
       "  'out_degree': 1,\n",
       "  'author_posts': 20,\n",
       "  'age': 35787.0,\n",
       "  'reply_time': 463.0,\n",
       "  'avg_token_entropy_after-ancestors': 0.32762109295194225,\n",
       "  'avg_token_entropy_after-before': 0.3447214251916658,\n",
       "  'avg_token_entropy_after-children': 0.32904693516498795,\n",
       "  'avg_token_entropy_after-descendants': 0.32508887660195473,\n",
       "  'avg_token_entropy_after-full': 0.32762109295194225,\n",
       "  'avg_token_entropy_after-parents': 0.3447214251916658,\n",
       "  'avg_token_entropy_after-siblings': 0.3447214251916658,\n",
       "  'avg_token_entropy_ancestors-after': 0.2633786505412698,\n",
       "  'avg_token_entropy_ancestors-before': 0.2633786505412698,\n",
       "  'avg_token_entropy_ancestors-children': 0.2633786505412698,\n",
       "  'avg_token_entropy_ancestors-descendants': 0.33527604742109957,\n",
       "  'avg_token_entropy_ancestors-full': 0.2633786505412698,\n",
       "  'avg_token_entropy_ancestors-parents': 0.2633786505412698,\n",
       "  'avg_token_entropy_ancestors-siblings': 0.2633786505412698,\n",
       "  'avg_token_entropy_before-after': 0.3447214251916658,\n",
       "  'avg_token_entropy_before-ancestors': 0.32762109295194225,\n",
       "  'avg_token_entropy_before-children': 0.32904693516498795,\n",
       "  'avg_token_entropy_before-descendants': 0.28061743913182013,\n",
       "  'avg_token_entropy_before-full': 0.32762109295194225,\n",
       "  'avg_token_entropy_before-parents': 0.3447214251916658,\n",
       "  'avg_token_entropy_before-siblings': 0.3447214251916658,\n",
       "  'avg_token_entropy_children-after': 0.27236391694661866,\n",
       "  'avg_token_entropy_children-ancestors': 0.2710108168802238,\n",
       "  'avg_token_entropy_children-before': 0.27236391694661866,\n",
       "  'avg_token_entropy_children-descendants': 0.5446713018346625,\n",
       "  'avg_token_entropy_children-full': 0.2710108168802238,\n",
       "  'avg_token_entropy_children-parents': 0.27236391694661866,\n",
       "  'avg_token_entropy_children-siblings': 0.27236391694661866,\n",
       "  'avg_token_entropy_descendants-after': 0.412468526225493,\n",
       "  'avg_token_entropy_descendants-ancestors': 0.4117345685624812,\n",
       "  'avg_token_entropy_descendants-before': 0.40661816159193354,\n",
       "  'avg_token_entropy_descendants-children': 0.4316911006806277,\n",
       "  'avg_token_entropy_descendants-full': 0.40095588414211814,\n",
       "  'avg_token_entropy_descendants-parents': 0.412468526225493,\n",
       "  'avg_token_entropy_descendants-siblings': 0.4211029458074651,\n",
       "  'avg_token_entropy_full-after': 0.2633786505412698,\n",
       "  'avg_token_entropy_full-ancestors': 0.2633786505412698,\n",
       "  'avg_token_entropy_full-before': 0.2633786505412698,\n",
       "  'avg_token_entropy_full-children': 0.2633786505412698,\n",
       "  'avg_token_entropy_full-descendants': 0.2633786505412698,\n",
       "  'avg_token_entropy_full-parents': 0.2633786505412698,\n",
       "  'avg_token_entropy_full-siblings': 0.2633786505412698,\n",
       "  'avg_token_entropy_parents-after': 0.3447214251916658,\n",
       "  'avg_token_entropy_parents-ancestors': 0.32762109295194225,\n",
       "  'avg_token_entropy_parents-before': 0.3447214251916658,\n",
       "  'avg_token_entropy_parents-children': 0.32904693516498795,\n",
       "  'avg_token_entropy_parents-descendants': 0.32508887660195473,\n",
       "  'avg_token_entropy_parents-full': 0.32762109295194225,\n",
       "  'avg_token_entropy_parents-siblings': 0.3447214251916658,\n",
       "  'avg_token_entropy_post-after': 0.5866538305915698,\n",
       "  'avg_token_entropy_post-ancestors': 0.5964890246085865,\n",
       "  'avg_token_entropy_post-before': 0.585133514963387,\n",
       "  'avg_token_entropy_post-children': 0.6686938869014236,\n",
       "  'avg_token_entropy_post-descendants': 0.6686938869014236,\n",
       "  'avg_token_entropy_post-full': 0.5475847809386082,\n",
       "  'avg_token_entropy_post-parents': 0.677382721120362,\n",
       "  'avg_token_entropy_post-siblings': 0.6732250363043593,\n",
       "  'avg_token_entropy_siblings-after': 0.3447214251916658,\n",
       "  'avg_token_entropy_siblings-ancestors': 0.32762109295194225,\n",
       "  'avg_token_entropy_siblings-before': 0.3447214251916658,\n",
       "  'avg_token_entropy_siblings-children': 0.32904693516498795,\n",
       "  'avg_token_entropy_siblings-descendants': 0.4211029458074651,\n",
       "  'avg_token_entropy_siblings-full': 0.32762109295194225,\n",
       "  'avg_token_entropy_siblings-parents': 0.3447214251916658},\n",
       " 'categorical': {'platform': '4chan', 'lang': 'en', 'author': 'Anonymous'}}"
      ]
     },
     "execution_count": 26,
     "metadata": {},
     "output_type": "execute_result"
    }
   ],
   "source": [
    "features = post_ft.transform(post, conv)\n",
    "\n",
    "for k, v in features.items():\n",
    "    if type(v) == dict:\n",
    "        print(k, ': ', len(v))\n",
    "\n",
    "features"
   ]
  },
  {
   "cell_type": "code",
   "execution_count": null,
   "id": "stunning-filing",
   "metadata": {},
   "outputs": [],
   "source": []
  }
 ],
 "metadata": {
  "kernelspec": {
   "display_name": "Python 3",
   "language": "python",
   "name": "python3"
  },
  "language_info": {
   "codemirror_mode": {
    "name": "ipython",
    "version": 3
   },
   "file_extension": ".py",
   "mimetype": "text/x-python",
   "name": "python",
   "nbconvert_exporter": "python",
   "pygments_lexer": "ipython3",
   "version": "3.7.6"
  }
 },
 "nbformat": 4,
 "nbformat_minor": 5
}
